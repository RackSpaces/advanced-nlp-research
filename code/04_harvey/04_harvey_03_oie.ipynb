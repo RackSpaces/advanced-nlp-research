{
 "cells": [
  {
   "cell_type": "markdown",
   "metadata": {},
   "source": [
    "<img src=\"http://hilpisch.com/tpq_logo.png\" width=\"36%\" align=\"right\" style=\"vertical-align: top;\">"
   ]
  },
  {
   "cell_type": "markdown",
   "metadata": {},
   "source": [
    "# Dow Jones DNA NLP Case Study\n",
    "\n",
    "_Based on news articles related to Hurricane Harvey._\n",
    "\n",
    "**Information Extraction**\n",
    "\n",
    "Dr Yves J Hilpisch | Michael Schwed\n",
    "\n",
    "The Python Quants GmbH"
   ]
  },
  {
   "cell_type": "markdown",
   "metadata": {},
   "source": [
    "## The Imports"
   ]
  },
  {
   "cell_type": 