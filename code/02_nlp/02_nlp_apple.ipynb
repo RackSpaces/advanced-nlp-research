{
 "cells": [
  {
   "cell_type": "markdown",
   "metadata": {},
   "source": [
    "<img src=\"http://hilpisch.com/tpq_logo.png\" width=\"36%\" align=\"right\" style=\"vertical-align: top;\">"
   ]
  },
  {
   "cell_type": "markdown",
   "metadata": {},
   "source": [
    "# Natural Language Processing\n",
    "\n",
    "**Basic Techniques and Algorithms**\n",
    "\n",
    "_Illustrated based on the texts from three Apple press releases._\n",
    "\n",
    "Dr Yves J Hilpisch | Michael Schwed\n",
    "\n",
    "The Python Quants GmbH"
   ]
  },
  {
   "cell_type": "markdown",
   "metadata": {},
   "source": [
    "## Data Retrieval"
   ]
  },
  {
   "cell_type": "code",
   "execution_count": 1,
   "metadata": {},
   "outputs": [],
   "source": [
    "import requests"
   ]
  },
  {
   "cell_type": "code",
   "execution_count": 2,
   "metadata": {},
   "outputs": [],
   "source": [
    "sources = [\n",
    "    'https://nr.apple.com/dE0b1T5G3u',  # iPad Pro\n",
    "    'https://nr.apple.com/dE4c7T6g1K',  # MacBook Air\n",
    "    'https://nr.apple.com/dE4q4r8A2A',  # Mac Mini\n",
    "]  "
   ]
  },
  {
   "cell_type": "code",
   "execution_count": 3,
   "metadata": {},
   "outputs": [],
   "source": [
    "html = [requests.get(url).text for url in sources]  "
   ]
  },
  {
   "cell_type": "markdown",
   "metadata": {},
   "source": [
    "## Preprocessing"
   ]
  },
  {
   "cell_type": "code",
   "execution_count": 4,
   "metadata": {},
   "outputs": [],
   "source": [
    "import sys\n",
    "sys.path.append('../../modules/')\n",
    "import nlp_functions as nlp  "
   ]
  },
  {
   "cell_type": "code",
   "execution_count": 5,
   "metadata": {},
   "outputs": [],
   "source": [
    "data = [nlp.clean_up_text(t) for t in html]  "
   ]
  },
  {
   "cell_type": "code",
   "execution_count": 6,
   "metadata": {},
   "outputs": [
    {
     "data": {
      "text/plain": [
       "'new ipad pro with all-screen designis most advanced, powerful ipad ever - apple open menu close menu apple shopping bag search apple.com cancel apple mac ipad iphone watch tv music support shopping bag newsroom open menu close menu archive press release october 30, 2018 new ipad pro with all-screen designis most advanced, powerful ipad ever 11-inch and 12.9-inch models feature liquid retina display, powerful a12x bionic chip and face id introducing the new ipad pro with all-screen design and nex'"
      ]
     },
     "execution_count": 6,
     "metadata": {},
     "output_type": "execute_result"
    }
   ],
   "source": [
    "data[0][:500]  "
   ]
  },
  {
   "cell_type": "markdown",
   "metadata": {},
   "source": [
    "## Basic Text Analysis"
   ]
  },
  {
   "cell_type": "code",
   "execution_count": 7,
   "metadata": {},
   "outputs": [],
   "source": [
    "import nltk"
   ]
  },
  {
   "cell_type": "code",
   "execution_count": 8,
   "metadata": {},
   "outputs": [
    {
     "data": {
      "text/plain": [
       "'3.2.5'"
      ]
     },
     "execution_count": 8,
     "metadata": {},
     "output_type": "execute_result"
    }
   ],
   "source": [
    "nltk.__version__"
   ]
  },
  {
   "cell_type": "code",
   "execution_count": 9,
   "metadata": {},
   "outputs": [],
   "source": [
    "# to be executed once\n",
    "# nltk.download('punkt')\n",
    "# nltk.download('wordnet')\n",
    "# nltk.download('stopwords')\n",
    "# nltk.download('vader_lexicon')"
   ]
  },
  {
   "cell_type": "markdown",
   "metadata": {},
   "source": [
    "### Basic Tokenization and Vocabulary"
   ]
  },
  {
   "cell_type": "code",
   "execution_count": 10,
   "metadata": {},
   "outputs": [],
   "source": [
    "t = 'A sentence about NLP; and about ML.'"
   ]
  },
  {
   "cell_type": "code",
   "execution_count": 11,
   "metadata": {},
   "outputs": [
    {
     "data": {
      "text/plain": [
       "['A', 'sentence', 'about', 'NLP', ';', 'and', 'about', 'ML', '.']"
      ]
     },
     "execution_count": 11,
     "metadata": {},
     "output_type": "execute_result"
    }
   ],
   "source": [
    "nltk.word_tokenize(t)"
   ]
  },
  {
   "cell_type": "code",
   "execution_count": 12,
   "metadata": {},
   "outputs": [
    {
     "data": {
      "text/plain": [
       "['new',\n",
       " 'ipad',\n",
       " 'pro',\n",
       " 'with',\n",
       " 'all-screen',\n",
       " 'designis',\n",
       " 'most',\n",
       " 'advanced',\n",
       " ',',\n",
       " 'powerful']"
      ]
     },
     "execution_count": 12,
     "metadata": {},
     "output_type": "execute_result"
    }
   ],
   "source": [
    "nltk.word_tokenize(data[0])[:10]  "
   ]
  },
  {
   "cell_type": "code",
   "execution_count": 13,
   "metadata": {},
   "outputs": [],
   "source": [
    "tokens = nltk.word_tokenize(' '.join(data))  "
   ]
  },
  {
   "cell_type": "code",
   "execution_count": 14,
   "metadata": {},
   "outputs": [],
   "source": [
    "text = nltk.Text(tokens)  "
   ]
  },
  {
   "cell_type": "code",
   "execution_count": 15,
   "metadata": {},
   "outputs": [
    {
     "data": {
      "text/plain": [
       "93"
      ]
     },
     "execution_count": 15,
     "metadata": {},
     "output_type": "execute_result"
    }
   ],
   "source": [
    "text.count('ipad')  "
   ]
  },
  {
   "cell_type": "code",
   "execution_count": 16,
   "metadata": {},
   "outputs": [
    {
     "data": {
      "text/plain": [
       "9"
      ]
     },
     "execution_count": 16,
     "metadata": {},
     "output_type": "execute_result"
    }
   ],
   "source": [
    "text.count('mojave')  "
   ]
  },
  {
   "cell_type": "code",
   "execution_count": 17,
   "metadata": {},
   "outputs": [
    {
     "name": "stdout",
     "output_type": "stream",
     "text": [
      "ipad pro; macbook air; mac mini; close menu; menu close; open menu;\n",
      "smart keyboard; keyboard folio; retina display; a12x bionic; macos\n",
      "mojave; security chip; battery life; apple pencil; liquid retina;\n",
      "apple store; first time; shopping bag; five times; space gray\n"
     ]
    }
   ],
   "source": [
    "text.collocations()  "
   ]
  },
  {
   "cell_type": "code",
   "execution_count": 18,
   "metadata": {},
   "outputs": [
    {
     "name": "stdout",
     "output_type": "stream",
     "text": [
      "memory a wireless more viewer efficiency other latest\n"
     ]
    }
   ],
   "source": [
    "text.similar('performance')  "
   ]
  },
  {
   "cell_type": "code",
   "execution_count": 19,
   "metadata": {},
   "outputs": [
    {
     "name": "stdout",
     "output_type": "stream",
     "text": [
      "new_pro to_pro for_pro\n"
     ]
    }
   ],
   "source": [
    "text.common_contexts(['ipad', 'macbook'])  "
   ]
  },
  {
   "cell_type": "code",
   "execution_count": 20,
   "metadata": {},
   "outputs": [
    {
     "data": {
      "text/plain": [
       "FreqDist({'new': 99,\n",
       "          'ipad': 93,\n",
       "          'pro': 73,\n",
       "          'with': 85,\n",
       "          'all-screen': 6,\n",
       "          'designis': 3,\n",
       "          'most': 23,\n",
       "          'advanced': 13,\n",
       "          ',': 344,\n",
       "          'powerful': 19,\n",
       "          'ever': 21,\n",
       "          '-': 3,\n",
       "          'apple': 138,\n",
       "          'open': 27,\n",
       "          'menu': 54,\n",
       "          'close': 27,\n",
       "          'shopping': 9,\n",
       "          'bag': 6,\n",
       "          'search': 3,\n",
       "          'apple.com': 19,\n",
       "          'cancel': 3,\n",
       "          'mac': 58,\n",
       "          'iphone': 13,\n",
       "          'watch': 9,\n",
       "          'tv': 9,\n",
       "          'music': 11,\n",
       "          'support': 12,\n",
       "          'newsroom': 12,\n",
       "          'archive': 3,\n",
       "          'press': 6,\n",
       "          'release': 3,\n",
       "          'october': 5,\n",
       "          '30': 6,\n",
       "          '2018': 9,\n",
       "          '11-inch': 9,\n",
       "          'and': 253,\n",
       "          '12.9-inch': 9,\n",
       "          'models': 5,\n",
       "          'feature': 3,\n",
       "          'liquid': 7,\n",
       "          'retina': 13,\n",
       "          'display': 20,\n",
       "          'a12x': 8,\n",
       "          'bionic': 8,\n",
       "          'chip': 16,\n",
       "          'face': 10,\n",
       "          'id': 20,\n",
       "          'introducing': 2,\n",
       "          'the': 232,\n",
       "          'design': 19,\n",
       "          'next-generation': 7,\n",
       "          'performance': 25,\n",
       "          '.': 170,\n",
       "          'york': 3,\n",
       "          'today': 15,\n",
       "          'introduced': 2,\n",
       "          'marking': 1,\n",
       "          'biggest': 1,\n",
       "          'change': 1,\n",
       "          'to': 125,\n",
       "          'all-new': 14,\n",
       "          'pushes': 1,\n",
       "          'displays': 6,\n",
       "          'edges': 2,\n",
       "          'of': 69,\n",
       "          'integrates': 1,\n",
       "          'securely': 2,\n",
       "          'unlock': 4,\n",
       "          'just': 8,\n",
       "          'a': 83,\n",
       "          'glance.1': 1,\n",
       "          'neural': 4,\n",
       "          'engine': 5,\n",
       "          'in': 58,\n",
       "          'outperforms': 2,\n",
       "          'pc': 1,\n",
       "          'laptops': 2,\n",
       "          'offers': 4,\n",
       "          'usb-c': 11,\n",
       "          'connector': 5,\n",
       "          'gigabit-class': 1,\n",
       "          'lte': 1,\n",
       "          'up': 30,\n",
       "          '1tb': 4,\n",
       "          'storage': 11,\n",
       "          'enable': 4,\n",
       "          'mobile': 3,\n",
       "          'workflows.2': 1,\n",
       "          'over': 6,\n",
       "          'million': 3,\n",
       "          'apps': 19,\n",
       "          'designed': 5,\n",
       "          'take': 7,\n",
       "          'advantage': 5,\n",
       "          'large': 6,\n",
       "          'multi-touch': 1,\n",
       "          'including': 17,\n",
       "          'like': 9,\n",
       "          'photoshop': 1,\n",
       "          'cc': 1,\n",
       "          'on': 36,\n",
       "          '(': 21,\n",
       "          'coming': 3,\n",
       "          '2019': 2,\n",
       "          ')': 21,\n",
       "          'will': 11,\n",
       "          'push': 2,\n",
       "          'what': 1,\n",
       "          'users': 10,\n",
       "          'can': 12,\n",
       "          'do': 2,\n",
       "          'computer': 4,\n",
       "          'further': 3,\n",
       "          'than': 23,\n",
       "          'before': 3,\n",
       "          'designs': 2,\n",
       "          'second-generation': 2,\n",
       "          'pencil': 12,\n",
       "          'magnetically': 2,\n",
       "          'attaches': 2,\n",
       "          'wirelessly': 2,\n",
       "          'charges': 1,\n",
       "          'at': 19,\n",
       "          'same': 8,\n",
       "          'time': 11,\n",
       "          'touch': 15,\n",
       "          'sensor': 2,\n",
       "          'built': 6,\n",
       "          'onto': 1,\n",
       "          'detects': 1,\n",
       "          'taps': 1,\n",
       "          'an': 27,\n",
       "          'entirely': 1,\n",
       "          'way': 1,\n",
       "          'interact': 1,\n",
       "          'within': 2,\n",
       "          'smart': 14,\n",
       "          'keyboard': 19,\n",
       "          'folio': 15,\n",
       "          'features': 25,\n",
       "          'streamlined': 2,\n",
       "          'thats': 3,\n",
       "          'adjustable': 3,\n",
       "          'for': 97,\n",
       "          'added': 4,\n",
       "          'versatility': 3,\n",
       "          'are': 19,\n",
       "          'available': 20,\n",
       "          'order': 8,\n",
       "          'starting': 9,\n",
       "          'stores': 4,\n",
       "          'wednesday': 5,\n",
       "          'november': 5,\n",
       "          '7.': 3,\n",
       "          'offer': 2,\n",
       "          'take-anywhere': 1,\n",
       "          'power': 9,\n",
       "          'is': 39,\n",
       "          'huge': 4,\n",
       "          'step': 1,\n",
       "          'forward': 1,\n",
       "          'creative': 3,\n",
       "          'computing': 2,\n",
       "          ';': 2,\n",
       "          'it': 17,\n",
       "          'has': 9,\n",
       "          'thinner': 4,\n",
       "          'speeds': 2,\n",
       "          'through': 8,\n",
       "          'projects': 1,\n",
       "          'super-fast': 1,\n",
       "          'unlocks': 1,\n",
       "          'glance': 1,\n",
       "          'using': 10,\n",
       "          'any': 8,\n",
       "          'orientation': 2,\n",
       "          'while': 3,\n",
       "          'youre': 1,\n",
       "          'sitting': 1,\n",
       "          'or': 25,\n",
       "          'standing': 1,\n",
       "          'your': 16,\n",
       "          'desk': 2,\n",
       "          'lap': 2,\n",
       "          'said': 3,\n",
       "          'philip': 3,\n",
       "          'schiller': 3,\n",
       "          'apples': 11,\n",
       "          'senior': 3,\n",
       "          'vice': 3,\n",
       "          'president': 3,\n",
       "          'worldwide': 3,\n",
       "          'marketing': 3,\n",
       "          'there': 1,\n",
       "          'never': 2,\n",
       "          'been': 3,\n",
       "          'device': 9,\n",
       "          'anything': 3,\n",
       "          'gorgeous': 3,\n",
       "          'edge-to-edge': 3,\n",
       "          'that': 20,\n",
       "          'curves': 2,\n",
       "          'into': 10,\n",
       "          'corners': 4,\n",
       "          'breakthrough': 5,\n",
       "          'cameras': 4,\n",
       "          'sensors': 3,\n",
       "          'best': 9,\n",
       "          'ar': 10,\n",
       "          'experiences': 7,\n",
       "          'high-speed': 1,\n",
       "          'louder': 2,\n",
       "          'speakers': 3,\n",
       "          'faster': 24,\n",
       "          'wireless': 4,\n",
       "          'more': 52,\n",
       "          'all': 21,\n",
       "          'packed': 3,\n",
       "          'all-day': 4,\n",
       "          'battery': 9,\n",
       "          'life': 10,\n",
       "          '25': 4,\n",
       "          'percent': 19,\n",
       "          'smaller': 3,\n",
       "          'volume': 2,\n",
       "          'stunning': 7,\n",
       "          'rounded': 3,\n",
       "          'worlds': 5,\n",
       "          'follow': 2,\n",
       "          'pros': 3,\n",
       "          'unibody': 1,\n",
       "          'enclosure': 8,\n",
       "          'precision-milled': 1,\n",
       "          'glass': 1,\n",
       "          'pixel': 1,\n",
       "          'masking': 1,\n",
       "          'sub-pixel': 1,\n",
       "          'antialiasing': 1,\n",
       "          'backlight': 1,\n",
       "          'brightest': 1,\n",
       "          'color': 4,\n",
       "          'accurate': 3,\n",
       "          'featuring': 6,\n",
       "          'wide': 4,\n",
       "          'true': 1,\n",
       "          'tone': 1,\n",
       "          'anti-reflective': 1,\n",
       "          'coating': 1,\n",
       "          'natural': 1,\n",
       "          'viewing': 2,\n",
       "          'experience': 4,\n",
       "          'indoors': 1,\n",
       "          'out': 1,\n",
       "          'promotion': 1,\n",
       "          'technology': 6,\n",
       "          'automatically': 4,\n",
       "          'adjusts': 2,\n",
       "          'refresh': 1,\n",
       "          'rate': 1,\n",
       "          '120hz': 1,\n",
       "          'ultra-smooth': 1,\n",
       "          'scrolling': 1,\n",
       "          'incredible': 3,\n",
       "          'responsiveness': 1,\n",
       "          'easily': 3,\n",
       "          'content': 5,\n",
       "          'viewer': 1,\n",
       "          'packs': 5,\n",
       "          'bigger': 1,\n",
       "          'pixels': 3,\n",
       "          'footprint': 5,\n",
       "          'as': 16,\n",
       "          '10.5-inch': 1,\n",
       "          'model': 6,\n",
       "          'yet': 2,\n",
       "          'still': 2,\n",
       "          'weighs': 1,\n",
       "          'one': 1,\n",
       "          'pound': 2,\n",
       "          'places': 1,\n",
       "          'largest': 1,\n",
       "          'portable': 8,\n",
       "          'package': 1,\n",
       "          'massive': 2,\n",
       "          'reduction': 1,\n",
       "          'volume.3': 1,\n",
       "          'both': 2,\n",
       "          '5.9': 2,\n",
       "          'mm': 3,\n",
       "          'thin': 4,\n",
       "          'thinnest': 2,\n",
       "          'making': 9,\n",
       "          'now': 18,\n",
       "          'even': 11,\n",
       "          'easier': 1,\n",
       "          'you': 11,\n",
       "          'specifically': 2,\n",
       "          'smartest': 2,\n",
       "          'tablet': 4,\n",
       "          'demanding': 2,\n",
       "          'tasks': 4,\n",
       "          'editing': 7,\n",
       "          'photos': 4,\n",
       "          'creating': 4,\n",
       "          '3d': 3,\n",
       "          'responsive': 2,\n",
       "          'industry-leading': 2,\n",
       "          'seven-nanometer': 1,\n",
       "          'eight-core': 1,\n",
       "          'four': 9,\n",
       "          'cores': 3,\n",
       "          'efficiency': 1,\n",
       "          '35': 1,\n",
       "          'single-core': 1,\n",
       "          'controller': 3,\n",
       "          'simultaneous': 1,\n",
       "          'use': 12,\n",
       "          'eight': 1,\n",
       "          '90': 1,\n",
       "          'boost': 2,\n",
       "          'during': 4,\n",
       "          'multi-threaded': 1,\n",
       "          'tasks.3': 1,\n",
       "          'seven-core': 1,\n",
       "          'apple-designed': 6,\n",
       "          'gpu': 1,\n",
       "          'delivers': 8,\n",
       "          'twice': 3,\n",
       "          'graphics': 12,\n",
       "          'incredibly': 3,\n",
       "          'rich': 3,\n",
       "          'immersive': 3,\n",
       "          'console-quality': 1,\n",
       "          'capability': 1,\n",
       "          'lasts': 1,\n",
       "          'day': 1,\n",
       "          'thanks': 1,\n",
       "          'great': 1,\n",
       "          '10-hour': 1,\n",
       "          'life.4': 1,\n",
       "          'machine': 3,\n",
       "          'learning': 3,\n",
       "          'everything': 3,\n",
       "          'from': 16,\n",
       "          'photography': 1,\n",
       "          'completing': 1,\n",
       "          '5': 1,\n",
       "          'trillion': 1,\n",
       "          'operations': 1,\n",
       "          'per': 1,\n",
       "          'second': 2,\n",
       "          'this': 5,\n",
       "          'enables': 4,\n",
       "          'fast': 6,\n",
       "          'plane': 1,\n",
       "          'detection': 1,\n",
       "          'other': 3,\n",
       "          'real-time': 1,\n",
       "          'deliver': 3,\n",
       "          'improved': 4,\n",
       "          'core': 6,\n",
       "          'ml': 1,\n",
       "          'empowering': 1,\n",
       "          'developers': 4,\n",
       "          'build': 2,\n",
       "          'workflows': 5,\n",
       "          'utilize': 1,\n",
       "          'highly': 1,\n",
       "          'efficient': 2,\n",
       "          'comes': 8,\n",
       "          'secure': 11,\n",
       "          'facial': 2,\n",
       "          'authentication': 2,\n",
       "          'system': 6,\n",
       "          'first': 8,\n",
       "          'work': 3,\n",
       "          'holding': 1,\n",
       "          'position': 1,\n",
       "          'seated': 1,\n",
       "          'takes': 5,\n",
       "          'truedepth': 2,\n",
       "          'camera': 3,\n",
       "          'accurately': 1,\n",
       "          'map': 4,\n",
       "          'recognize': 1,\n",
       "          'pay': 6,\n",
       "          'online': 4,\n",
       "          'allow': 4,\n",
       "          'gain': 1,\n",
       "          'access': 2,\n",
       "          'also': 16,\n",
       "          'animoji': 2,\n",
       "          'memoji': 2,\n",
       "          'four-speaker': 2,\n",
       "          'audio': 9,\n",
       "          'combine': 1,\n",
       "          'turn': 2,\n",
       "          'its': 6,\n",
       "          'viewfinder': 2,\n",
       "          'next': 2,\n",
       "          'generation': 12,\n",
       "          'world': 7,\n",
       "          'possible': 1,\n",
       "          'such': 1,\n",
       "          'measuring': 2,\n",
       "          'reflection': 1,\n",
       "          'real-world': 1,\n",
       "          'objects': 1,\n",
       "          'navigating': 1,\n",
       "          'buildings': 1,\n",
       "          'exploring': 1,\n",
       "          'entire': 2,\n",
       "          'universes': 1,\n",
       "          'adobes': 1,\n",
       "          'project': 1,\n",
       "          'aero': 1,\n",
       "          'creators': 1,\n",
       "          'purchase': 2,\n",
       "          'separately': 1,\n",
       "          'give': 3,\n",
       "          'levels': 1,\n",
       "          'precision': 1,\n",
       "          'productivity': 1,\n",
       "          'pairing': 1,\n",
       "          'charging': 2,\n",
       "          'becomes': 1,\n",
       "          'intuitive': 1,\n",
       "          'select': 2,\n",
       "          'right': 2,\n",
       "          'tool': 1,\n",
       "          'brush': 1,\n",
       "          'simple': 5,\n",
       "          'double': 2,\n",
       "          'tap': 2,\n",
       "          'notes': 1,\n",
       "          'leading': 1,\n",
       "          'adobe': 3,\n",
       "          'autodesk': 1,\n",
       "          'procreate': 1,\n",
       "          'be': 13,\n",
       "          'gives': 1,\n",
       "          'ability': 2,\n",
       "          'productive': 1,\n",
       "          'protects': 2,\n",
       "          'front': 1,\n",
       "          'back': 1,\n",
       "          'light': 1,\n",
       "          'encompassing': 1,\n",
       "          'full-size': 1,\n",
       "          'needs': 1,\n",
       "          'charged': 1,\n",
       "          'paired': 1,\n",
       "          'perfect': 4,\n",
       "          'getting': 1,\n",
       "          'thoughts': 1,\n",
       "          'down': 1,\n",
       "          'multitasking': 2,\n",
       "          'possibilities': 1,\n",
       "          'replaces': 1,\n",
       "          'lightning': 1,\n",
       "          'ways': 5,\n",
       "          'used': 3,\n",
       "          'versatile': 3,\n",
       "          'supports': 1,\n",
       "          'usb': 2,\n",
       "          '3.1': 1,\n",
       "          'gen': 1,\n",
       "          '2': 4,\n",
       "          'high-bandwidth': 1,\n",
       "          'data': 8,\n",
       "          'transfers': 1,\n",
       "          'speed': 4,\n",
       "          'musical': 2,\n",
       "          'instruments': 1,\n",
       "          'drives': 1,\n",
       "          'external': 2,\n",
       "          '5k': 3,\n",
       "          'charge': 3,\n",
       "          'ios': 8,\n",
       "          '12': 5,\n",
       "          'brings': 2,\n",
       "          'gestures': 1,\n",
       "          'already': 1,\n",
       "          'familiar': 3,\n",
       "          'x': 1,\n",
       "          'xs': 1,\n",
       "          'wake': 1,\n",
       "          'swiping': 1,\n",
       "          'go': 3,\n",
       "          'home': 3,\n",
       "          'control': 1,\n",
       "          'center': 1,\n",
       "          'shortcuts': 1,\n",
       "          'app': 13,\n",
       "          'helps': 2,\n",
       "          'link': 1,\n",
       "          'together': 2,\n",
       "          'automated': 1,\n",
       "          'photo': 3,\n",
       "          'video': 12,\n",
       "          'file': 1,\n",
       "          'asset': 1,\n",
       "          'management': 1,\n",
       "          'improvements': 1,\n",
       "          'import': 1,\n",
       "          'native': 1,\n",
       "          'raw': 1,\n",
       "          'image': 1,\n",
       "          'photographers': 1,\n",
       "          'multitask': 1,\n",
       "          'group': 5,\n",
       "          'facetime': 7,\n",
       "          'makes': 4,\n",
       "          'easy': 2,\n",
       "          'connect': 7,\n",
       "          'groups': 4,\n",
       "          'friends': 3,\n",
       "          'colleagues': 2,\n",
       "          'participants': 1,\n",
       "          'join': 3,\n",
       "          'later': 2,\n",
       "          'if': 2,\n",
       "          'conversation': 1,\n",
       "          'active': 1,\n",
       "          'choose': 1,\n",
       "          'customizable': 1,\n",
       "          'screen': 3,\n",
       "          'add': 1,\n",
       "          'personality': 1,\n",
       "          'videos': 2,\n",
       "          'messages': 1,\n",
       "          'pricing': 3,\n",
       "          'availability': 4,\n",
       "          'silver': 3,\n",
       "          'space': 5,\n",
       "          'gray': 5,\n",
       "          'finishes': 2,\n",
       "          '64gb': 6,\n",
       "          '256gb': 2,\n",
       "          '512gb': 1,\n",
       "          'configurations': 1,\n",
       "          'well': 3,\n",
       "          'option': 6,\n",
       "          'starts': 2,\n",
       "          '$': 11,\n",
       "          '799': 2,\n",
       "          'us': 10,\n",
       "          'wi-fi': 4,\n",
       "          '949': 1,\n",
       "          '+': 2,\n",
       "          'cellular': 2,\n",
       "          '999': 1,\n",
       "          '1,149': 1,\n",
       "          'store': 26,\n",
       "          'locations': 3,\n",
       "          'authorized': 4,\n",
       "          'resellers': 4,\n",
       "          'carriers': 1,\n",
       "          'prices': 1,\n",
       "          'may': 2,\n",
       "          'vary': 2,\n",
       "          '7': 1,\n",
       "          '40': 1,\n",
       "          'additional': 4,\n",
       "          'countries': 2,\n",
       "          'regions': 2,\n",
       "          'australia': 1,\n",
       "          'austria': 1,\n",
       "          'belgium': 1,\n",
       "          'bulgaria': 1,\n",
       "          'canada': 1,\n",
       "          'china': 1,\n",
       "          'croatia': 1,\n",
       "          'czech': 1,\n",
       "          'republic': 1,\n",
       "          'denmark': 1,\n",
       "          'estonia': 1,\n",
       "          'finland': 1,\n",
       "          'france': 1,\n",
       "          'germany': 1,\n",
       "          'hong': 1,\n",
       "          'kong': 1,\n",
       "          'hungary': 1,\n",
       "          'iceland': 1,\n",
       "          'ireland': 1,\n",
       "          'isle': 1,\n",
       "          'man': 1,\n",
       "          'italy': 1,\n",
       "          'japan': 1,\n",
       "          'jersey': 1,\n",
       "          'latvia': 1,\n",
       "          'lithuania': 1,\n",
       "          'luxembourg': 1,\n",
       "          'macau': 1,\n",
       "          'monaco': 1,\n",
       "          'netherlands': 1,\n",
       "          'zealand': 1,\n",
       "          'norway': 1,\n",
       "          'poland': 1,\n",
       "          'portugal': 1,\n",
       "          'puerto': 1,\n",
       "          'rico': 1,\n",
       "          'romania': 1,\n",
       "          'singapore': 1,\n",
       "          'slovakia': 1,\n",
       "          'slovenia': 1,\n",
       "          'spain': 1,\n",
       "          'sweden': 1,\n",
       "          'switzerland': 1,\n",
       "          'uae': 1,\n",
       "          'uk': 1,\n",
       "          'year': 1,\n",
       "          'colombia': 1,\n",
       "          'greece': 1,\n",
       "          'greenland': 1,\n",
       "          'guatemala': 1,\n",
       "          'india': 1,\n",
       "          'israel': 1,\n",
       "          'liechtenstein': 1,\n",
       "          'malaysia': 1,\n",
       "          'macedonia': 1,\n",
       "          'mexico': 1,\n",
       "          'morocco': 1,\n",
       "          'peru': 1,\n",
       "          'qatar': 1,\n",
       "          'russia': 1,\n",
       "          'thailand': 1,\n",
       "          'turkey': 1,\n",
       "          'saudi': 1,\n",
       "          'arabia': 1,\n",
       "          'south': 1,\n",
       "          'africa': 1,\n",
       "          '129': 1,\n",
       "          '179': 1,\n",
       "          '199': 1,\n",
       "          'layouts': 1,\n",
       "          'languages': 1,\n",
       "          'simplified': 1,\n",
       "          'chinese': 1,\n",
       "          'french': 1,\n",
       "          'german': 1,\n",
       "          'japanese': 1,\n",
       "          'spanish': 1,\n",
       "          'protective': 1,\n",
       "          'polyurethane': 1,\n",
       "          'variety': 1,\n",
       "          'colors': 2,\n",
       "          '79': 1,\n",
       "          '99': 1,\n",
       "          'assortment': 1,\n",
       "          'accessories': 7,\n",
       "          'adapters': 1,\n",
       "          'cables': 1,\n",
       "          'sd': 1,\n",
       "          'card': 2,\n",
       "          'reader': 1,\n",
       "          '3.5': 1,\n",
       "          'headphone': 1,\n",
       "          'jack': 3,\n",
       "          'adapter': 1,\n",
       "          'giveback': 1,\n",
       "          'customers': 5,\n",
       "          'trade': 1,\n",
       "          'their': 5,\n",
       "          'eligible': 2,\n",
       "          'gift': 4,\n",
       "          'partial': 1,\n",
       "          'refund': 1,\n",
       "          'isnt': 1,\n",
       "          'credit': 1,\n",
       "          'recycle': 1,\n",
       "          'free': 3,\n",
       "          'every': 3,\n",
       "          'customer': 1,\n",
       "          'who': 2,\n",
       "          'buys': 1,\n",
       "          'enjoy': 1,\n",
       "          'personal': 4,\n",
       "          'setup': 1,\n",
       "          'in-store': 1,\n",
       "          'receive': 1,\n",
       "          'guidance': 1,\n",
       "          'how': 1,\n",
       "          'customize': 1,\n",
       "          'set': 2,\n",
       "          'email': 1,\n",
       "          'find': 7,\n",
       "          'anyone': 1,\n",
       "          'wants': 1,\n",
       "          'learn': 4,\n",
       "          'sign': 1,\n",
       "          'sessions': 1,\n",
       "          'apple.com/today': 1,\n",
       "          'media': 6,\n",
       "          'images': 6,\n",
       "          'download': 3,\n",
       "          'revolutionized': 4,\n",
       "          'introduction': 3,\n",
       "          'macintosh': 3,\n",
       "          '1984.': 3,\n",
       "          'leads': 3,\n",
       "          'innovation': 3,\n",
       "          'software': 7,\n",
       "          'platforms': 3,\n",
       "          'macos': 12,\n",
       "          'watchos': 3,\n",
       "          'tvos': 3,\n",
       "          'provide': 3,\n",
       "          'seamless': 3,\n",
       "          'across': 3,\n",
       "          'devices': 7,\n",
       "          'empower': 3,\n",
       "          'people': 3,\n",
       "          'services': 3,\n",
       "          'icloud': 3,\n",
       "          '100,000': 3,\n",
       "          'employees': 3,\n",
       "          'dedicated': 3,\n",
       "          'products': 3,\n",
       "          'earth': 3,\n",
       "          'leaving': 3,\n",
       "          'better': 4,\n",
       "          'we': 4,\n",
       "          'found': 3,\n",
       "          '1': 3,\n",
       "          'have': 1,\n",
       "          'when': 2,\n",
       "          'measured': 1,\n",
       "          'rectangle': 1,\n",
       "          '12.9': 1,\n",
       "          'inches': 3,\n",
       "          'diagonally': 2,\n",
       "          '11': 1,\n",
       "          'actual': 2,\n",
       "          'viewable': 1,\n",
       "          'area': 1,\n",
       "          'less': 2,\n",
       "          '92': 1,\n",
       "          'pcs': 1,\n",
       "          'sold': 1,\n",
       "          'between': 1,\n",
       "          'june': 1,\n",
       "          '2017-june': 1,\n",
       "          'npd': 1,\n",
       "          '3': 15,\n",
       "          'compared': 1,\n",
       "          'previous': 8,\n",
       "          '4': 4,\n",
       "          'depends': 1,\n",
       "          'settings': 1,\n",
       "          'usage': 1,\n",
       "          'factors': 1,\n",
       "          'results': 1,\n",
       "          'contacts': 3,\n",
       "          'andy': 1,\n",
       "          'bowman': 1,\n",
       "          'abowman': 1,\n",
       "          '@': 9,\n",
       "          '408': 9,\n",
       "          '783-0619': 1,\n",
       "          'hannah': 1,\n",
       "          'wong-silva': 1,\n",
       "          'hannahw': 1,\n",
       "          '974-7077': 1,\n",
       "          'helpline': 3,\n",
       "          'media.help': 3,\n",
       "          '974-2042': 3,\n",
       "          'latest': 10,\n",
       "          'news': 5,\n",
       "          'journalists': 3,\n",
       "          'read': 3,\n",
       "          'footer': 3,\n",
       "          'shop': 12,\n",
       "          'itunes': 4,\n",
       "          'homepod': 3,\n",
       "          'ipod': 3,\n",
       "          'cards': 3,\n",
       "          'genius': 3,\n",
       "          'bar': 3,\n",
       "          'camp': 3,\n",
       "          'field': 3,\n",
       "          'trip': 3,\n",
       "          'refurbished': 3,\n",
       "          'clearance': 3,\n",
       "          'financing': 3,\n",
       "          'applegiveback': 3,\n",
       "          'status': 3,\n",
       "          'help': 4,\n",
       "          'education': 9,\n",
       "          'college': 3,\n",
       "          'business': 9,\n",
       "          'account': 6,\n",
       "          'manage': 3,\n",
       "          'icloud.com': 3,\n",
       "          'values': 3,\n",
       "          'accessibility': 3,\n",
       "          'environment': 3,\n",
       "          'inclusion': 3,\n",
       "          'diversity': 3,\n",
       "          'privacy': 6,\n",
       "          'supplier': 3,\n",
       "          'responsibility': 3,\n",
       "          'about': 3,\n",
       "          'leadership': 3,\n",
       "          'job': 4,\n",
       "          'opportunities': 3,\n",
       "          'investors': 3,\n",
       "          'events': 3,\n",
       "          'contact': 3,\n",
       "          ':': 3,\n",
       "          'visit': 3,\n",
       "          'call': 3,\n",
       "          '1-800-my-apple': 3,\n",
       "          'reseller': 3,\n",
       "          'united': 3,\n",
       "          'states': 3,\n",
       "          'copyright': 3,\n",
       "          'inc.': 3,\n",
       "          'rights': 3,\n",
       "          'reserved': 3,\n",
       "          'policy': 3,\n",
       "          'terms': 3,\n",
       "          'sales': 3,\n",
       "          'refunds': 3,\n",
       "          'legal': 3,\n",
       "          'site': 3,\n",
       "          'macbook': 45,\n",
       "          'air': 38,\n",
       "          'flight': 3,\n",
       "          'macbookair': 1,\n",
       "          '13-inch': 2,\n",
       "          'processors': 9,\n",
       "          'bringing': 1,\n",
       "          'loved': 3,\n",
       "          'notebook': 8,\n",
       "          'delivering': 2,\n",
       "          'known': 1,\n",
       "          'three': 5,\n",
       "          'gold': 2,\n",
       "          'affordable': 1,\n",
       "          'retina-display': 1,\n",
       "          'includes': 5,\n",
       "          'spacious': 1,\n",
       "          'force': 3,\n",
       "          'trackpad': 5,\n",
       "          'ssds': 3,\n",
       "          'stereo': 2,\n",
       "          'sound': 3,\n",
       "          't2': 15,\n",
       "          'security': 11,\n",
       "          'thunderbolt': 15,\n",
       "          'everywhere': 1,\n",
       "          'wedge-shaped': 2,\n",
       "          'aluminum': 10,\n",
       "          'forever': 1,\n",
       "          'changed': 1,\n",
       "          'industry': 1,\n",
       "          'computers': 2,\n",
       "          'became': 1,\n",
       "          'redesigning': 1,\n",
       "          'started': 1,\n",
       "          'then': 1,\n",
       "          'third-generation': 2,\n",
       "          'high': 2,\n",
       "          'ports': 10,\n",
       "          'course': 1,\n",
       "          'mojave': 9,\n",
       "          'beautiful': 3,\n",
       "          'lighter': 2,\n",
       "          'all-aluminum': 1,\n",
       "          'whole': 4,\n",
       "          'going': 2,\n",
       "          'love': 1,\n",
       "          '13.3-inch': 1,\n",
       "          'resolution': 3,\n",
       "          'so': 5,\n",
       "          'text': 2,\n",
       "          'look': 3,\n",
       "          'sharp': 2,\n",
       "          '48': 2,\n",
       "          'lifelike': 1,\n",
       "          'ever.1': 2,\n",
       "          'built-in': 1,\n",
       "          'hd': 1,\n",
       "          'which': 9,\n",
       "          'calls': 2,\n",
       "          'family': 1,\n",
       "          'microphone': 1,\n",
       "          'array': 1,\n",
       "          'quality': 2,\n",
       "          'voice': 4,\n",
       "          'recognition': 1,\n",
       "          'siri': 3,\n",
       "          'detailed': 1,\n",
       "          'fingerprint': 1,\n",
       "          'allows': 2,\n",
       "          'conveniently': 1,\n",
       "          'instantly': 2,\n",
       "          'authenticate': 2,\n",
       "          'identity': 2,\n",
       "          'make': 4,\n",
       "          'purchases': 2,\n",
       "          'far': 1,\n",
       "          't2s': 1,\n",
       "          'enclave': 2,\n",
       "          'information': 4,\n",
       "          'ensures': 2,\n",
       "          'loaded': 2,\n",
       "          'boot': 4,\n",
       "          'process': 3,\n",
       "          'not': 2,\n",
       "          'tampered': 2,\n",
       "          'ssd': 7,\n",
       "          'on-the-fly': 3,\n",
       "          'encryption': 3,\n",
       "          'stored': 2,\n",
       "          'these': 4,\n",
       "          'always-on': 1,\n",
       "          'processor': 2,\n",
       "          'hey': 1,\n",
       "          'lets': 2,\n",
       "          'requests': 1,\n",
       "          'things': 1,\n",
       "          'finding': 1,\n",
       "          'files': 6,\n",
       "          'opening': 3,\n",
       "          'allowing': 1,\n",
       "          'industrys': 1,\n",
       "          'precise': 1,\n",
       "          'typing': 1,\n",
       "          'each': 2,\n",
       "          'key': 1,\n",
       "          'individually': 1,\n",
       "          'backlit': 1,\n",
       "          'low-power': 1,\n",
       "          'leds': 1,\n",
       "          'illumination': 1,\n",
       "          'industry-best': 1,\n",
       "          'pressure-sensing': 1,\n",
       "          'capabilities': 1,\n",
       "          'haptic': 1,\n",
       "          'feedback': 1,\n",
       "          '20': 1,\n",
       "          'larger': 3,\n",
       "          'offering': 1,\n",
       "          'quieter': 1,\n",
       "          'capable': 2,\n",
       "          'fuller': 2,\n",
       "          'processing': 1,\n",
       "          'higher': 3,\n",
       "          'playback': 1,\n",
       "          'watching': 1,\n",
       "          'movies': 1,\n",
       "          'listening': 1,\n",
       "          'two': 5,\n",
       "          'times': 10,\n",
       "          'bass': 1,\n",
       "          'dynamic': 1,\n",
       "          'range': 1,\n",
       "          'sound.1': 1,\n",
       "          'daily': 1,\n",
       "          'activities': 2,\n",
       "          '8th': 1,\n",
       "          'intel': 7,\n",
       "          'i5': 1,\n",
       "          'uhd': 2,\n",
       "          '2133': 1,\n",
       "          'mhz': 2,\n",
       "          'memory': 9,\n",
       "          '16gb': 2,\n",
       "          'need': 2,\n",
       "          'everyday': 1,\n",
       "          'organizing': 2,\n",
       "          'browsing': 3,\n",
       "          'web': 4,\n",
       "          'presentations': 2,\n",
       "          '1.5tb': 1,\n",
       "          'capacity': 2,\n",
       "          '60': 2,\n",
       "          'launching': 1,\n",
       "          'feel': 1,\n",
       "          'snappier': 1,\n",
       "          'responsive.1': 1,\n",
       "          'port': 4,\n",
       "          'quickly': 3,\n",
       "          'transfer': 2,\n",
       "          'via': 1,\n",
       "          'output': 2,\n",
       "          'formats': 2,\n",
       "          'host': 2,\n",
       "          'docks': 1,\n",
       "          '4k': 2,\n",
       "          'egpus': 1,\n",
       "          '700': 1,\n",
       "          'ecosystem': 1,\n",
       "          'growing': 1,\n",
       "          'along': 1,\n",
       "          'thousands': 2,\n",
       "          'greenest': 2,\n",
       "          'distinct': 1,\n",
       "          ...})"
      ]
     },
     "execution_count": 20,
     "metadata": {},
     "output_type": "execute_result"
    }
   ],
   "source": [
    "text.vocab()  "
   ]
  },
  {
   "cell_type": "code",
   "execution_count": 21,
   "metadata": {},
   "outputs": [
    {
     "name": "stdout",
     "output_type": "stream",
     "text": [
      "Displaying 7 of 45 matches:\n",
      "refunds legal site map all-new macbook air takes flight - apple open \n",
      "acbookair takes flight all-new macbook air features 13-inch retina di\n",
      "le today introduced an all-new macbook air , bringing a stunning 13-i\n",
      "y life its known for , the new macbook air is available in three gorg\n",
      "thunderbolt 3 , making the new macbook air the perfect notebook to ta\n",
      " everywhere you go . the first macbook air revolutionized mac with it\n",
      "ldwide marketing . redesigning macbook air started with a stunning re\n"
     ]
    }
   ],
   "source": [
    "text.concordance('macbook', width=70, lines=7)"
   ]
  },
  {
   "cell_type": "code",
   "execution_count": 22,
   "metadata": {},
   "outputs": [
    {
     "name": "stdout",
     "output_type": "stream",
     "text": [
      "Displaying 7 of 9 matches:\n",
      "t 3 ports , and of course macos mojave in a beautiful , thinner , ligh\n",
      "ion so text and images in macos mojave look sharp and stunning . and w\n",
      "and rendering workloads.1 macos mojave all new macs come with macos mo\n",
      "ve all new macs come with macos mojave , the latest version of the wor\n",
      "esigned for everyone . in macos mojave , a new dark mode transforms th\n",
      "be . macbook air includes macos mojave , featuring dark mode , stacks \n",
      "roadest mac lineup ever . macos mojave all new macs come with macos mo\n"
     ]
    }
   ],
   "source": [
    "text.concordance('mojave', width=70, lines=7)"
   ]
  },
  {
   "cell_type": "code",
   "execution_count": 23,
   "metadata": {},
   "outputs": [],
   "source": [
    "words = sorted(set([w.lower() for w in tokens]))  "
   ]
  },
  {
   "cell_type": "code",
   "execution_count": 24,
   "metadata": {},
   "outputs": [
    {
     "data": {
      "text/plain": [
       "1230"
      ]
     },
     "execution_count": 24,
     "metadata": {},
     "output_type": "execute_result"
    }
   ],
   "source": [
    "len(words)  "
   ]
  },
  {
   "cell_type": "code",
   "execution_count": 25,
   "metadata": {},
   "outputs": [
    {
     "data": {
      "text/plain": [
       "['$', '(', ')', '+', ',', '-', '.']"
      ]
     },
     "execution_count": 25,
     "metadata": {},
     "output_type": "execute_result"
    }
   ],
   "source": [
    "words[:7]  "
   ]
  },
  {
   "cell_type": "markdown",
   "metadata": {},
   "source": [
    "### Improved Tokenization and Vocabulary"
   ]
  },
  {
   "cell_type": "code",
   "execution_count": 26,
   "metadata": {},
   "outputs": [],
   "source": [
    "t = 'A sentence about NLP; and about ML.'"
   ]
  },
  {
   "cell_type": "code",
   "execution_count": 27,
   "metadata": {},
   "outputs": [
    {
     "data": {
      "text/plain": [
       "['sentence', 'NLP']"
      ]
     },
     "execution_count": 27,
     "metadata": {},
     "output_type": "execute_result"
    }
   ],
   "source": [
    "tokens = nlp.tokenize(t, min_char=3)\n",
    "tokens"
   ]
  },
  {
   "cell_type": "code",
   "execution_count": 28,
   "metadata": {},
   "outputs": [
    {
     "name": "stdout",
     "output_type": "stream",
     "text": [
      "CPU times: user 68.8 ms, sys: 0 ns, total: 68.8 ms\n",
      "Wall time: 67.8 ms\n"
     ]
    }
   ],
   "source": [
    "%time tokens = nlp.tokenize(' '.join(data))  "
   ]
  },
  {
   "cell_type": "code",
   "execution_count": 29,
   "metadata": {},
   "outputs": [
    {
     "data": {
      "text/plain": [
       "['ipad', 'all-screen', 'designis', 'advance', 'powerful', 'ipad', 'ever']"
      ]
     },
     "execution_count": 29,
     "metadata": {},
     "output_type": "execute_result"
    }
   ],
   "source": [
    "tokens[:7]  "
   ]
  },
  {
   "cell_type": "code",
   "execution_count": 30,
   "metadata": {},
   "outputs": [],
   "source": [
    "words = sorted(set([w.lower() for w in tokens]))  "
   ]
  },
  {
   "cell_type": "code",
   "execution_count": 31,
   "metadata": {},
   "outputs": [
    {
     "data": {
      "text/plain": [
       "997"
      ]
     },
     "execution_count": 31,
     "metadata": {},
     "output_type": "execute_result"
    }
   ],
   "source": [
    "len(words)  "
   ]
  },
  {
   "cell_type": "code",
   "execution_count": 32,
   "metadata": {},
   "outputs": [
    {
     "data": {
      "text/plain": [
       "['.61', '1,149', '1,199', '1-800-my-apple', '1.5tb', '1.6ghz']"
      ]
     },
     "execution_count": 32,
     "metadata": {},
     "output_type": "execute_result"
    }
   ],
   "source": [
    "words[:6]  "
   ]
  },
  {
   "cell_type": "markdown",
   "metadata": {},
   "source": [
    "## Similarity"
   ]
  },
  {
   "cell_type": "code",
   "execution_count": 33,
   "metadata": {},
   "outputs": [],
   "source": [
    "import pandas as pd\n",
    "from sklearn.feature_extraction.text import TfidfVectorizer"
   ]
  },
  {
   "cell_type": "code",
   "execution_count": 34,
   "metadata": {},
   "outputs": [],
   "source": [
    "ts = [\n",
    "    'A sentence about NLP; and about ML.',\n",
    "    'Another one about NLP and algorithms.',\n",
    "    'A text fragment about Apple.'\n",
    "]  "
   ]
  },
  {
   "cell_type": "code",
   "execution_count": 35,
   "metadata": {},
   "outputs": [],
   "source": [
    "vec = TfidfVectorizer(stop_words='english')  "
   ]
  },
  {
   "cell_type": "code",
   "execution_count": 36,
   "metadata": {},
   "outputs": [],
   "source": [
    "mat = vec.fit_transform(ts)  "
   ]
  },
  {
   "cell_type": "code",
   "execution_count": 37,
   "metadata": {},
   "outputs": [
    {
     "data": {
      "text/plain": [
       "array([[0.   , 0.   , 0.   , 0.623, 0.474, 0.623, 0.   ],\n",
       "       [0.796, 0.   , 0.   , 0.   , 0.605, 0.   , 0.   ],\n",
       "       [0.   , 0.577, 0.577, 0.   , 0.   , 0.   , 0.577]])"
      ]
     },
     "execution_count": 37,
     "metadata": {},
     "output_type": "execute_result"
    }
   ],
   "source": [
    "mat.A.round(3)  "
   ]
  },
  {
   "cell_type": "code",
   "execution_count": 38,
   "metadata": {},
   "outputs": [],
   "source": [
    "df = pd.DataFrame(mat.A, columns=vec.get_feature_names())  "
   ]
  },
  {
   "cell_type": "code",
   "execution_count": 39,
   "metadata": {},
   "outputs": [
    {
     "data": {
      "text/html": [
       "<div>\n",
       "<style scoped>\n",
       "    .dataframe tbody tr th:only-of-type {\n",
       "        vertical-align: middle;\n",
       "    }\n",
       "\n",
       "    .dataframe tbody tr th {\n",
       "        vertical-align: top;\n",
       "    }\n",
       "\n",
       "    .dataframe thead th {\n",
       "        text-align: right;\n",
       "    }\n",
       "</style>\n",
       "<table border=\"1\" class=\"dataframe\">\n",
       "  <thead>\n",
       "    <tr style=\"text-align: right;\">\n",
       "      <th></th>\n",
       "      <th>algorithms</th>\n",
       "      <th>apple</th>\n",
       "      <th>fragment</th>\n",
       "      <th>ml</th>\n",
       "      <th>nlp</th>\n",
       "      <th>sentence</th>\n",
       "      <th>text</th>\n",
       "    </tr>\n",
       "  </thead>\n",
       "  <tbody>\n",
       "    <tr>\n",
       "      <th>0</th>\n",
       "      <td>0.000</td>\n",
       "      <td>0.000</td>\n",
       "      <td>0.000</td>\n",
       "      <td>0.623</td>\n",
       "      <td>0.474</td>\n",
       "      <td>0.623</td>\n",
       "      <td>0.000</td>\n",
       "    </tr>\n",
       "    <tr>\n",
       "      <th>1</th>\n",
       "      <td>0.796</td>\n",
       "      <td>0.000</td>\n",
       "      <td>0.000</td>\n",
       "      <td>0.000</td>\n",
       "      <td>0.605</td>\n",
       "      <td>0.000</td>\n",
       "      <td>0.000</td>\n",
       "    </tr>\n",
       "    <tr>\n",
       "      <th>2</th>\n",
       "      <td>0.000</td>\n",
       "      <td>0.577</td>\n",
       "      <td>0.577</td>\n",
       "      <td>0.000</td>\n",
       "      <td>0.000</td>\n",
       "      <td>0.000</td>\n",
       "      <td>0.577</td>\n",
       "    </tr>\n",
       "  </tbody>\n",
       "</table>\n",
       "</div>"
      ],
      "text/plain": [
       "   algorithms  apple  fragment     ml    nlp  sentence   text\n",
       "0       0.000  0.000     0.000  0.623  0.474     0.623  0.000\n",
       "1       0.796  0.000     0.000  0.000  0.605     0.000  0.000\n",
       "2       0.000  0.577     0.577  0.000  0.000     0.000  0.577"
      ]
     },
     "execution_count": 39,
     "metadata": {},
     "output_type": "execute_result"
    }
   ],
   "source": [
    "df.round(3)  "
   ]
  },
  {
   "cell_type": "code",
   "execution_count": 40,
   "metadata": {},
   "outputs": [
    {
     "data": {
      "text/plain": [
       "array([[1.        , 0.28671097, 0.        ],\n",
       "       [0.28671097, 1.        , 0.        ],\n",
       "       [0.        , 0.        , 1.        ]])"
      ]
     },
     "execution_count": 40,
     "metadata": {},
     "output_type": "execute_result"
    }
   ],
   "source": [
    "(mat * mat.T).A  "
   ]
  },
  {
   "cell_type": "code",
   "execution_count": 41,
   "metadata": {},
   "outputs": [],
   "source": [
    "tl = [' '.join(nlp.tokenize(t)) for t in data]  "
   ]
  },
  {
   "cell_type": "code",
   "execution_count": 42,
   "metadata": {},
   "outputs": [
    {
     "data": {
      "text/plain": [
       "<3x902 sparse matrix of type '<class 'numpy.float64'>'\n",
       "\twith 1514 stored elements in Compressed Sparse Row format>"
      ]
     },
     "execution_count": 42,
     "metadata": {},
     "output_type": "execute_result"
    }
   ],
   "source": [
    "mat = vec.fit_transform(tl)  \n",
    "mat  "
   ]
  },
  {
   "cell_type": "code",
   "execution_count": 43,
   "metadata": {},
   "outputs": [
    {
     "data": {
      "text/plain": [
       "array([[1.        , 0.40518205, 0.34496952],\n",
       "       [0.40518205, 1.        , 0.47562226],\n",
       "       [0.34496952, 0.47562226, 1.        ]])"
      ]
     },
     "execution_count": 43,
     "metadata": {},
     "output_type": "execute_result"
    }
   ],
   "source": [
    "sm = (mat * mat.T).A  \n",
    "sm  "
   ]
  },
  {
   "cell_type": "code",
   "execution_count": 44,
   "metadata": {},
   "outputs": [],
   "source": [
    "prs = ['ipad', 'air', 'mini']  "
   ]
  },
  {
   "cell_type": "code",
   "execution_count": 45,
   "metadata": {},
   "outputs": [],
   "source": [
    "df = pd.DataFrame(sm, index=prs, columns=prs)  "
   ]
  },
  {
   "cell_type": "code",
   "execution_count": 46,
   "metadata": {},
   "outputs": [
    {
     "data": {
      "text/html": [
       "<div>\n",
       "<style scoped>\n",
       "    .dataframe tbody tr th:only-of-type {\n",
       "        vertical-align: middle;\n",
       "    }\n",
       "\n",
       "    .dataframe tbody tr th {\n",
       "        vertical-align: top;\n",
       "    }\n",
       "\n",
       "    .dataframe thead th {\n",
       "        text-align: right;\n",
       "    }\n",
       "</style>\n",
       "<table border=\"1\" class=\"dataframe\">\n",
       "  <thead>\n",
       "    <tr style=\"text-align: right;\">\n",
       "      <th></th>\n",
       "      <th>ipad</th>\n",
       "      <th>air</th>\n",
       "      <th>mini</th>\n",
       "    </tr>\n",
       "  </thead>\n",
       "  <tbody>\n",
       "    <tr>\n",
       "      <th>ipad</th>\n",
       "      <td>1.000000</td>\n",
       "      <td>0.405182</td>\n",
       "      <td>0.344970</td>\n",
       "    </tr>\n",
       "    <tr>\n",
       "      <th>air</th>\n",
       "      <td>0.405182</td>\n",
       "      <td>1.000000</td>\n",
       "      <td>0.475622</td>\n",
       "    </tr>\n",
       "    <tr>\n",
       "      <th>mini</th>\n",
       "      <td>0.344970</td>\n",
       "      <td>0.475622</td>\n",
       "      <td>1.000000</td>\n",
       "    </tr>\n",
       "  </tbody>\n",
       "</table>\n",
       "</div>"
      ],
      "text/plain": [
       "          ipad       air      mini\n",
       "ipad  1.000000  0.405182  0.344970\n",
       "air   0.405182  1.000000  0.475622\n",
       "mini  0.344970  0.475622  1.000000"
      ]
     },
     "execution_count": 46,
     "metadata": {},
     "output_type": "execute_result"
    }
   ],
   "source": [
    "df  "
   ]
  },
  {
   "cell_type": "markdown",
   "metadata": {},
   "source": [
    "## Word Clouds"
   ]
  },
  {
   "cell_type": "code",
   "execution_count": 47,
   "metadata": {
    "scrolled": false
   },
   "outputs": [
    {
     "data": {
      "image/png": "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