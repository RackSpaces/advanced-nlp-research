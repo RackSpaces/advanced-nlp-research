{
 "cells": [
  {
   "cell_type": "markdown",
   "metadata": {},
   "source": [
    "<img src=\"http://hilpisch.com/tpq_logo.png\" width=\"36%\" align=\"right\" style=\"vertical-align: top;\">"
   ]
  },
  {
   "cell_type": "markdown",
   "metadata": {},
   "source": [
    "# Natural Language Processing\n",
    "\n",
    "**Basic Techniques and Algorithms**\n",
    "\n",
    "_Illustrated based on the texts from three Apple press releases._\n",
    "\n",
    "Dr Yves J Hilpisch | Michael Schwed\n",
    "\n",
    "The Python Quants GmbH"
   ]
  },
  {
   "cell_type": "markdown",
   "metadata": {},
   "source": [
    "## Data Retrieval"
   ]
  },
  {
   "cell_type": "code",
   "execution_count": 1,
   "metadata": {},
   "outputs": [],
   "source": [
    "import requests"
   ]
  },
  {
   "cell_type": "code",
   "execution_count": 2,
   "metadata": {},
   "outputs": [],
   "source": [
    "sources = [\n",
    "    'https://nr.apple.com/dE0b1T5G3u',  # iPad Pro\n",
    "    'https://nr.apple.com/dE4c7T6g1K',  # MacBook Air\n",
    "    'https://nr.apple.com/dE4q4r8A2A',  # Mac Mini\n",
    "]  "
   ]
  },
  {
   "cell_type": "code",
   "execution_count": 3,
   "metadata": {},
   "outputs": [],
   "source": [
    "html = [requests.get(url).text for url in sources]  "
   ]
  },
  {
   "cell_type": "markdown",
   "metadata": {},
   "source": [
    "## Preprocessing"
   ]
  },
  {
   "cell_type": "code",
   "execution_count": 4,
   "metadata": {},
   "outputs": [],
   "source": [
    "import sys\n",
    "sys.path.append('../../modules/')\n",
    "import nlp_functions as nlp  "
   ]
  },
  {
   "cell_type": "code",
   "execution_count": 5,
   "metadata": {},
   "outputs": [],
   "source": [
    "data = [nlp.clean_up_text(t) for t in html]  "
   ]
  },
  {
   "cell_type": "code",
   "execution_count": 6,
   "metadata": {},
   "outputs": [
    {
     "data": {
      "text/plain": [
       "'new ipad pro with all-screen designis most advanced, powerful ipad ever - apple open menu close menu apple shopping bag search apple.com cancel apple mac ipad iphone watch tv music support shopping bag newsroom open menu close menu archive press release october 30, 2018 new ipad pro with all-screen designis most advanced, powerful ipad ever 11-inch and 12.9-inch models feature liquid retina display, powerful a12x bionic chip and face id introducing the new ipad pro with all-screen design and nex'"
      ]
     },
     "execution_count": 6,
     "metadata": {},
     "output_type": "execute_result"
    }
   ],
   "source": [
    "data[0][:500]  "
   ]
  },
  {
   "cell_type": "markdown",
   "metadata": {},
   "source": [
    "## Basic Text Analysis"
   ]
  },
  {
   "cell_type": "code",
   "execution_count": 7,
   "metadata": {},
   "outputs": [],
   "source": [
    "import nltk"
   ]
  },
  {
   "cell_type": "code",
   "execution_count": 8,
   "metadata": {},
   "outputs": [
    {
     "data": {
      "text/plain": [
       "'3.2.5'"
      ]
     },
     "execution_count": 8,
     "metadata": {},
     "output_type": "execute_result"
    }
   ],
   "source": [
    "nltk.__version__"
   ]
  },
  {
   "cell_type": "code",
   "execution_count": 9,
   "metadata": {},
   "outputs": [],
   "source": [
    "# to be executed once\n",
    "# nltk.download('punkt')\n",
    "# nltk.download('wordnet')\n",
    "# nltk.download('stopwords')\n",
    "# nltk.download('vader_lexicon')"
   ]
  },
  {
   "cell_type": "markdown",
   "metadata": {},
   "source": [
    "### Basic Tokenization and Vocabulary"
   ]
  },
  {
   "cell_type": "code",
   "execution_count": 10,
   "metadata": {},
   "outputs": [],
   "source": [
    "t = 'A sentence about NLP; and about ML.'"
   ]
  },
  {
   "cell_type": "code",
   "execution_count": 11,
   "metadata": {},
   "outputs": [
    {
     "data": {
      "text/plain": [
       "['A', 'sentence', 'about', 'NLP', ';', 'and', 'about', 'ML', '.']"
      ]
     },
     "execution_count": 11,
     "metadata": {},
     "output_type": "execute_result"
    }
   ],
   "source": [
    "nltk.word_tokenize(t)"
   ]
  },
  {
   "cell_type": "code",
   "execution_count": 12,
   "metadata": {},
   "outputs": [
    {
     "data": {
      "text/plain": [
       "['new',\n",
       " 'ipad',\n",
       " 'pro',\n",
       " 'with',\n",
       " 'all-screen',\n",
       " 'designis',\n",
       " 'most',\n",
       " 'advanced',\n",
       " ',',\n",
       " 'powerful']"
      ]
     },
     "execution_count": 12,
     "metadata": {},
     "output_type": "execute_result"
    }
   ],
   "source": [
    "nltk.word_tokenize(data[0])[:10]  "
   ]
  },
  {
   "cell_type": "code",
   "execution_count": 13,
   "metadata": {},
   "outputs": [],
   "source": [
    "tokens = nltk.word_tokenize(' '.join(data))  "
   ]
  },
  {
   "cell_type": "code",
   "execution_count": 14,
   "metadata": {},
   "outputs": [],
   "source": [
    "text = nltk.Text(tokens)  "
   ]
  },
  {
   "cell_type": "code",
   "execution_count": 15,
   "metadata": {},
   "outputs": [
    {
     "data": {
      "text/plain": [
       "93"
      ]
     },
     "execution_count": 15,
     "metadata": {},
     "output_type": "execute_result"
    }
   ],
   "source": [
    "text.count('ipad')  "
   ]
  },
  {
   "cell_type": "code",
   "execution_count": 16,
   "metadata": {},
   "outputs": [
    {
     "data": {
      "text/plain": [
       "9"
      ]
     },
     "execution_count": 16,
     "metadata": {},
     "output_type": "execute_result"
    }
   ],
   "source": [
    "text.count('mojave')  "
   ]
  },
  {
   "cell_type": "code",
   "execution_count": 17,
   "metadata": {},
   "outputs": [
    {
     "name": "stdout",
     "output_type": "stream",
     "text": [
      "ipad pro; macbook air; mac mini; close menu; menu close; open menu;\n",
      "smart keyboard; keyboard folio; retina display; a12x bionic; macos\n",
      "mojave; security chip; battery life; apple pencil; liquid retina;\n",
      "apple store; first time; shopping bag; five times; space gray\n"
     ]
    }
   ],
   "source": [
    "text.collocations()  "
   ]
  },
  {
   "cell_type": "code",
   "execution_count": 18,
   "metadata": {},
   "outputs": [
    {
     "name": "stdout",
     "output_type": "stream",
     "text": [
      "memory a wireless more viewer efficiency other latest\n"
     ]
    }
   ],
   "source": [
    "text.similar('performance')  "
   ]
  },
  {
   "cell_type": "code",
   "execution_count": 19,
   "metadata": {},
   "outputs": [
    {
     "name": "stdout",
     "output_type": "stream",
     "text": [
      "new_pro to_pro for_pro\n"
     ]
    }
   ],
   "source": [
    "text.common_contexts(['ipad', 'macbook'])  "
   ]
  },
  {
   "cell_type": "code",
   "execution_count": 20,
   "metadata": {},
   "outputs": [
    {
     "data": {
      "text/plain": [
       "FreqDist({'new': 99,\n",
       "          'ipad': 93,\n",
       "          'pro': 73,\n",
       "          'with': 85,\n",
       "          'all-screen': 6,\n",
       "          'designis': 3,\n",
       "          'most': 23,\n",
       "          'advanced': 13,\n",
       "          ',': 344,\n",
       "          'powerful': 19,\n",
       "          'ever': 21,\n",
       "          '-': 3,\n",
       "          'apple': 138,\n",
       "          'open': 27,\n",
       "          'menu': 54,\n",
       "          'close': 27,\n",
       "          'shopping': 9,\n",
       "          'bag': 6,\n",
       "          'search': 3,\n",
       "          'apple.com': 19,\n",
       "          'cancel': 3,\n",
       "          'mac': 58,\n",
       "          'iphone': 13,\n",
       "          'watch': 9,\n",
       "          'tv': 9,\n",
       "          'music': 11,\n",
       "          'support': 12,\n",
       "          'newsroom': 12,\n",
       "          'archive': 3,\n",
       "          'press': 6,\n",
       "          'release': 3,\n",
       "          'october': 5,\n",
       "          '30': 6,\n",
       "          '2018': 9,\n",
       "          '11-inch': 9,\n",
       "          'and': 253,\n",
       "          '12.9-inch': 9,\n",
       "          'models': 5,\n",
       "          'feature': 3,\n",
       "          'liquid': 7,\n",
       "          'retina': 13,\n",
       "          'display': 20,\n",
       "          'a12x': 8,\n",
       "          'bionic': 8,\n",
       "          'chip': 16,\n",
       "          'face': 10,\n",
       "          'id': 20,\n",
       "          'introducing': 2,\n",
       "          'the': 232,\n",
       "          'design': 19,\n",
       "          'next-generation': 7,\n",
       "          'performance': 25,\n",
       "          '.': 170,\n",
       "          'york': 3,\n",
       "          'today': 15,\n",
       "          'introduced': 2,\n",
       "          'marking': 1,\n",
       "          'biggest': 1,\n",
       "          'change': 1,\n",
       "          'to': 125,\n",
       "          'all-new': 14,\n",
       "          'pushes': 1,\n",
       "          'displays': 6,\n",
       "          'edges': 2,\n",
       "          'of': 69,\n",
       "          'integrates': 1,\n",
       "          'securely': 2,\n",
       "          'unlock': 4,\n",
       "          'just': 8,\n",
       "          'a': 83,\n",
       "          'glance.1': 1,\n",
       "          'neural': 4,\n",
       "          'engine': 5,\n",
       "          'in': 58,\n",
       "          'outperforms': 2,\n",
       "          'pc': 1,\n",
       "          'laptops': 2,\n",
       "          'offers': 4,\n",
       "          'usb-c': 11,\n",
       "          'connector': 5,\n",
       "          'gigabit-class': 1,\n",
       "          'lte': 1,\n",
       "          'up': 30,\n",
       "          '1tb': 4,\n",
       "          'storage': 11,\n",
       "          'enable': 4,\n",
       "          'mobile': 3,\n",
       "          'workflows.2': 1,\n",
       "          'over': 6,\n",
       "          'million': 3,\n",
       "          'apps': 19,\n",
       "          'designed': 5,\n",
       "          'take': 7,\n",
       "          'advantage': 5,\n",
       "          'large': 6,\n",
       "          'multi-touch': 1,\n",
       "          'including': 17,\n",
       "          'like': 9,\n",
       "          'photoshop': 1,\n",
       "          'cc': 1,\n",
       "          'on': 36,\n",
       "          '(': 21,\n",
       "          'coming': 3,\n",
       "          '2019': 2,\n",
       "          ')': 21,\n",
       "          'will': 11,\n",
       "          'push': 2,\n",
       "          'what': 1,\n",
       "          'users': 10,\n",
       "          'can': 12,\n",
       "          'do': 2,\n",
       "          'computer': 4,\n",
       "          'further': 3,\n",
       "          'than': 23,\n",
       "          'before': 3,\n",
       "          'designs': 2,\n",
       "          'second-generation': 2,\n",
       "          'pencil': 12,\n",
       "          'magnetically': 2,\n",
       "          'attaches': 2,\n",
       "          'wirelessly': 2,\n",
       "          'charges': 1,\n",
       "          'at': 19,\n",
       "          'same': 8,\n",
       "          'time': 11,\n",
       "          'touch': 15,\n",
       "          'sensor': 2,\n",
       "          'built': 6,\n",
       "          'onto': 1,\n",
       "          'detects': 1,\n",
       "          'taps': 1,\n",
       "          'an': 27,\n",
       "          'entirely': 1,\n",
       "          'way': 1,\n",
       "          'interact': 1,\n",
       "          'within': 2,\n",
       "          'smart': 14,\n",
       "          'keyboard': 19,\n",
       "          'folio': 15,\n",
       "          'features': 25,\n",
       "          'streamlined': 2,\n",
       "          'thats': 3,\n",
       "          'adjustable': 3,\n",
       "          'for': 97,\n",
       "          'added': 4,\n",
       "          'versatility': 3,\n",
       "          'are': 19,\n",
       "          'available': 20,\n",
       "          'order': 8,\n",
       "          'starting': 9,\n",
       "          'stores': 4,\n",
       "          'wednesday': 5,\n",
       "          'november': 5,\n",
       "          '7.': 3,\n",
       "          'offer': 2,\n",
       "          'take-anywhere': 1,\n",
       "          'power': 9,\n",
       "          'is': 39,\n",
       "          'huge': 4,\n",
       "          'step': 1,\n",
       "          'forward': 1,\n",
       "          'creative': 3,\n",
       "          'computing': 2,\n",
       "          ';': 2,\n",
       "          'it': 17,\n",
       "          'has': 9,\n",
       "          'thinner': 4,\n",
       "          'speeds': 2,\n",
       "          'through': 8,\n",
       "          'projects': 1,\n",
       "          'super-fast': 1,\n",
       "          'unlocks': 1,\n",
       "          'glance': 1,\n",
       "          'using': 10,\n",
       "          'any': 8,\n",
       "          'orientation': 2,\n",
       "          'while': 3,\n",
       "          'youre': 1,\n",
       "          'sitting': 1,\n",
       "          'or': 25,\n",
       "          'standing': 1,\n",
       "          'your': 16,\n",
       "          'desk': 2,\n",
       "          'lap': 2,\n",
       "          'said': 3,\n",
       "          'philip': 3,\n",
       "          'schiller': 3,\n",
       "          'apples': 11,\n",
       "          'senior': 3,\n",
       "          'vice': 3,\n",
       "          'president': 3,\n",
       "          'worldwide': 3,\n",
       "          'marketing': 3,\n",
       "          'there': 1,\n",
       "          'never': 2,\n",
       "          'been': 3,\n",
       "          'device': 9,\n",
       "          'anything': 3,\n",
       "          'gorgeous': 3,\n",
       "          'edge-to-edge': 3,\n",
       "          'that': 20,\n",
       "          'curves': 2,\n",
       "          'into': 10,\n",
       "          'corners': 4,\n",
       "          'breakthrough': 5,\n",
       "          'cameras': 4,\n",
       "          'sensors': 3,\n",
       "          'best': 9,\n",
       "          'ar': 10,\n",
       "          'experiences': 7,\n",
       "          'high-speed': 1,\n",
       "          'louder': 2,\n",
       "          'speakers': 3,\n",
       "          'faster': 24,\n",
       "          'wireless': 4,\n",
       "          'more': 52,\n",
       "          'all': 21,\n",
       "          'packed': 3,\n",
       "          'all-day': 4,\n",
       "          'battery': 9,\n",
       "          'life': 10,\n",
       "          '25': 4,\n",
       "          'percent': 19,\n",
       "          'smaller': 3,\n",
       "          'volume': 2,\n",
       "          'stunning': 7,\n",
       "          'rounded': 3,\n",
       "          'worlds': 5,\n",
       "          'follow': 2,\n",
       "          'pros': 3,\n",
       "          'unibody': 1,\n",
       "          'enclosure': 8,\n",
       "          'precision-milled': 1,\n",
       "          'glass': 1,\n",
       "          'pixel': 1,\n",
       "          'masking': 1,\n",
       "          'sub-pixel': 1,\n",
       "          'antialiasing': 1,\n",
       "          'backlight': 1,\n",
       "          'brightest': 1,\n",
       "          'color': 4,\n",
       "          'accurate': 3,\n",
       "          'featuring': 6,\n",
       "          'wide': 4,\n",
       "          'true': 1,\n",
       "          'tone': 1,\n",
       "          'anti-reflective': 1,\n",
       "          'coating': 1,\n",
       "          'natural': 1,\n",
       "          'viewing': 2,\n",
       "          'experience': 4,\n",
       "          'indoors': 1,\n",
       "          'out': 1,\n",
       "          'promotion': 1,\n",
       "          'technology': 6,\n",
       "          'automatically': 4,\n",
       "          'adjusts': 2,\n",
       "          'refresh': 1,\n",
       "          'rate': 1,\n",
       "          '120hz': 1,\n",
       "          'ultra-smooth': 1,\n",
       "          'scrolling': 1,\n",
       "          'incredible': 3,\n",
       "          'responsiveness': 1,\n",
       "          'easily': 3,\n",
       "          'content': 5,\n",
       "          'viewer': 1,\n",
       "          'packs': 5,\n",
       "          'bigger': 1,\n",
       "          'pixels': 3,\n",
       "          'footprint': 5,\n",
       "          'as': 16,\n",
       "          '10.5-inch': 1,\n",
       "          'model': 6,\n",
       "          'yet': 2,\n",
       "          'still': 2,\n",
       "          'weighs': 1,\n",
       "          'one': 1,\n",
       "          'pound': 2,\n",
       "          'places': 1,\n",
       "          'largest': 1,\n",
       "          'portable': 8,\n",
       "          'package': 1,\n",
       "          'massive': 2,\n",
       "          'reduction': 1,\n",
       "          'volume.3': 1,\n",
       "          'both': 2,\n",
       "          '5.9': 2,\n",
       "          'mm': 3,\n",
       "          'thin': 4,\n",
       "          'thinnest': 2,\n",
       "          'making': 9,\n",
       "          'now': 18,\n",
       "          'even': 11,\n",
       "          'easier': 1,\n",
       "          'you': 11,\n",
       "          'specifically': 2,\n",
       "          'smartest': 2,\n",
       "          'tablet': 4,\n",
       "          'demanding': 2,\n",
       "          'tasks': 4,\n",
       "          'editing': 7,\n",
       "          'photos': 4,\n",
       "          'creating': 4,\n",
       "          '3d': 3,\n",
       "          'responsive': 2,\n",
       "          'industry-leading': 2,\n",
       "          'seven-nanometer': 1,\n",
       "          'eight-core': 1,\n",
       "          'four': 9,\n",
       "          'cores': 3,\n",
       "          'efficiency': 1,\n",
       "          '35': 1,\n",
       "          'single-core': 1,\n",
       "          'controller': 3,\n",
       "          'simultaneous': 1,\n",
       "          'use': 12,\n",
       "          'eight': 1,\n",
       "          '90': 1,\n",
       "          'boost': 2,\n",
       "          'during': 4,\n",
       "          'multi-threaded': 1,\n",
       "          'tasks.3': 1,\n",
       "          'seven-core': 1,\n",
       "          'apple-designed': 6,\n",
       "          'gpu': 1,\n",
       "          'delivers': 8,\n",
       "          'twice': 3,\n",
       "          'graphics': 12,\n",
       "          'incredibly': 3,\n",
       "          'rich': 3,\n",
       "          'immersive': 3,\n",
       "          'console-quality': 1,\n",
       "          'capability': 1,\n",
       "          'lasts': 1,\n",
       "          'day': 1,\n",
       "          'thanks': 1,\n",
       "          'great': 1,\n",
       "          '10-hour': 1,\n",
       "          'life.4': 1,\n",
       "          'machine': 3,\n",
       "          'learning': 3,\n",
       "          'everything': 3,\n",
       "          'from': 16,\n",
       "          'photography': 1,\n",
       "          'completing': 1,\n",
       "          '5': 1,\n",
       "          'trillion': 1,\n",
       "          'operations': 1,\n",
       "          'per': 1,\n",
       "          'second': 2,\n",
       "          'this': 5,\n",
       "          'enables': 4,\n",
       "          'fast': 6,\n",
       "          'plane': 1,\n",
       "          'detection': 1,\n",
       "          'other': 3,\n",
       "          'real-time': 1,\n",
       "          'deliver': 3,\n",
       "          'improved': 4,\n",
       "          'core': 6,\n",
       "          'ml': 1,\n",
       "          'empowering': 1,\n",
       "          'developers': 4,\n",
       "          'build': 2,\n",
       "          'workflows': 5,\n",
       "          'utilize': 1,\n",
       "          'highly': 1,\n",
       "          'efficient': 2,\n",
       "          'comes': 8,\n",
       "          'secure': 11,\n",
       "          'facial': 2,\n",
       "          'authentication': 2,\n",
       "          'system': 6,\n",
       "          'first': 8,\n",
       "          'work': 3,\n",
       "          'holding': 1,\n",
       "          'position': 1,\n",
       "          'seated': 1,\n",
       "          'takes': 5,\n",
       "          'truedepth': 2,\n",
       "          'camera': 3,\n",
       "          'accurately': 1,\n",
       "          'map': 4,\n",
       "          'recognize': 1,\n",
       "          'pay': 6,\n",
       "          'online': 4,\n",
       "          'allow': 4,\n",
       "          'gain': 1,\n",
       "          'access': 2,\n",
       "          'also': 16,\n",
       "          'animoji': 2,\n",
       "          'memoji': 2,\n",
       "          'four-speaker': 2,\n",
       "          'audio': 9,\n",
       "          'combine': 1,\n",
       "          'turn': 2,\n",
       "          'its': 6,\n",
       "          'viewfinder': 2,\n",
       "          'next': 2,\n",
       "          'generation': 12,\n",
       "          'world': 7,\n",
       "          'possible': 1,\n",
       "          'such': 1,\n",
       "          'measuring': 2,\n",
       "          'reflection': 1,\n",
       "          'real-world': 1,\n",
       "          'objects': 1,\n",
       "          'navigating': 1,\n",
       "          'buildings': 1,\n",
       "          'exploring': 1,\n",
       "          'entire': 2,\n",
       "          'universes': 1,\n",
       "          'adobes': 1,\n",
       "          'project': 1,\n",
       "          'aero': 1,\n",
       "          'creators': 1,\n",
       "          'purchase': 2,\n",
       "          'separately': 1,\n",
       "          'give': 3,\n",
       "          'levels': 1,\n",
       "          'precision': 1,\n",
       "          'productivity': 1,\n",
       "          'pairing': 1,\n",
       "          'charging': 2,\n",
       "          'becomes': 1,\n",
       "          'intuitive': 1,\n",
       "          'select': 2,\n",
       "          'right': 2,\n",
       "          'tool': 1,\n",
       "          'brush': 1,\n",
       "          'simple': 5,\n",
       "          'double': 2,\n",
       "          'tap': 2,\n",
       "          'notes': 1,\n",
       "          'leading': 1,\n",
       "          'adobe': 3,\n",
       "          'autodesk': 1,\n",
       "          'procreate': 1,\n",
       "          'be': 13,\n",
       "          'gives': 1,\n",
       "          'ability': 2,\n",
       "          'productive': 1,\n",
       "          'protects': 2,\n",
       "          'front': 1,\n",
       "          'back': 1,\n",
       "          'light': 1,\n",
       "          'encompassing': 1,\n",
       "          'full-size': 1,\n",
       "          'needs': 1,\n",
       "          'charged': 1,\n",
       "          'paired': 1,\n",
       "          'perfect': 4,\n",
       "          'getting': 1,\n",
       "          'thoughts': 1,\n",
       "          'down': 1,\n",
       "          'multitasking': 2,\n",
       "          'possibilities': 1,\n",
       "          'replaces': 1,\n",
       "          'lightning': 1,\n",
       "          'ways': 5,\n",
       "          'used': 3,\n",
       "          'versatile': 3,\n",
       "          'supports': 1,\n",
       "          'usb': 2,\n",
       "          '3.1': 1,\n",
       "          'gen': 1,\n",
       "          '2': 4,\n",
       "          'high-bandwidth': 1,\n",
       "          'data': 8,\n",
       "          'transfers': 1,\n",
       "          'speed': 4,\n",
       "          'musical': 2,\n",
       "          'instruments': 1,\n",
       "          'drives': 1,\n",
       "          'external': 2,\n",
       "          '5k': 3,\n",
       "          'charge': 3,\n",
       "          'ios': 8,\n",
       "          '12': 5,\n",
       "          'brings': 2,\n",
       "          'gestures': 1,\n",
       "          'already': 1,\n",
       "          'familiar': 3,\n",
       "          'x': 1,\n",
       "          'xs': 1,\n",
       "          'wake': 1,\n",
       "          'swiping': 1,\n",
       "          'go': 3,\n",
       "          'home': 3,\n",
       "          'control': 1,\n",
       "          'center': 1,\n",
       "          'shortcuts': 1,\n",
       "          'app': 13,\n",
       "          'helps': 2,\n",
       "          'link': 1,\n",
       "          'together': 2,\n",
       "          'automated': 1,\n",
       "          'photo': 3,\n",
       "          'video': 12,\n",
       "          'file': 1,\n",
       "          'asset': 1,\n",
       "          'management': 1,\n",
       "          'improvements': 1,\n",
       "          'import': 1,\n",
       "          'native': 1,\n",
       "          'raw': 1,\n",
       "          'image': 1,\n",
       "          'photographers': 1,\n",
       "          'multitask': 1,\n",
       "          'group': 5,\n",
       "          'facetime': 7,\n",
       "          'makes': 4,\n",
       "          'easy': 2,\n",
       "          'connect': 7,\n",
       "          'groups': 4,\n",
       "          'friends': 3,\n",
       "          'colleagues': 2,\n",
       "          'participants': 1,\n",
       "          'join': 3,\n",
       "          'later': 2,\n",
       "          'if': 2,\n",
       "          'conversation': 1,\n",
       "          'active': 1,\n",
       "          'choose': 1,\n",
       "          'customizable': 1,\n",
       "          'screen': 3,\n",
       "          'add': 1,\n",
       "          'personality': 1,\n",
       "          'videos': 2,\n",
       "          'messages': 1,\n",
       "          'pricing': 3,\n",
       "          'availability': 4,\n",
       "          'silver': 3,\n",
       "          'space': 5,\n",
       "          'gray': 5,\n",
       "          'finishes': 2,\n",
       "          '64gb': 6,\n",
       "          '256gb': 2,\n",
       "          '512gb': 1,\n",
       "          'configurations': 1,\n",
       "          'well': 3,\n",
       "          'option': 6,\n",
       "          'starts': 2,\n",
       "          '$': 11,\n",
       "          '799': 2,\n",
       "          'us': 10,\n",
       "          'wi-fi': 4,\n",
       "          '949': 1,\n",
       "          '+': 2,\n",
       "          'cellular': 2,\n",
       "          '999': 1,\n",
       "          '1,149': 1,\n",
       "          'store': 26,\n",
       "          'locations': 3,\n",
       "          'authorized': 4,\n",
       "          'resellers': 4,\n",
       "          'carriers': 1,\n",
       "          'prices': 1,\n",
       "          'may': 2,\n",
       "          'vary': 2,\n",
       "          '7': 1,\n",
       "          '40': 1,\n",
       "          'additional': 4,\n",
       "          'countries': 2,\n",
       "          'regions': 2,\n",
       "          'australia': 1,\n",
       "          'austria': 1,\n",
       "          'belgium': 1,\n",
       "          'bulgaria': 1,\n",
       "          'canada': 1,\n",
       "          'china': 1,\n",
       "          'croatia': 1,\n",
       "          'czech': 1,\n",
       "          'republic': 1,\n",
       "          'denmark': 1,\n",
       "          'estonia': 1,\n",
       "          'finland': 1,\n",
       "          'france': 1,\n",
       "          'germany': 1,\n",
       "          'hong': 1,\n",
       "          'kong': 1,\n",
       "          'hungary': 1,\n",
       "          'iceland': 1,\n",
       "          'ireland': 1,\n",
       "          'isle': 1,\n",
       "          'man': 1,\n",
       "          'italy': 1,\n",
       "          'japan': 1,\n",
       "          'jersey': 1,\n",
       "          'latvia': 1,\n",
       "          'lithuania': 1,\n",
       "          'luxembourg': 1,\n",
       "          'macau': 1,\n",
       "          'monaco': 1,\n",
       "          'netherlands': 1,\n",
       "          'zealand': 1,\n",
       "          'norway': 1,\n",
       "          'poland': 1,\n",
       "          'portugal': 1,\n",
       "          'puerto': 1,\n",
       "          'rico': 1,\n",
       "          'romania': 1,\n",
       "          'singapore': 1,\n",
       "          'slovakia': 1,\n",
       "          'slovenia': 1,\n",
       "          'spain': 1,\n",
       "          'sweden': 1,\n",
       "          'switzerland': 1,\n",
       "          'uae': 1,\n",
       "          'uk': 1,\n",
       "          'year': 1,\n",
       "          'colombia': 1,\n",
       "          'greece': 1,\n",
       "          'greenland': 1,\n",
       "          'guatemala': 1,\n",
       "          'india': 1,\n",
       "          'israel': 1,\n",
       "          'liechtenstein': 1,\n",
       "          'malaysia': 1,\n",
       "          'macedonia': 1,\n",
       "          'mexico': 1,\n",
       "          'morocco': 1,\n",
       "          'peru': 1,\n",
       "          'qatar': 1,\n",
       "          'russia': 1,\n",
       "          'thailand': 1,\n",
       "          'turkey': 1,\n",
       "          'saudi': 1,\n",
       "          'arabia': 1,\n",
       "          'south': 1,\n",
       "          'africa': 1,\n",
       "          '129': 1,\n",
       "          '179': 1,\n",
       "          '199': 1,\n",
       "          'layouts': 1,\n",
       "          'languages': 1,\n",
       "          'simplified': 1,\n",
       "          'chinese': 1,\n",
       "          'french': 1,\n",
       "          'german': 1,\n",
       "          'japanese': 1,\n",
       "          'spanish': 1,\n",
       "          'protective': 1,\n",
       "          'polyurethane': 1,\n",
       "          'variety': 1,\n",
       "          'colors': 2,\n",
       "          '79': 1,\n",
       "          '99': 1,\n",
       "          'assortment': 1,\n",
       "          'accessories': 7,\n",
       "          'adapters': 1,\n",
       "          'cables': 1,\n",
       "          'sd': 1,\n",
       "          'card': 2,\n",
       "          'reader': 1,\n",
       "          '3.5': 1,\n",
       "          'headphone': 1,\n",
       "          'jack': 3,\n",
       "          'adapter': 1,\n",
       "          'giveback': 1,\n",
       "          'customers': 5,\n",
       "          'trade': 1,\n",
       "          'their': 5,\n",
       "          'eligible': 2,\n",
       "          'gift': 4,\n",
       "          'partial': 1,\n",
       "          'refund': 1,\n",
       "          'isnt': 1,\n",
       "          'credit': 1,\n",
       "          'recycle': 1,\n",
       "          'free': 3,\n",
       "          'every': 3,\n",
       "          'customer': 1,\n",
       "          'who': 2,\n",
       "          'buys': 1,\n",
       "          'enjoy': 1,\n",
       "          'personal': 4,\n",
       "          'setup': 1,\n",
       "          'in-store': 1,\n",
       "          'receive': 1,\n",
       "          'guidance': 1,\n",
       "          'how': 1,\n",
       "          'customize': 1,\n",
       "          'set': 2,\n",
       "          'email': 1,\n",
       "          'find': 7,\n",
       "          'anyone': 1,\n",
       "          'wants': 1,\n",
       "          'learn': 4,\n",
       "          'sign': 1,\n",
       "          'sessions': 1,\n",
       "          'apple.com/today': 1,\n",
       "          'media': 6,\n",
       "          'images': 6,\n",
       "          'download': 3,\n",
       "          'revolutionized': 4,\n",
       "          'introduction': 3,\n",
       "          'macintosh': 3,\n",
       "          '1984.': 3,\n",
       "          'leads': 3,\n",
       "          'innovation': 3,\n",
       "          'software': 7,\n",
       "          'platforms': 3,\n",
       "          'macos': 12,\n",
       "          'watchos': 3,\n",
       "          'tvos': 3,\n",
       "          'provide': 3,\n",
       "          'seamless': 3,\n",
       "          'across': 3,\n",
       "          'devices': 7,\n",
       "          'empower': 3,\n",
       "          'people': 3,\n",
       "          'services': 3,\n",
       "          'icloud': 3,\n",
       "          '100,000': 3,\n",
       "          'employees': 3,\n",
       "          'dedicated': 3,\n",
       "          'products': 3,\n",
       "          'earth': 3,\n",
       "          'leaving': 3,\n",
       "          'better': 4,\n",
       "          'we': 4,\n",
       "          'found': 3,\n",
       "          '1': 3,\n",
       "          'have': 1,\n",
       "          'when': 2,\n",
       "          'measured': 1,\n",
       "          'rectangle': 1,\n",
       "          '12.9': 1,\n",
       "          'inches': 3,\n",
       "          'diagonally': 2,\n",
       "          '11': 1,\n",
       "          'actual': 2,\n",
       "          'viewable': 1,\n",
       "          'area': 1,\n",
       "          'less': 2,\n",
       "          '92': 1,\n",
       "          'pcs': 1,\n",
       "          'sold': 1,\n",
       "          'between': 1,\n",
       "          'june': 1,\n",
       "          '2017-june': 1,\n",
       "          'npd': 1,\n",
       "          '3': 15,\n",
       "          'compared': 1,\n",
       "          'previous': 8,\n",
       "          '4': 4,\n",
       "          'depends': 1,\n",
       "          'settings': 1,\n",
       "          'usage': 1,\n",
       "          'factors': 1,\n",
       "          'results': 1,\n",
       "          'contacts': 3,\n",
       "          'andy': 1,\n",
       "          'bowman': 1,\n",
       "          'abowman': 1,\n",
       "          '@': 9,\n",
       "          '408': 9,\n",
       "          '783-0619': 1,\n",
       "          'hannah': 1,\n",
       "          'wong-silva': 1,\n",
       "          'hannahw': 1,\n",
       "          '974-7077': 1,\n",
       "          'helpline': 3,\n",
       "          'media.help': 3,\n",
       "          '974-2042': 3,\n",
       "          'latest': 10,\n",
       "          'news': 5,\n",
       "          'journalists': 3,\n",
       "          'read': 3,\n",
       "          'footer': 3,\n",
       "          'shop': 12,\n",
       "          'itunes': 4,\n",
       "          'homepod': 3,\n",
       "          'ipod': 3,\n",
       "          'cards': 3,\n",
       "          'genius': 3,\n",
       "          'bar': 3,\n",
       "          'camp': 3,\n",
       "          'field': 3,\n",
       "          'trip': 3,\n",
       "          'refurbished': 3,\n",
       "          'clearance': 3,\n",
       "          'financing': 3,\n",
       "          'applegiveback': 3,\n",
       "          'status': 3,\n",
       "          'help': 4,\n",
       "          'education': 9,\n",
       "          'college': 3,\n",
       "          'business': 9,\n",
       "          'account': 6,\n",
       "          'manage': 3,\n",
       "          'icloud.com': 3,\n",
       "          'values': 3,\n",
       "          'accessibility': 3,\n",
       "          'environment': 3,\n",
       "          'inclusion': 3,\n",
       "          'diversity': 3,\n",
       "          'privacy': 6,\n",
       "          'supplier': 3,\n",
       "          'responsibility': 3,\n",
       "          'about': 3,\n",
       "          'leadership': 3,\n",
       "          'job': 4,\n",
       "          'opportunities': 3,\n",
       "          'investors': 3,\n",
       "          'events': 3,\n",
       "          'contact': 3,\n",
       "          ':': 3,\n",
       "          'visit': 3,\n",
       "          'call': 3,\n",
       "          '1-800-my-apple': 3,\n",
       "          'reseller': 3,\n",
       "          'united': 3,\n",
       "          'states': 3,\n",
       "          'copyright': 3,\n",
       "          'inc.': 3,\n",
       "          'rights': 3,\n",
       "          'reserved': 3,\n",
       "          'policy': 3,\n",
       "          'terms': 3,\n",
       "          'sales': 3,\n",
       "          'refunds': 3,\n",
       "          'legal': 3,\n",
       "          'site': 3,\n",
       "          'macbook': 45,\n",
       "          'air': 38,\n",
       "          'flight': 3,\n",
       "          'macbookair': 1,\n",
       "          '13-inch': 2,\n",
       "          'processors': 9,\n",
       "          'bringing': 1,\n",
       "          'loved': 3,\n",
       "          'notebook': 8,\n",
       "          'delivering': 2,\n",
       "          'known': 1,\n",
       "          'three': 5,\n",
       "          'gold': 2,\n",
       "          'affordable': 1,\n",
       "          'retina-display': 1,\n",
       "          'includes': 5,\n",
       "          'spacious': 1,\n",
       "          'force': 3,\n",
       "          'trackpad': 5,\n",
       "          'ssds': 3,\n",
       "          'stereo': 2,\n",
       "          'sound': 3,\n",
       "          't2': 15,\n",
       "          'security': 11,\n",
       "          'thunderbolt': 15,\n",
       "          'everywhere': 1,\n",
       "          'wedge-shaped': 2,\n",
       "          'aluminum': 10,\n",
       "          'forever': 1,\n",
       "          'changed': 1,\n",
       "          'industry': 1,\n",
       "          'computers': 2,\n",
       "          'became': 1,\n",
       "          'redesigning': 1,\n",
       "          'started': 1,\n",
       "          'then': 1,\n",
       "          'third-generation': 2,\n",
       "          'high': 2,\n",
       "          'ports': 10,\n",
       "          'course': 1,\n",
       "          'mojave': 9,\n",
       "          'beautiful': 3,\n",
       "          'lighter': 2,\n",
       "          'all-aluminum': 1,\n",
       "          'whole': 4,\n",
       "          'going': 2,\n",
       "          'love': 1,\n",
       "          '13.3-inch': 1,\n",
       "          'resolution': 3,\n",
       "          'so': 5,\n",
       "          'text': 2,\n",
       "          'look': 3,\n",
       "          'sharp': 2,\n",
       "          '48': 2,\n",
       "          'lifelike': 1,\n",
       "          'ever.1': 2,\n",
       "          'built-in': 1,\n",
       "          'hd': 1,\n",
       "          'which': 9,\n",
       "          'calls': 2,\n",
       "          'family': 1,\n",
       "          'microphone': 1,\n",
       "          'array': 1,\n",
       "          'quality': 2,\n",
       "          'voice': 4,\n",
       "          'recognition': 1,\n",
       "          'siri': 3,\n",
       "          'detailed': 1,\n",
       "          'fingerprint': 1,\n",
       "          'allows': 2,\n",
       "          'conveniently': 1,\n",
       "          'instantly': 2,\n",
       "          'authenticate': 2,\n",
       "          'identity': 2,\n",
       "          'make': 4,\n",
       "          'purchases': 2,\n",
       "          'far': 1,\n",
       "          't2s': 1,\n",
       "          'enclave': 2,\n",
       "          'information': 4,\n",
       "          'ensures': 2,\n",
       "          'loaded': 2,\n",
       "          'boot': 4,\n",
       "          'process': 3,\n",
       "          'not': 2,\n",
       "          'tampered': 2,\n",
       "          'ssd': 7,\n",
       "          'on-the-fly': 3,\n",
       "          'encryption': 3,\n",
       "          'stored': 2,\n",
       "          'these': 4,\n",
       "          'always-on': 1,\n",
       "          'processor': 2,\n",
       "          'hey': 1,\n",
       "          'lets': 2,\n",
       "          'requests': 1,\n",
       "          'things': 1,\n",
       "          'finding': 1,\n",
       "          'files': 6,\n",
       "          'opening': 3,\n",
       "          'allowing': 1,\n",
       "          'industrys': 1,\n",
       "          'precise': 1,\n",
       "          'typing': 1,\n",
       "          'each': 2,\n",
       "          'key': 1,\n",
       "          'individually': 1,\n",
       "          'backlit': 1,\n",
       "          'low-power': 1,\n",
       "          'leds': 1,\n",
       "          'illumination': 1,\n",
       "          'industry-best': 1,\n",
       "          'pressure-sensing': 1,\n",
       "          'capabilities': 1,\n",
       "          'haptic': 1,\n",
       "          'feedback': 1,\n",
       "          '20': 1,\n",
       "          'larger': 3,\n",
       "          'offering': 1,\n",
       "          'quieter': 1,\n",
       "          'capable': 2,\n",
       "          'fuller': 2,\n",
       "          'processing': 1,\n",
       "          'higher': 3,\n",
       "          'playback': 1,\n",
       "          'watching': 1,\n",
       "          'movies': 1,\n",
       "          'listening': 1,\n",
       "          'two': 5,\n",
       "          'times': 10,\n",
       "          'bass': 1,\n",
       "          'dynamic': 1,\n",
       "          'range': 1,\n",
       "          'sound.1': 1,\n",
       "          'daily': 1,\n",
       "          'activities': 2,\n",
       "          '8th': 1,\n",
       "          'intel': 7,\n",
       "          'i5': 1,\n",
       "          'uhd': 2,\n",
       "          '2133': 1,\n",
       "          'mhz': 2,\n",
       "          'memory': 9,\n",
       "          '16gb': 2,\n",
       "          'need': 2,\n",
       "          'everyday': 1,\n",
       "          'organizing': 2,\n",
       "          'browsing': 3,\n",
       "          'web': 4,\n",
       "          'presentations': 2,\n",
       "          '1.5tb': 1,\n",
       "          'capacity': 2,\n",
       "          '60': 2,\n",
       "          'launching': 1,\n",
       "          'feel': 1,\n",
       "          'snappier': 1,\n",
       "          'responsive.1': 1,\n",
       "          'port': 4,\n",
       "          'quickly': 3,\n",
       "          'transfer': 2,\n",
       "          'via': 1,\n",
       "          'output': 2,\n",
       "          'formats': 2,\n",
       "          'host': 2,\n",
       "          'docks': 1,\n",
       "          '4k': 2,\n",
       "          'egpus': 1,\n",
       "          '700': 1,\n",
       "          'ecosystem': 1,\n",
       "          'growing': 1,\n",
       "          'along': 1,\n",
       "          'thousands': 2,\n",
       "          'greenest': 2,\n",
       "          'distinct': 1,\n",
       "          ...})"
      ]
     },
     "execution_count": 20,
     "metadata": {},
     "output_type": "execute_result"
    }
   ],
   "source": [
    "text.vocab()  "
   ]
  },
  {
   "cell_type": "code",
   "execution_count": 21,
   "metadata": {},
   "outputs": [
    {
     "name": "stdout",
     "output_type": "stream",
     "text": [
      "Displaying 7 of 45 matches:\n",
      "refunds legal site map all-new macbook air takes flight - apple open \n",
      "acbookair takes flight all-new macbook air features 13-inch retina di\n",
      "le today introduced an all-new macbook air , bringing a stunning 13-i\n",
      "y life its known for , the new macbook air is available in three gorg\n",
      "thunderbolt 3 , making the new macbook air the perfect notebook to ta\n",
      " everywhere you go . the first macbook air revolutionized mac with it\n",
      "ldwide marketing . redesigning macbook air started with a stunning re\n"
     ]
    }
   ],
   "source": [
    "text.concordance('macbook', width=70, lines=7)"
   ]
  },
  {
   "cell_type": "code",
   "execution_count": 22,
   "metadata": {},
   "outputs": [
    {
     "name": "stdout",
     "output_type": "stream",
     "text": [
      "Displaying 7 of 9 matches:\n",
      "t 3 ports , and of course macos mojave in a beautiful , thinner , ligh\n",
      "ion so text and images in macos mojave look sharp and stunning . and w\n",
      "and rendering workloads.1 macos mojave all new macs come with macos mo\n",
      "ve all new macs come with macos mojave , the latest version of the wor\n",
      "esigned for everyone . in macos mojave , a new dark mode transforms th\n",
      "be . macbook air includes macos mojave , featuring dark mode , stacks \n",
      "roadest mac lineup ever . macos mojave all new macs come with macos mo\n"
     ]
    }
   ],
   "source": [
    "text.concordance('mojave', width=70, lines=7)"
   ]
  },
  {
   "cell_type": "code",
   "execution_count": 23,
   "metadata": {},
   "outputs": [],
   "source": [
    "words = sorted(set([w.lower() for w in tokens]))  "
   ]
  },
  {
   "cell_type": "code",
   "execution_count": 24,
   "metadata": {},
   "outputs": [
    {
     "data": {
      "text/plain": [
       "1230"
      ]
     },
     "execution_count": 24,
     "metadata": {},
     "output_type": "execute_result"
    }
   ],
   "source": [
    "len(words)  "
   ]
  },
  {
   "cell_type": "code",
   "execution_count": 25,
   "metadata": {},
   "outputs": [
    {
     "data": {
      "text/plain": [
       "['$', '(', ')', '+', ',', '-', '.']"
      ]
     },
     "execution_count": 25,
     "metadata": {},
     "output_type": "execute_result"
    }
   ],
   "source": [
    "words[:7]  "
   ]
  },
  {
   "cell_type": "markdown",
   "metadata": {},
   "source": [
    "### Improved Tokenization and Vocabulary"
   ]
  },
  {
   "cell_type": "code",
   "execution_count": 26,
   "metadata": {},
   "outputs": [],
   "source": [
    "t = 'A sentence about NLP; and about ML.'"
   ]
  },
  {
   "cell_type": "code",
   "execution_count": 27,
   "metadata": {},
   "outputs": [
    {
     "data": {
      "text/plain": [
       "['sentence', 'NLP']"
      ]
     },
     "execution_count": 27,
     "metadata": {},
     "output_type": "execute_result"
    }
   ],
   "source": [
    "tokens = nlp.tokenize(t, min_char=3)\n",
    "tokens"
   ]
  },
  {
   "cell_type": "code",
   "execution_count": 28,
   "metadata": {},
   "outputs": [
    {
     "name": "stdout",
     "output_type": "stream",
     "text": [
      "CPU times: user 68.8 ms, sys: 0 ns, total: 68.8 ms\n",
      "Wall time: 67.8 ms\n"
     ]
    }
   ],
   "source": [
    "%time tokens = nlp.tokenize(' '.join(data))  "
   ]
  },
  {
   "cell_type": "code",
   "execution_count": 29,
   "metadata": {},
   "outputs": [
    {
     "data": {
      "text/plain": [
       "['ipad', 'all-screen', 'designis', 'advance', 'powerful', 'ipad', 'ever']"
      ]
     },
     "execution_count": 29,
     "metadata": {},
     "output_type": "execute_result"
    }
   ],
   "source": [
    "tokens[:7]  "
   ]
  },
  {
   "cell_type": "code",
   "execution_count": 30,
   "metadata": {},
   "outputs": [],
   "source": [
    "words = sorted(set([w.lower() for w in tokens]))  "
   ]
  },
  {
   "cell_type": "code",
   "execution_count": 31,
   "metadata": {},
   "outputs": [
    {
     "data": {
      "text/plain": [
       "997"
      ]
     },
     "execution_count": 31,
     "metadata": {},
     "output_type": "execute_result"
    }
   ],
   "source": [
    "len(words)  "
   ]
  },
  {
   "cell_type": "code",
   "execution_count": 32,
   "metadata": {},
   "outputs": [
    {
     "data": {
      "text/plain": [
       "['.61', '1,149', '1,199', '1-800-my-apple', '1.5tb', '1.6ghz']"
      ]
     },
     "execution_count": 32,
     "metadata": {},
     "output_type": "execute_result"
    }
   ],
   "source": [
    "words[:6]  "
   ]
  },
  {
   "cell_type": "markdown",
   "metadata": {},
   "source": [
    "## Similarity"
   ]
  },
  {
   "cell_type": "code",
   "execution_count": 33,
   "metadata": {},
   "outputs": [],
   "source": [
    "import pandas as pd\n",
    "from sklearn.feature_extraction.text import TfidfVectorizer"
   ]
  },
  {
   "cell_type": "code",
   "execution_count": 34,
   "metadata": {},
   "outputs": [],
   "source": [
    "ts = [\n",
    "    'A sentence about NLP; and about ML.',\n",
    "    'Another one about NLP and algorithms.',\n",
    "    'A text fragment about Apple.'\n",
    "]  "
   ]
  },
  {
   "cell_type": "code",
   "execution_count": 35,
   "metadata": {},
   "outputs": [],
   "source": [
    "vec = TfidfVectorizer(stop_words='english')  "
   ]
  },
  {
   "cell_type": "code",
   "execution_count": 36,
   "metadata": {},
   "outputs": [],
   "source": [
    "mat = vec.fit_transform(ts)  "
   ]
  },
  {
   "cell_type": "code",
   "execution_count": 37,
   "metadata": {},
   "outputs": [
    {
     "data": {
      "text/plain": [
       "array([[0.   , 0.   , 0.   , 0.623, 0.474, 0.623, 0.   ],\n",
       "       [0.796, 0.   , 0.   , 0.   , 0.605, 0.   , 0.   ],\n",
       "       [0.   , 0.577, 0.577, 0.   , 0.   , 0.   , 0.577]])"
      ]
     },
     "execution_count": 37,
     "metadata": {},
     "output_type": "execute_result"
    }
   ],
   "source": [
    "mat.A.round(3)  "
   ]
  },
  {
   "cell_type": "code",
   "execution_count": 38,
   "metadata": {},
   "outputs": [],
   "source": [
    "df = pd.DataFrame(mat.A, columns=vec.get_feature_names())  "
   ]
  },
  {
   "cell_type": "code",
   "execution_count": 39,
   "metadata": {},
   "outputs": [
    {
     "data": {
      "text/html": [
       "<div>\n",
       "<style scoped>\n",
       "    .dataframe tbody tr th:only-of-type {\n",
       "        vertical-align: middle;\n",
       "    }\n",
       "\n",
       "    .dataframe tbody tr th {\n",
       "        vertical-align: top;\n",
       "    }\n",
       "\n",
       "    .dataframe thead th {\n",
       "        text-align: right;\n",
       "    }\n",
       "</style>\n",
       "<table border=\"1\" class=\"dataframe\">\n",
       "  <thead>\n",
       "    <tr style=\"text-align: right;\">\n",
       "      <th></th>\n",
       "      <th>algorithms</th>\n",
       "      <th>apple</th>\n",
       "      <th>fragment</th>\n",
       "      <th>ml</th>\n",
       "      <th>nlp</th>\n",
       "      <th>sentence</th>\n",
       "      <th>text</th>\n",
       "    </tr>\n",
       "  </thead>\n",
       "  <tbody>\n",
       "    <tr>\n",
       "      <th>0</th>\n",
       "      <td>0.000</td>\n",
       "      <td>0.000</td>\n",
       "      <td>0.000</td>\n",
       "      <td>0.623</td>\n",
       "      <td>0.474</td>\n",
       "      <td>0.623</td>\n",
       "      <td>0.000</td>\n",
       "    </tr>\n",
       "    <tr>\n",
       "      <th>1</th>\n",
       "      <td>0.796</td>\n",
       "      <td>0.000</td>\n",
       "      <td>0.000</td>\n",
       "      <td>0.000</td>\n",
       "      <td>0.605</td>\n",
       "      <td>0.000</td>\n",
       "      <td>0.000</td>\n",
       "    </tr>\n",
       "    <tr>\n",
       "      <th>2</th>\n",
       "      <td>0.000</td>\n",
       "      <td>0.577</td>\n",
       "      <td>0.577</td>\n",
       "      <td>0.000</td>\n",
       "      <td>0.000</td>\n",
       "      <td>0.000</td>\n",
       "      <td>0.577</td>\n",
       "    </tr>\n",
       "  </tbody>\n",
       "</table>\n",
       "</div>"
      ],
      "text/plain": [
       "   algorithms  apple  fragment     ml    nlp  sentence   text\n",
       "0       0.000  0.000     0.000  0.623  0.474     0.623  0.000\n",
       "1       0.796  0.000     0.000  0.000  0.605     0.000  0.000\n",
       "2       0.000  0.577     0.577  0.000  0.000     0.000  0.577"
      ]
     },
     "execution_count": 39,
     "metadata": {},
     "output_type": "execute_result"
    }
   ],
   "source": [
    "df.round(3)  "
   ]
  },
  {
   "cell_type": "code",
   "execution_count": 40,
   "metadata": {},
   "outputs": [
    {
     "data": {
      "text/plain": [
       "array([[1.        , 0.28671097, 0.        ],\n",
       "       [0.28671097, 1.        , 0.        ],\n",
       "       [0.        , 0.        , 1.        ]])"
      ]
     },
     "execution_count": 40,
     "metadata": {},
     "output_type": "execute_result"
    }
   ],
   "source": [
    "(mat * mat.T).A  "
   ]
  },
  {
   "cell_type": "code",
   "execution_count": 41,
   "metadata": {},
   "outputs": [],
   "source": [
    "tl = [' '.join(nlp.tokenize(t)) for t in data]  "
   ]
  },
  {
   "cell_type": "code",
   "execution_count": 42,
   "metadata": {},
   "outputs": [
    {
     "data": {
      "text/plain": [
       "<3x902 sparse matrix of type '<class 'numpy.float64'>'\n",
       "\twith 1514 stored elements in Compressed Sparse Row format>"
      ]
     },
     "execution_count": 42,
     "metadata": {},
     "output_type": "execute_result"
    }
   ],
   "source": [
    "mat = vec.fit_transform(tl)  \n",
    "mat  "
   ]
  },
  {
   "cell_type": "code",
   "execution_count": 43,
   "metadata": {},
   "outputs": [
    {
     "data": {
      "text/plain": [
       "array([[1.        , 0.40518205, 0.34496952],\n",
       "       [0.40518205, 1.        , 0.47562226],\n",
       "       [0.34496952, 0.47562226, 1.        ]])"
      ]
     },
     "execution_count": 43,
     "metadata": {},
     "output_type": "execute_result"
    }
   ],
   "source": [
    "sm = (mat * mat.T).A  \n",
    "sm  "
   ]
  },
  {
   "cell_type": "code",
   "execution_count": 44,
   "metadata": {},
   "outputs": [],
   "source": [
    "prs = ['ipad', 'air', 'mini']  "
   ]
  },
  {
   "cell_type": "code",
   "execution_count": 45,
   "metadata": {},
   "outputs": [],
   "source": [
    "df = pd.DataFrame(sm, index=prs, columns=prs)  "
   ]
  },
  {
   "cell_type": "code",
   "execution_count": 46,
   "metadata": {},
   "outputs": [
    {
     "data": {
      "text/html": [
       "<div>\n",
       "<style scoped>\n",
       "    .dataframe tbody tr th:only-of-type {\n",
       "        vertical-align: middle;\n",
       "    }\n",
       "\n",
       "    .dataframe tbody tr th {\n",
       "        vertical-align: top;\n",
       "    }\n",
       "\n",
       "    .dataframe thead th {\n",
       "        text-align: right;\n",
       "    }\n",
       "</style>\n",
       "<table border=\"1\" class=\"dataframe\">\n",
       "  <thead>\n",
       "    <tr style=\"text-align: right;\">\n",
       "      <th></th>\n",
       "      <th>ipad</th>\n",
       "      <th>air</th>\n",
       "      <th>mini</th>\n",
       "    </tr>\n",
       "  </thead>\n",
       "  <tbody>\n",
       "    <tr>\n",
       "      <th>ipad</th>\n",
       "      <td>1.000000</td>\n",
       "      <td>0.405182</td>\n",
       "      <td>0.344970</td>\n",
       "    </tr>\n",
       "    <tr>\n",
       "      <th>air</th>\n",
       "      <td>0.405182</td>\n",
       "      <td>1.000000</td>\n",
       "      <td>0.475622</td>\n",
       "    </tr>\n",
       "    <tr>\n",
       "      <th>mini</th>\n",
       "      <td>0.344970</td>\n",
       "      <td>0.475622</td>\n",
       "      <td>1.000000</td>\n",
       "    </tr>\n",
       "  </tbody>\n",
       "</table>\n",
       "</div>"
      ],
      "text/plain": [
       "          ipad       air      mini\n",
       "ipad  1.000000  0.405182  0.344970\n",
       "air   0.405182  1.000000  0.475622\n",
       "mini  0.344970  0.475622  1.000000"
      ]
     },
     "execution_count": 46,
     "metadata": {},
     "output_type": "execute_result"
    }
   ],
   "source": [
    "df  "
   ]
  },
  {
   "cell_type": "markdown",
   "metadata": {},
   "source": [
    "## Word Clouds"
   ]
  },
  {
   "cell_type": "code",
   "execution_count": 47,
   "metadata": {
    "scrolled": false
   },
   "outputs": [
    {
     "data": {
      "image/png": "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\n",
      "text/plain": [
       "<Figure size 720x720 with 1 Axes>"
      ]
     },
     "metadata": {
      "needs_background": "light"
     },
     "output_type": "display_data"
    },
    {
     "data": {
      "image/png": "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