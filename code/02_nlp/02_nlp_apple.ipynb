{
 "cells": [
  {
   "cell_type": "markdown",
   "metadata": {},
   "source": [
    "<img src=\"http://hilpisch.com/tpq_logo.png\" width=\"36%\" align=\"right\" style=\"vertical-align: top;\">"
   ]
  },
  {
   "cell_type": "markdown",
   "metadata": {},
   "source": [
    "# Natural Language Processing\n",
    "\n",
    "**Basic Techniques and Algorithms**\n",
    "\n",
    "_Illustrated based on the texts from three Apple press releases._\n",
    "\n",
    "Dr Yves J Hilpisch | Michael Schwed\n",
    "\n",
    "The Python Quants GmbH"
   ]
  },
  {
   "cell_type": "markdown",
   "metadata": {},
   "source": [
    "## Data Retrieval"
   ]
  },
  {
   "cell_type": "code",
   "execution_count": 1,
   "metadata": {},
   "outputs": [],
   "source": [
    "import requests"
   ]
  },
  {
   "cell_type": "code",
   "execution_count": 2,
   "metadata": {},
   "outputs": [],
   "source": [
    "sources = [\n",
    "    'https://nr.apple.com/dE0b1T5G3u',  # iPad Pro\n",
    "    'https://nr.apple.com/dE4c7T6g1K',  # MacBook Air\n",
    "    'https://nr.apple.com/dE4q4r8A2A',  # Mac Mini\n",
    "]  "
   ]
  },
  {
   "cell_type": "code",
   "execution_count": 3,
   "metadata": {},
   "outputs": [],
   "source": [
    "html = [requests.get(url).text for url in sources]  "
   ]
  },
  {
   "cell_type": "markdown",
   "metadata": {},
   "source": [
    "## Preprocessing"
   ]
  },
  {
   "cell_type": "code",
   "execution_count": 4,
   "metadata": {},
   "outputs": [],
   "source": [
    "import sys\n",
    "sys.path.append('../../modules/')\n",
    "import nlp_functions as nlp  "
   ]
  },
  {
   "cell_type": "code",
   "execution_count": 5,
   "metadata": {},
   "outputs": [],
   "source": [
    "data = [nlp.clean_up_text(t) for t in html]  "
   ]
  },
  {
   "cell_type": "code",
   "execution_count": 6,
   "metadata": {},
   "outputs": [
    {
     "data": {
      "text/plain": [
       "'new ipad pro with all-screen designis most advanced, powerful ipad ever - apple open menu close menu apple shopping bag search apple.com cancel apple mac ipad iphone watch tv music support shopping bag newsroom open menu close menu archive press release october 30, 2018 new ipad pro with all-screen designis most advanced, powerful ipad ever 11-inch and 12.9-inch models feature liquid retina display, powerful a12x bionic chip and face id introducing the new ipad pro with all-screen design and nex'"
      ]
     },
     "execution_count": 6,
     "metadata": {},
     "output_type": "execute_result"
    }
   ],
   "source": [
    "data[0][:500]  "
   ]
  },
  {
   "cell_type": "markdown",
   "metadata": {},
   "source": [
    "## Basic Text Analysis"
   ]
  },
  {
   "cell_type": "code",
   "execution_count": 7,
   "metadata": {},
   "outputs": [],
   "source": [
    "import nltk"
   ]
  },
  {
   "cell_type": "code",
   "execution_count": 8,
   "metadata": {},
   "outputs": [
    {
     "data": {
      "text/plain": [
       "'3.2.5'"
      ]
     },
     "execution_count": 8,
     "metadata": {},
     "output_type": "execute_result"
    }
   ],
   "source": [
    "nltk.__version__"
   ]
  },
  {
   "cell_type": "code",
   "execution_count": 9,
   "metadata": {},
   "outputs": [],
   "source": [
    "# to be executed once\n",
    "# nltk.download('punkt')\n",
    "# nltk.download('wordnet')\n",
    "# nltk.download('stopwords')\n",
    "# nltk.download('vader_lexicon')"
   ]
  },
  {
   "cell_type": "markdown",
   "metadata": {},
   "source": [
    "### Basic Tokenization and Vocabulary"
   ]
  },
  {
   "cell_type": "code",
   "execution_count": 10,
   "metadata": {},
   "outputs": [],
   "source": [
    "t = 'A sentence about NLP; and about ML.'"
   ]
  },
  {
   "cell_type": "code",
   "execution_count": 11,
   "metadata": {},
   "outputs": [
    {
     "data": {
      "text/plain": [
       "['A', 'sentence', 'about', 'NLP', ';', 'and', 'about', 'ML', '.']"
      ]
     },
     "execution_count": 11,
     "metadata": {},
     "output_type": "execute_result"
    }
   ],
   "source": [
    "nltk.word_tokenize(t)"
   ]
  },
  {
   "cell_type": "code",
   "execution_count": 12,
   "metadata": {},
   "outputs": [
    {
     "data": {
      "text/plain": [
       "['new',\n",
       " 'ipad',\n",
       " 'pro',\n",
       " 'with',\n",
       " 'all-screen',\n",
       " 'designis',\n",
       " 'most',\n",
       " 'advanced',\n",
       " ',',\n",
       " 'powerful']"
      ]
     },
     "execution_count": 12,
     "metadata": {},
     "output_type": "execute_result"
    }
   ],
   "source": [
    "nltk.word_tokenize(data[0])[:10]  "
   ]
  },
  {
   "cell_type": "code",
   "execution_count": 13,
   "metadata": {},
   "outputs": [],
   "source": [
    "tokens = nltk.word_tokenize(' '.join(data))  "
   ]
  },
  {
   "cell_type": "code",
   "execution_count": 14,
   "metadata": {},
   "outputs": [],
   "source": [
    "text = nltk.Text(tokens)  "
   ]
  },
  {
   "cell_type": "code",
   "execution_count": 15,
   "metadata": {},
   "outputs": [
    {
     "data": {
      "text/plain": [
       "93"
      ]
     },
     "execution_count": 15,
     "metadata": {},
     "output_type": "execute_result"
    }
   ],
   "source": [
    "text.count('ipad')  "
   ]
  },
  {
   "cell_type": "code",
   "execution_count": 16,
   "metadata": {},
   "outputs": [
    {
     "data": {
      "text/plain": [
       "9"
      ]
     },
     "execution_count": 16,
     "metadata": {},
     "output_type": "execute_result"
    }
   ],
   "source": [
    "text.count('mojave')  "
   ]
  },
  {
   "cell_type": "code",
   "execution_count": 17,
   "metadata": {},
   "outputs": [
    {
     "name": "stdout",
     "output_type": "stream",
     "text": [
      "ipad pro; macbook air; mac mini; close menu; menu close; open menu;\n",
      "smart keyboard; keyboard folio; retina display; a12x bionic; macos\n",
      "mojave; security chip; battery life; apple pencil; liquid retina;\n",
      "apple store; first time; shopping bag; five times; space gray\n"
     ]
    }
   ],
   "source": [
    "text.collocations()  "
   ]
  },
  {
   "cell_type": "code",
   "execution_count": 18,
   "metadata": {},
   "outputs": [
    {
     "name": "stdout",
     "output_type": "stream",
     "text": [
      "memory a wireless more viewer efficiency other latest\n"
     ]
    }
   ],
   "source": [
    "text.similar('performance')  "
   ]
  },
  {
   "cell_type": "code",
   "execution_count": 19,
   "metadata": {},
   "outputs": [
    {
     "name": "stdout",
     "output_type": "stream",
     "text": [
      "new_pro to_pro for_pro\n"
     ]
    }
   ],
   "source": [
    "text.common_contexts(['ipad', 'macbook'])  "
   ]
  },
  {
   "cell_type": "code",
   "execution_count": 20,
   "metadata": {},
   "outputs": [
    {
     "data": {
      "text/plain": [
       "FreqDist({'new': 99,\n",
       "          'ipad': 93,\n",
       "          'pro': 73,\n",
       "          'with': 85,\n",
       "          'all-screen': 6,\n",
       "          'designis': 3,\n",
       "          'most': 23,\n",
       "          'advanced': 13,\n",
       "          ',': 344,\n",
       "          'powerful': 19,\n",
       "          'ever': 21,\n",
       "          '-': 3,\n",
       "          'apple': 138,\n",
       "          'open': 27,\n",
       "          'menu': 54,\n",
       "          'close': 27,\n",
       "          'shopping': 9,\n",
       "          'bag': 6,\n",
       "          'search': 3,\n",
       "          'apple.com': 19,\n",
       "          'cancel': 3,\n",
       "          'mac': 58,\n",
       "          'iphone': 13,\n",
       "          'watch': 9,\n",
       "          'tv': 9,\n",
       "          'music': 11,\n",
       "          'support': 12,\n",
       "          'newsroom': 12,\n",
       "          'archive': 3,\n",
       "          'press': 6,\n",
       "          'release': 3,\n",
       "          'october': 5,\n",
       "          '30': 6,\n",
       "          '2018': 9,\n",
       "          '11-inch': 9,\n",
       "          'and': 253,\n",
       "          '12.9-inch': 9,\n",
       "          'models': 5,\n",
       "          'feature': 3,\n",
       "          'liquid': 7,\n",
       "          'retina': 13,\n",
       "          'display': 20,\n",
       "          'a12x': 8,\n",
       "          'bionic': 8,\n",
       "          'chip': 16,\n",
       "          'face': 10,\n",
       "          'id': 20,\n",
       "          'introducing': 2,\n",
       "          'the': 232,\n",
       "          'design': 19,\n",
       "          'next-generation': 7,\n",
       "          'performance': 25,\n",
       "          '.': 170,\n",
       "          'york': 3,\n",
       "          'today': 15,\n",
       "          'introduced': 2,\n",
       "          'marking': 1,\n",
       "          'biggest': 1,\n",
       "          'change': 1,\n",
       "          'to': 125,\n",
       "          'all-new': 14,\n",
       "          'pushes': 1,\n",
       "          'displays': 6,\n",
       "          'edges': 2,\n",
       "          'of': 69,\n",
       "          'integrates': 1,\n",
       "          'securely': 2,\n",
       "          'unlock': 4,\n",
       "          'just': 8,\n",
       "          'a': 83,\n",
       "          'glance.1': 1,\n",
       "          'neural': 4,\n",
       "          'engine': 5,\n",
       "          'in': 58,\n",
       "          'outperforms': 2,\n",
       "          'pc': 1,\n",
       "          'laptops': 2,\n",
       "          'offers': 4,\n",
       "          'usb-c': 11,\n",
       "          'connector': 5,\n",
       "          'gigabit-class': 1,\n",
       "          'lte': 1,\n",
       "          'up': 30,\n",
       "          '1tb': 4,\n",
       "          'storage': 11,\n",
       "          'enable': 4,\n",
       "          'mobile': 3,\n",
       "          'workflows.2': 1,\n",
       "          'over': 6,\n",
       "          'million': 3,\n",
       "          'apps': 19,\n",
       "          'designed': 5,\n",
       "          'take': 7,\n",
       "          'advantage': 5,\n",
       "          'large': 6,\n",
       "          'multi-touch': 1,\n",
       "          'including': 17,\n",
       "          'like': 9,\n",
       "          'photoshop': 1,\n",
       "          'cc': 1,\n",
       "          'on': 36,\n",
       "          '(': 21,\n",
       "          'coming': 3,\n",
       "          '2019': 2,\n",
       "          ')': 21,\n",
       "          'will': 11,\n",
       "          'push': 2,\n",
       "          'what': 1,\n",
       "          'users': 10,\n",
       "          'can': 12,\n",
       "          'do': 2,\n",
       "          'computer': 4,\n",
       "          'further': 3,\n",
       "          'than': 23,\n",
       "          'before': 3,\n",
       "          'designs': 2,\n",
       "          'second-generation': 2,\n",
       "          'pencil': 12,\n",
       "          'magnetically': 2,\n",
       "          'attaches': 2,\n",
       "          'wirelessly': 2,\n",
       "          'charges': 1,\n",
       "          'at': 19,\n",
       "          'same': 8,\n",
       "          'time': 11,\n",
       "          'touch': 15,\n",
       "          'sensor': 2,\n",
       "          'built': 6,\n",
       "          'onto': 1,\n",
       "          'detects': 1,\n",
       "          'taps': 1,\n",
       "          'an': 27,\n",
       "          'entirely': 1,\n",
       "          'way': 1,\n",
       "          'interact': 1,\n",
       "          'within': 2,\n",
       "          'smart': 14,\n",
       "          'keyboard': 19,\n",
       "          'folio': 15,\n",
       "          'features': 25,\n",
       "          'streamlined': 2,\n",
       "          'thats': 3,\n",
       "          'adjustable': 3,\n",
       "          'for': 97,\n",
       "          'added': 4,\n",
       "          'versatility': 3,\n",
       "          'are': 19,\n",
       "          'available': 20,\n",
       "          'order': 8,\n",
       "          'starting': 9,\n",
       "          'stores': 4,\n",
       "          'wednesday': 5,\n",
       "          'november': 5,\n",
       "          '7.': 3,\n",
       "          'offer': 2,\n",
       "          'take-anywhere': 1,\n",
       "          'power': 9,\n",
       "          'is': 39,\n",
       "          'huge': 4,\n",
       "          'step': 1,\n",
       "          'forward': 1,\n",
       "          'creative': 3,\n",
       "          'computing': 2,\n",
       "          ';': 2,\n",
       "          'it': 17,\n",
       "          'has': 9,\n",
       "          'thinner': 4,\n",
       "          'speeds': 2,\n",
       "          'through': 8,\n",
       "          'projects': 1,\n",
       "          'super-fast': 1,\n",
       "          'unlocks': 1,\n",
       "          'glance': 1,\n",
       "          'using': 10,\n",
       "          'any': 8,\n",
       "          'orientation': 2,\n",
       "          'while': 3,\n",
       "          'youre': 1,\n",
       "          'sitting': 1,\n",
       "          'or': 25,\n",
       "          'standing': 1,\n",
       "          'your': 16,\n",
       "          'desk': 2,\n",
       "          'lap': 2,\n",
       "          'said': 3,\n",
       "          'philip': 3,\n",
       "          'schiller': 3,\n",
       "          'apples': 11,\n",
       "          'senior': 3,\n",
       "          'vice': 3,\n",
       "          'president': 3,\n",
       "          'worldwide': 3,\n",
       "          'marketing': 3,\n",
       "          'there': 1,\n",
       "          'never': 2,\n",
       "          'been': 3,\n",
       "          'device': 9,\n",
       "          'anything': 3,\n",
       "          'gorgeous': 3,\n",
       "          'edge-to-edge': 3,\n",
       "          'that': 20,\n",
       "          'curves': 2,\n",
       "          'into': 10,\n",
       "          'corners': 4,\n",
       "          'breakthrough': 5,\n",
       "          'cameras': 4,\n",
       "          'sensors': 3,\n",
       "          'best': 9,\n",
       "          'ar': 10,\n",
       "          'experiences': 7,\n",
       "          'high-speed': 1,\n",
       "          'louder': 2,\n",
       "          'speakers': 3,\n",
       "          'faster': 24,\n",
       "          'wireless': 4,\n",
       "          'more': 52,\n",
       "          'all': 21,\n",
       "          'packed': 3,\n",
       "          'all-day': 4,\n",
       "          'battery': 9,\n",
       "          'life': 10,\n",
       "          '25': 4,\n",
       "          'percent': 19,\n",
       "          'smaller': 3,\n",
       "          'volume': 2,\n",
       "          'stunning': 7,\n",
       "          'rounded': 3,\n",
       "          'worlds': 5,\n",
       "          'follow': 2,\n",
       "          'pros': 3,\n",
       "          'unibody': 1,\n",
       "          'enclosure': 8,\n",
       "          'precision-milled': 1,\n",
       "          'glass': 1,\n",
       "          'pixel': 1,\n",
       "          'masking': 1,\n",
       "          'sub-pixel': 1,\n",
       "          'antialiasing': 1,\n",
       "          'backlight': 1,\n",
       "          'brightest': 1,\n",
       "          'color': 4,\n",
       "          'accurate': 3,\n",
       "          'featuring': 6,\n",
       "          'wide': 4,\n",
       "          'true': 1,\n",
       "          'tone': 1,\n",
       "          'anti-reflective': 1,\n",
       "          'coating': 1,\n",
       "          'natural': 1,\n",
       "          'viewing': 2,\n",
       "          'experience': 4,\n",
       "          'indoors': 1,\n",
       "          'out': 1,\n",
       "          'promotion': 1,\n",
       "          'technology': 6,\n",
       "          'automatically': 4,\n",
       "          'adjusts': 2,\n",
       "          'refresh': 1,\n",
       "          'rate': 1,\n",
       "          '120hz': 1,\n",
       "          'ultra-smooth': 1,\n",
       "          'scrolling': 1,\n",
       "          'incredible': 3,\n",
       "          'responsiveness': 1,\n",
       "          'easily': 3,\n",
       "          'content': 5,\n",
       "          'viewer': 1,\n",
       "          'packs': 5,\n",
       "          'bigger': 1,\n",
       "          'pixels': 3,\n",
       "          'footprint': 5,\n",
       "          'as': 16,\n",
       "          '10.5-inch': 1,\n",
       "          'model': 6,\n",
       "          'yet': 2,\n",
       "          'still': 2,\n",
       "          'weighs': 1,\n",
       "          'one': 1,\n",
       "          'pound': 2,\n",
       "          'places': 1,\n",
       "          'largest': 1,\n",
       "          'portable': 8,\n",
       "          'package': 1,\n",
       "          'massive': 2,\n",
       "          'reduction': 1,\n",
       "          'volume.3': 1,\n",
       "          'both': 2,\n",
       "          '5.9': 2,\n",
       "          'mm': 3,\n",
       "          'thin': 4,\n",
       "          'thinnest': 2,\n",
       "          'making': 9,\n",
       "          'now': 18,\n",
       "          'even': 11,\n",
       "          'easier': 1,\n",
       "          'you': 11,\n",
       "          'specifically': 2,\n",
       "          'smartest': 2,\n",
       "          'tablet': 4,\n",
       "          'demanding': 2,\n",
       "          'tasks': 4,\n",
       "          'editing': 7,\n",
       "          'photos': 4,\n",
       "          'creating': 4,\n",
       "          '3d': 3,\n",
       "          'responsive': 2,\n",
       "          'industry-leading': 2,\n",
       "          'seven-nanometer': 1,\n",
       "          'eight-core': 1,\n",
       "          'four': 9,\n",
       "          'cores': 3,\n",
       "          'efficiency': 1,\n",
       "          '35': 1,\n",
       "          'single-core': 1,\n",
       "          'controller': 3,\n",
       "          'simultaneous': 1,\n",
       "          'use': 12,\n",
       "          'eight': 1,\n",
       "          '90': 1,\n",
       "          'boost': 2,\n",
       "          'during': 4,\n",
       "          'multi-threaded': 1,\n",
       "          'tasks.3': 1,\n",
       "          'seven-core': 1,\n",
       "          'apple-designed': 6,\n",
       "          'gpu': 1,\n",
       "          'delivers': 8,\n",
       "          'twice': 3,\n",
       "          'graphics': 12,\n",
       "          'incredibly': 3,\n",
       "          'rich': 3,\n",
       "          'immersive': 3,\n",
       "          'console-quality': 1,\n",
       "          'capability': 1,\n",
       "          'lasts': 1,\n",
       "          'day': 1,\n",
       "          'thanks': 1,\n",
       "          'great': 1,\n",
       "          '10-hour': 1,\n",
       "          'life.4': 1,\n",
       "          'machine': 3,\n",
       "          'learning': 3,\n",
       "          'everything': 3,\n",
       "          'from': 16,\n",
       "          'photography': 1,\n",
       "          'completing': 1,\n",
       "          '5': 1,\n",
       "          'trillion': 1,\n",
       "          'operations': 1,\n",
       "          'per': 1,\n",
       "          'second': 2,\n",
       "          'this': 5,\n",
       "          'enables': 4,\n",
       "          'fast': 6,\n",
       "          'plane': 1,\n",
       "          'detection': 1,\n",
       "          'other': 3,\n",
       "          'real-time': 1,\n",
       "          'deliver': 3,\n",
       "          'improved': 4,\n",
       "          'core': 6,\n",
       "          'ml': 1,\n",
       "          'empowering': 1,\n",
       "          'developers': 4,\n",
       "          'build': 2,\n",
       "          'workflows': 5,\n",
       "          'utilize': 1,\n",
       "          'highly': 1,\n",
       "          'efficient': 2,\n",
       "          'comes': 8,\n",
       "          'secure': 11,\n",
       "          'facial': 2,\n",
       "          'authentication': 2,\n",
       "          'system': 6,\n",
       "          'first': 8,\n",
       "          'work': 3,\n",
       "          'holding': 1,\n",
       "          'position': 1,\n",
       "          'seated': 1,\n",
       "          'takes': 5,\n",
       "          'truedepth': 2,\n",
       "          'camera': 3,\n",
       "          'accurately': 1,\n",
       "          'map': 4,\n",
       "          'recognize': 1,\n",
       "          'pay': 6,\n",
       "          'online': 4,\n",
       "          'allow': 4,\n",
       "          'gain': 1,\n",
       "          'access': 2,\n",
       "          'also': 16,\n",
       "          'animoji': 2,\n",
       "          'memoji': 2,\n",
       "          'four-speaker': 2,\n",
       "          'audio': 9,\n",
       "          'combine': 1,\n",
       "          'turn': 2,\n",
       "          'its': 6,\n",
       "          'viewfinder': 2,\n",
       "          'next': 2,\n",
       "          'generation': 12,\n",
       "          'world': 7,\n",
       "          'possible': 1,\n",
       "          'such': 1,\n",
       "          'measuring': 2,\n",
       "          'reflection': 1,\n",
       "          'real-world': 1,\n",
       "          'objects': 1,\n",
       "          'navigating': 1,\n",
       "          'buildings': 1,\n",
       "          'exploring': 1,\n",
       "          'entire': 2,\n",
       "          'universes': 1,\n",
       "          'adobes': 1,\n",
       "          'project': 1,\n",
       "          'aero': 1,\n",
       "          'creators': 1,\n",
       "          'purchase': 2,\n",
       "          'separately': 1,\n",
       "          'give': 3,\n",
       "          'levels': 1,\n",
       "          'precision': 1,\n",
       "          'productivity': 1,\n",
       "          'pairing': 1,\n",
       "          'charging': 2,\n",
       "          'becomes': 1,\n",
       "          'intuitive': 1,\n",
       "          'select': 2,\n",
       "          'right': 2,\n",
       "          'tool': 1,\n",
       "          'brush': 1,\n",
       "          'simple': 5,\n",
       "          'double': 2,\n",
       "          'tap': 2,\n",
       "          'notes': 1,\n",
       "          'leading': 1,\n",
       "          'adobe': 3,\n",
       "          'autodesk': 1,\n",
       "          'procreate': 1,\n",
       "          'be': 13,\n",
       "          'gives': 1,\n",
       "          'ability': 2,\n",
       "          'productive': 1,\n",
       "          'protects': 2,\n",
       "          'front': 1,\n",
       "          'back': 1,\n",
       "  