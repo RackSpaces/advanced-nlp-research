{
 "cells": [
  {
   "cell_type": "markdown",
   "metadata": {},
   "source": [
    "<img src=\"http://hilpisch.com/tpq_logo.png\" width=\"36%\" align=\"right\" style=\"vertical-align: top;\">"
   ]
  },
  {
   "cell_type": "markdown",
   "metadata": {},
   "source": [
    "# Natural Language Processing\n",
    "\n",
    "**Basic Techniques and Algorithms**\n",
    "\n",
    "_Illustrated based on the texts from three Apple press releases._\n",
    "\n",
    "Dr Yves J Hilpisch | Michael Schwed\n",
    "\n",
    "The Python Quants GmbH"
   ]
  },
  {
   "cell_type": "markdown",
   "metadata": {},
   "source": [
    "## Data Retrieval"
   ]
  },
  {
   "cell_type": "code",
   "execution_count": 1,
   "metadata": {},
   "outputs": [],
   "source": [
    "import requests"
   ]
  },
  {
   "cell_type": "code",
   "execution_count": 2,
   "metadata": {},
   "outputs": [],
   "source": [
    "sources = [\n",
    "    'https://nr.apple.com/dE0b1T5G3u',  # iPad Pro\n",
    "    'https://nr.apple.com/dE4c7T6g1K',  # MacBook Air\n",
    "    'https://nr.apple.com/dE4q4r8A2A',  # Mac Mini\n",
    "]  "
   ]
  },
  {
   "cell_type": "code",
   "execution_count": 3,
   "metadata": {},
   "outputs": [],
   "source": [
    "html = [requests.get(url).text for url in sources]  "
   ]
  },
  {
   "cell_type": "markdown",
   "metadata": {},
   "source": [