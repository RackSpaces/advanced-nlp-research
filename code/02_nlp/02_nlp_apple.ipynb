{
 "cells": [
  {
   "cell_type": "markdown",
   "metadata": {},
   "source": [
    "<img src=\"http://hilpisch.com/tpq_logo.png\" width=\"36%\" align=\"right\" style=\"vertical-align: top;\">"
   ]
  },
  {
   "cell_type": "markdown",
   "metadata": {},
   "source": [
    "# Natural Language Processing\n",
    "\n",
    "**Basic Techniques and Algorithms**\n",
    "\n",
    "_Illustrated based on the texts from three Apple press releases._\n",
    "\n",
    "Dr Yves J Hilpisch | Michael Schwed\n",
    "\n",
    "The Python Quants GmbH"
   ]
  },
  {
   "cell_type": "markdown",
   "metadata": {},
   "source": [
    "## Data Retrieval"
   ]
  },
  {
   "cell_type": "code",
   "execution_count": 1,
   "metadata": {},
   "outputs": [],
   "source": [
    "import requests"
   ]
  },
  {
   "cell_type": "code",
   "execution_count": 2,
   "metadata": {},
   "outputs": [],
   "source": [
    "sources = [\n",
    "    'https://nr.apple.com/dE0b1T5G3u',  # iPad Pro\n",
    "    'https://nr.apple.com/dE4c7T6g1K',  # MacBook Air\n",
    "    'https://nr.apple.com/dE4q4r8A2A',  # Mac Mini\n",
    "]  "
   ]
  },
  {
   "cell_type": "code",
   "execution_count": 3,
   "metadata": {},
   "outputs": [],
   "source": [
    "html = [requests.get(url).text for url in sources]  "
   ]
  },
  {
   "cell_type": "markdown",
   "metadata": {},
   "source": [
    "## Preprocessing"
   ]
  },
  {
   "cell_type": "code",
   "execution_count": 4,
   "metadata": {},
   "outputs": [],
   "source": [
    "import sys\n",
    "sys.path.append('../../modules/')\n",
    "import nlp_functions as nlp  "
   ]
  },
  {
   "cell_type": "code",
   "execution_count": 5,
   "metadata": {},
   "outputs": [],
   "source": [
    "data = [nlp.clean_up_text(t) for t in html]  "
   ]
  },
  {
   "cell_type": "code",
   "execution_count": 6,
   "metadata": {},
   "outputs": [
    {
     "data": {
      "text/plain": [
       "'new ipad pro with all-screen designis most advanced, powerful ipad ever - apple open menu close menu apple shopping bag search apple.com cancel apple mac ipad iphone watch tv music support shopping bag newsroom open menu close menu archive press release october 30, 2018 new ipad pro with all-screen designis most advanced, powerful ipad ever 11-inch and 12.9-inch models feature liquid retina display, powerful a12x bionic chip and face id introducing the new ipad pro with all-screen design and nex'"
      ]
     },
     "execution_count": 6,
     "metadata": {},
     "output_type": "execute_result"
    }
   ],
   "source": [
    "data[0][:500]  "
   ]
  },
  {
   "cell_type": "markdown",
   "metadata": {},
   "source": [
    "## Basic Text Analysis"
   ]
  },
  {
   "cell_type": "code",
   "execution_count": 7,
   "metadata": {},
   "outputs": [],
   "source": [
    "import nltk"
   ]
  },
  {
   "cell_type": "code",
   "execution_count": 8,
   "metadata": {},
   "outputs": [
    {
     "data": {
      "text/plain": [
       "'3.2.5'"
      ]
     },
     "execution_count": 8,
     "metadata": {},
     "output_type": "execute_result"
    }
   ],
   "source": [
    "nltk.__version__"
   ]
  },
  {
   "cell_type": "code",
   "execution_count": 9,
   "metadata": {},
   "outputs": [],
   "source": [
    "# to be executed once\n",
    "# nltk.download('punkt')\n",
    "# nltk.download('wordnet')\n",
    "# nltk.download('stopwords')\n",
    "# nltk.download('vader_lexicon')"
   ]
  },
  {
   "cell_type": "markdown",
   "metadata": {},
   "source": [
    "### Basic Tokenization and Vocabulary"
   ]
  },
  {
   "cell_type": "code",
   "execution_count": 10,
   "metadata": {},
   "outputs": [],
   "source": [
    "t = 'A sentence about NLP; and about ML.'"
   ]
  },
  {
   "cell_type": "code",
   "execution_count": 11,
   "metadata": {},
   "outputs": [
    {
     "data": {
      "text/plain": [
       "['A', 'sentence', 'about', 'NLP', ';', 'and', 'about', 'ML', '.']"
      ]
     },
     "execution_count": 11,
     "metadata": {},
     "output_type": "execute_result"
    }
   ],
   "source": [
    "nltk.word_tokenize(t)"
   ]
  },
  {
   "cell_type": "code",
   "execution_count": 12,
   "metadata": {},
   "outputs": [
    {
     "data": {
      "text/plain": [
       "['new',\n",
       " 'ipad',\n",
       " 'pro',\n",
       " 'with',\n",
       " 'all-screen',\n",
       " 'designis',\n",
       " 'most',\n",
       " 'advanced',\n",
       " ',',\n",
       " 'powerful']"
      ]
     },
     "execution_count": 12,
     "metadata": {},
     "output_type": "execute_result"
    }
   ],
   "source": [
    "nltk.word_tokenize(data[0])[:10]  "
   ]
  },
  {
   "cell_type": "code",
   "execution_count": 13,
   "metadata": {},
   "outputs": [],
   "source": [
    "tokens = nltk.word_tokenize(' '.join(data))  "
   ]
  },
  {
   "cell_type": "code",
   "execution_count": 14,
   "metadata": {},
   "outputs": [],
   "source": [
    "text = nltk.Text(tokens)  "
   ]
  },
  {
   "cell_type": "code",
   "execution_count": 15,
   "metadata": {},
   "outputs": [
    {
     "data": {
      "text/plain": [
       "93"
      ]
     },
     "execution_count": 15,
     "metadata": {},
     "output_type": "execute_result"
    }
   ],
   "source": [
    "text.count('ipad')  "
   ]
  },
  {
   "cell_type": "code",
   "execution_count": 16,
   "metadata": {},
   "outputs": [
    {
     "data": {
      "text/plain": [
       "9"
      ]
     },
     "execution_count": 16,
     "metadata": {},
     "output_type": "execute_result"
    }
   ],
   "source": [
    "text.count('mojave')  "
   ]
  },
  {
   "cell_type": "code",
   "execution_count": 17,
   "metadata": {},
   "outputs": [
    {
     "name": "stdout",
     "output_type": "stream",
     "text": [
      "ipad pro; macbook air; mac mini; close menu; menu close; open menu;\n",
      "smart keyboard; keyboard folio; retina display; a12x bionic; macos\n",
      "mojave; security chip; battery life; apple pencil; liquid retina;\n",
      "apple store; first time; shopping bag; five times; space gray\n"
     ]
    }
   ],
   "source": [
    "text.collocations()  "
   ]
  },
  {
   "cell_type": "code",
   "execution_count": 18,
   "metadata": {},
   "outputs": [
    {
     "name": "stdout",
     "output_type": "stream",
     "text": [
      "memory a wireless more viewer efficiency other latest\n"
     ]
    }
   ],
   "source": [
    "text.similar('performance')  "
   ]
  },
  {
   "cell_type": "code",
   "execution_count": 19,
   "metadata": {},
   "outputs": [
    {
     "name": "stdout",
     "output_type": "stream",
     "text": [
      "new_pro to_pro for_pro\n"
     ]
    }
   ],
   "source": [
    "text.common_contexts(['ipad', 'macbook'])  "
   ]
  },
  {
   "cell_type": "code",
   "execution_count": 20,
   "metadata": {},
   "outputs": [
    {
     "data": {
      "text/plain": [
       "FreqDist({'new': 99,\n",
       "          'ipad': 93,\n",
       "          'pro': 73,\n",
       "          'with': 85,\n",
       "          'all-screen': 6,\n",
       "          'designis': 3,\n",
       "          'most': 23,\n",
       "          'advanced': 13,\n",
       "          ',': 344,\n",
       "          'powerful': 19,\n",
       "          'ever': 21,\n",
       "          '-': 3,\n",
       "          'apple': 138,\n",
       "          'open': 27,\n",
       "          'menu': 54,\n",
       "          'close': 27,\n",
       "          'shopping': 9,\n",
       "          'bag': 6,\n",
       "          'search': 3,\n",
       "          'apple.com': 19,\n",
       "          'cancel': 3,\n",
       "          'mac': 58,\n",
       "          'iphone': 13,\n",
       "          'watch': 9,\n",
       "          'tv': 9,\n",
       "          'music': 11,\n",
       "          'support': 12,\n",
       "          'newsroom': 12,\n",
       "          'archive': 3,\n",
       "          'press': 6,\n",
       "          'release': 3,\n",
       "          'october': 5,\n",
       "          '30': 6,\n",
       "          '2018': 9,\n",
       "          '11-inch': 9,\n",
       "          'and': 253,\n",
       "          '12.9-inch': 9,\n",
       "          'models': 5,\n",
       "          'feature': 3,\n",
       "          'liquid': 7,\n",
       "          'retina': 13,\n",
       "          'display': 20,\n",
       "          'a12x': 8,\n",
       "          'bionic': 8,\n",
       "          'chip': 16,\n",
       "          'face': 10,\n",
       "          'id': 20,\n",
       "          'introducing': 2,\n",
       "          'the': 232,\n",
       "          'design': 19,\n",
       "          'next-generation': 7,\n",
       "          'performance': 25,\n",
       "          '.': 170,\n",
       "          'york': 3,\n",
       "          'today': 15,\n",
       "          'introduced': 2,\n",
       "          'marking': 1,\n",
       "          'biggest': 1,\n",
       "          'change': 1,\n",
       "          'to': 125,\n",
       "          'all-new': 14,\n",
       "          'pushes': 1,\n",
       "          'displays': 6,\n",
       "          'edges': 2,\n",
       "          'of': 69,\n",
       "          'integrates': 1,\n",
       "          'securely': 2,\n",
       "          'unlock': 4,\n",
       "          'just': 8,\n",
       "          'a': 83,\n",
       "          'glance.1': 1,\n",
       "          'neural': 4,\n",
       "          'engine': 5,\n",
       "          'in': 58,\n",
       "          'outperforms': 2,\n",
       "          'pc': 1,\n",
       "          'laptops': 2,\n",
       "          'offers': 4,\n",
       "          'usb-c': 11,\n",
       "          'connector': 5,\n",
       "          'gigabit-class': 1,\n",
       "          'lte': 1,\n",
       "          'up': 30,\n",
       "          '1tb': 4,\n",
       "          'storage': 11,\n",
       "          'enable': 4,\n",
       "          'mobile': 3,\n",
       "          'workflows.2': 1,\n",
       "          'over': 6,\n",
       "          'million': 3,\n",
       "          'apps': 19,\n",
       "          'designed': 5,\n",
       "          'take': 7,\n",
       "          'advantage': 5,\n",
       "          'large': 6,\n",
       "          'multi-touch': 1,\n",
       "          'including': 17,\n",
       "          'like': 9,\n",
       "          'photoshop': 1,\n",
       "          'cc': 1,\n",
       "          'on': 36,\n",
       "          '(': 21,\n",
       "          'coming': 3,\n",
       "          '2019': 2,\n",
       "          ')': 21,\n",
       "          'will': 11,\n",
       "          'push': 2,\n",
       "          'what': 1,\n",
       "          'users': 10,\n",
       "          'can': 12,\n",
       "          'do': 2,\n",
       "          'computer': 4,\n",
       "          'further': 3,\n",
       "          'than': 23,\n",
       "          'before': 3,\n",
       "          'designs': 2,\n",
       "          'second-generation': 2,\n",
       "          'pencil': 12,\n",
       "          'magnetically': 2,\n",
       "          'attaches': 2,\n",
       "          'wirelessly': 2,\n",
       "          'charges': 1,\n",
       "          'at': 19,\n",
       "          'same': 8,\n",
       "          'time': 11,\n",
       "          'touch': 15,\n",
       "          'sensor': 2,\n",
       "          'built': 6,\n",
       "          'onto': 1,\n",
       "          'detects': 1,\n",
       "          'taps': 1,\n",
       "          'an': 27,\n",
       "          'entirely': 1,\n",
       "          'way': 1,\n",
       "          'interact': 1,\n",
       "          'within': 2,\n",
       "          'smart': 14,\n",
       "          'keyboard': 19,\n",
       "          'folio': 15,\n",
       "          'features': 25,\n",
       "          'streamlined': 2,\n",
       "          'thats': 3,\n",
       "          'adjustable': 3,\n",
       "          'for': 97,\n",
       "          'added': 4,\n",
       "          'versatility': 3,\n",
       "          'are': 19,\n",
       "          'available': 20,\n",
       "          'order': 8,\n",
       "          'starting': 9,\n",
       "          'stores': 4,\n",
       "          'wednesday': 5,\n",
       "          'november': 5,\n",
       "          '7.': 3,\n",
       "          'offer': 2,\n",
       "          'take-anywhere': 1,\n",
       "          'power': 9,\n",
       "          'is': 39,\n",
       "          'huge': 4,\n",
       "          'step': 1,\n",
       "          'forward': 1,\n",
       "          'creative': 3,\n",
       "          'computing': 2,\n",
       "          ';': 2,\n",
       "          'it': 17,\n",
       "          'has': 9,\n",
       "          'thinner': 4,\n",
       "          'speeds': 2,\n",
       "          'through': 8,\n",
       "          'projects': 1,\n",
       "          'super-fast': 1,\n",
       "          'unlocks': 1,\n",
       "          'glance': 1,\n",
       "          'using': 10,\n",
       "          'any': 8,\n",
       "          'orientation': 2,\n",
       "          'while': 3,\n",
       "          'youre': 1,\n",
       "          'sitting': 1,\n",
       "          'or': 25,\n",
       "          'standing': 1,\n",
       "          'your': 16,\n",
       "          'desk': 2,\n",
       "          'lap': 2,\n",
       "          'said': 3,\n",
       "          'philip': 3,\n",
       "          'schiller': 3,\n",
       "          'apples': 11,\n",
       "          'senior': 3,\n",
       "          'vice': 3,\n",
       "          'president': 3,\n",
       "          'worldwide': 3,\n",
       "          'marketing': 3,\n",
       "          'there': 1,\n",
       "          'never': 2,\n",
       "          'been': 3,\n",
       "          'device': 9,\n",
       "          'anything': 3,\n",
       "          'gorgeous': 3,\n",
       "          'edge-to-edge': 3,\n",
       "          'that': 20,\n",
       "          'curves': 2,\n",
       "          'into': 10,\n",
       "          'corners': 4,\n",
       "          'breakthrough': 5,\n",
       "          'cameras': 4,\n",
       "          'sensors': 3,\n",
       "          'best': 9,\n",
       "          'ar': 10,\n",
       "          'experiences': 7,\n",
       "          'high-speed': 1,\n",
       "          'louder': 2,\n",
       "          'speakers': 3,\n",
       "          'faster': 24,\n",
       "          'wireless': 4,\n",
       "          'more': 52,\n",
       "          'all': 21,\n",
       "          'packed': 3,\n",
       "          'all-day': 4,\n",
       "          'battery': 9,\n",
       "          'life': 10,\n",
       "          '25': 4,\n",
       "          'percent': 19,\n",
       "          'smaller': 3,\n",
       "          'volume': 2,\n",
       "          'stunning': 7,\n",
       "          'rounded': 3,\n",
       "          'worlds': 5,\n",
       "          'follow': 2,\n",
       "          'pros': 3,\n",
       "          'unibody': 1,\n",
       "          'enclosure': 8,\n",
       "          'precision-milled': 1,\n",
       "          'glass': 1,\n",
       "          'pixel': 1,\n",
       "          'masking': 1,\n",
       "          'sub-pixel': 1,\n",
       "          'antialiasing': 1,\n",
       "          'backlight': 1,\n",
       "          'brightest': 1,\n",
       "          'color': 4,\n",
       "          'accurate': 3,\n",
       "          'featuring': 6,\n",
       "          'wide': 4,\n",
       "          'true': 1,\n",
       "          'tone': 1,\n",
       "          'anti-reflective': 1,\n",
       "          'coating': 1,\n",
       "          'natural': 1,\n",
       "          'viewing': 2,\n",
       "          'experience': 4,\n",
       "          'indoors': 1,\n",
       "          'out': 1,\n",
       "          'promotion': 1,\n",
       "          'technology': 6,\n",
       "          'automatically': 4,\n",
       "          'adjusts': 2,\n",
       "          'refresh': 1,\n",
       "          'rate': 1,\n",
       "          '120hz': 1,\n",
       "          'ultra-smooth': 1,\n",
       "          'scrolling': 1,\n",
       "          'incredible': 3,\n",
       "          'responsiveness': 1,\n",
       "          'easily': 3,\n",
       "          'content': 5,\n",
       "          'viewer': 1,\n",
       "          'packs': 5,\n",
       "          'bigger': 1,\n",
       "          'pixels': 3,\n",
       "          'footprint': 5,\n",
       "          'as': 16,\n",
       "          '10.5-inch': 1,\n",
       "          'model': 6,\n",
       "          'yet': 2,\n",
       "          'still': 2,\n",
       "          'weighs': 1,\n",
       "          'one': 1,\n",
       "          'pound': 2,\n",
       "          'places': 1,\n",
       "          'largest': 1,\n",
       "          'portable': 8,\n",
       "          'package': 1,\n",
       "          'massive': 2,\n",
       "          'reduction': 1,\n",
       "          'volume.3': 1,\n",
       "          'both': 2,\n",
       "          '5.9': 2,\n",
       "          'mm': 3,\n",
       "          'thin': 4,\n",
       "          'thinnest': 2,\n",
       "          'making': 9,\n",
       "          'now': 18,\n",
       "          'even': 11,\n",
       "          'easier': 1,\n",
       "          'you': 11,\n",
       "          'specifically': 2,\n",
       "          'smartest': 2,\n",
       "          'tablet': 4,\n",
       "          'demanding': 2,\n",
       "          'tasks': 4,\n",
       "          'editing': 7,\n",
       "          'photos': 4,\n",
       "          'creating': 4,\n",
       "          '3d': 3,\n",
       "          'responsive': 2,\n",
       "          'industry-leading': 2,\n",
       "          'seven-nanometer': 1,\n",
       "          'eight-core': 1,\n",
       "          'four': 9,\n",
       "          'cores': 3,\n",
       "          'efficiency': 1,\n",
       "          '35': 1,\n",
       "          'single-core': 1,\n",
       "          'controller': 3,\n",
       "          'simultaneous': 1,\n",
       "          'use': 12,\n",
       "          'eight': 1,\n",
       "          '90': 1,\n",
       "          'boost': 2,\n",
       "          'during': 4,\n",
       "          'multi-threaded': 1,\n",
       "          'tasks.3': 1,\n",
       "          'seven-core': 1,\n",
       "          'apple-designed': 6,\n",
       "          'gpu': 1,\n",
       "          'delivers': 8,\n",
       "          'twice': 3,\n",
       "          'graphics': 12,\n",
       "          'incredibly': 3,\n",
       "          'rich': 3,\n",
       "          'immersive': 3,\n",
       "          'console-quality': 1,\n",
       "          'capability': 1,\n",
       "          'lasts': 1,\n",
       "          'day': 1,\n",
       "          'thanks': 1,\n",
       "          'great': 1,\n",
       "          '10-hour': 1,\n",
       "          'life.4': 1,\n",
       "          'machine': 3,\n",
       "          'learning': 3,\n",
       "          'everything': 3,\n",
       "          'from': 16,\n",
       "          'photography': 1,\n",
       "          'completing': 1,\n",
       "          '5': 1,\n",
       "          'trillion': 1,\n",
       "          'operations': 1,\n",
       "          'per': 1,\n",
       "          'second': 2,\n",
       "          'this': 5,\n",
       "          'enables': 4,\n",
       "          'fast': 6,\n",
       "          'plane': 1,\n",
       "          'detection': 1,\n",
       "          'other': 3,\n",
       "          'real-time': 1,\n",
       "          'deliver': 3,\n",
       "          'improved': 4,\n",
       "          'core': 6,\n",
       "          'ml': 1,\n",
       "          'empowering': 1,\n",
       "          'developers': 4,\n",
       "          'build': 2,\n",
       "          'workflows': 5,\n",
       "          'utilize': 1,\n",
       "          'highly': 1,\n",
       "          'efficient': 2,\n",
       "          'comes': 8,\n",
       "          'secure': 11,\n",
       "          'facial': 2,\n",
       "          'authentication': 2,\n",
       "          'system': 6,\n",
       "          'first': 8,\n",
       "          'work': 3,\n",
       "          'holding': 1,\n",
       "          'position': 1,\n",
       "          'seated': 1,\n",
       "          'takes': 5,\n",
       "          'truedepth': 2,\n",
       "          'camera': 3,\n",
       "          'accurately': 1,\n",
       "          'map': 4,\n",
       "          'recognize': 1,\n",
       "          'pay': 6,\n",
       "          'online': 4,\n",
       "          'allow': 4,\n",
       "          'gain': 1,\n",
       "          'access': 2,\n",
       "          'also': 16,\n",
       "          'animoji': 2,\n",
       "          'memoji': 2,\n",
       "          'four-speaker': 2,\n",
       "          'audio': 9,\n",
       "          'combine': 1,\n",
       "          'turn': 2,\n",
       "          'its': 6,\n",
       "          'viewfinder': 2,\n",
       "          'next': 2,\n",
       "          'generation': 12,\n",
       "          'world': 7,\n",
       "          'possible': 1,\n",
       "          'such': 1,\n",
       "          'measuring': 2,\n",
       "          'reflection': 1,\n",
       "          'real-world': 1,\n",
       "          'objects': 1,\n",
       "          'navigating': 1,\n",
       "          'buildings': 1,\n",
       "          'exploring': 1,\n",
       "          'entire': 2,\n",
       "          'universes': 1,\n",
       "          'adobes': 1,\n",
       "          'project': 1,\n",
       "          'aero': 1,\n",
       "          'creators': 1,\n",
       "          'purchase': 2,\n",
       "          'separately': 1,\n",
       "          'give': 3,\n",
       "          'levels': 1,\n",
       "          'precision': 1,\n",
       "          'productivity': 1,\n",
       "          'pairing': 1,\n",
       "          'charging': 2,\n",
       "          'becomes': 1,\n",
       "          'intuitive': 1,\n",
       "          'select': 2,\n",
       "          'right': 2,\n",
       "          'tool': 1,\n",
       "          'brush': 1,\n",
       "          'simple': 5,\n",
       "          'double': 2,\n",
       "          'tap': 2,\n",
       "          'notes': 1,\n",
       "          'leading': 1,\n",
       "          'adobe': 3,\n",
       "          'autodesk': 1,\n",
       "          'procreate': 1,\n",
       "          'be': 13,\n",
       "          'gives': 1,\n",
       "          'ability': 2,\n",
       "          'productive': 1,\n",
       "          'protects': 2,\n",
       "          'front': 1,\n",
       "          'back': 1,\n",
       "          'light': 1,\n",
       "          'encompassing': 1,\n",
       "          'full-size': 1,\n",
       "          'needs': 1,\n",
       "          'charged': 1,\n",
       "          'paired': 1,\n",
       "          'perfect': 4,\n",
       "          'getting': 1,\n",
       "          'thoughts': 1,\n",
       "          'down': 1,\n",
       "          'multitasking': 2,\n",
       "          'possibilities': 1,\n",
       "          'replaces': 1,\n",
       "          'lightning': 1,\n",
       "          'ways': 5,\n",
       "          'used': 3,\n",
       "          'versatile': 3,\n",
       "          'supports': 1,\n",
       "          'usb': 2,\n",
       "          '3.1': 1,\n",
       "          'gen': 1,\n",
       "          '2': 4,\n",
       "          'high-bandwidth': 1,\n",
       "          'data': 8,\n",
       "          'transfers': 1,\n",
       "          'speed': 4,\n",
       "          'musical': 2,\n",
       "          'instruments': 1,\n",
       "          'drives': 1,\n",
       "          'external': 2,\n",
       "          '5k': 3,\n",
       "          'charge': 3,\n",
       "          'ios': 8,\n",
       "          '12': 5,\n",
       "          'brings': 2,\n",
       "          'gestures': 1,\n",
       "          'already': 1,\n",
       "          'familiar': 3,\n",
       "          'x': 1,\n",
       "          'xs': 1,\n",
       "          'wake': 1,\n",
       "          'swiping': 1,\n",
       "          'go': 3,\n",
       "          'home': 3,\n",
       "          'control': 1,\n",
       "          'center': 1,\n",
       "          'shortcuts': 1,\n",
       "          'app': 13,\n",
       "          'helps': 2,\n",
       "          'link': 1,\n",
       "          'together': 2,\n",
       "          'automated': 1,\n",
       "          'photo': 3,\n",
       "          'video': 12,\n",
       "          'file': 1,\n",
       "          'asset': 1,\n",
       "          'management': 1,\n",
       "          'improvements': 1,\n",
       "          'import': 1,\n",
       "          'native': 1,\n",
       "          'raw': 1,\n",
       "          'image': 1,\n",
       "          'photographers': 1,\n",
       "          'multitask': 1,\n",
       "          'group': 5,\n",
       "          'facetime': 7,\n",
       "          'makes': 4,\n",
       "          'easy': 2,\n",
       "          'connect': 7,\n",
       "          'groups': 4,\n",
       "          'friends': 3,\n",
       "          'colleagues': 2,\n",
       "          'participants': 1,\n",
       "          'join': 3,\n",
       "          'later': 2,\n",
       "          'if': 2,\n",
       "          'conversation': 1,\n",
       "          'active': 1,\n",
       "          'choose': 1,\n",
       "          'customizable': 1,\n",
       "          'screen': 3,\n",
       "          'add': 1,\n",
       "          'personality': 1,\n",
       "          'videos': 2,\n",
       "          'messages': 1,\n",
       "          'pricing': 3,\n",
       "          'availability': 4,\n",
       "          'silver': 3,\n",
       "          'space': 5,\n",
       "          'gray': 5,\n",
       "          'finishes': 2,\n",
       "          '64gb': 6,\n",
       "          '256gb': 2,\n",
       "          '512gb': 1,\n",
       "          'configurations': 1,\n",
       "          'well': 3,\n",
       "          'option': 6,\n",
       "          'starts': 2,\n",
       "          '$': 11,\n",
       "          '799': 2,\n",
       "          'us': 10,\n",
       "          'wi-fi': 4,\n",
       "          '949': 1,\n",
       "          '+': 2,\n",
       "          'cellular': 2,\n",
       "          '999': 1,\n",
       "          '1,149': 1,\n",
       "          'store': 26,\n",
       "          'locations': 3,\n",
       "          'authorized': 4,\n",
       "          'resellers': 4,\n",
       "          'carriers': 1,\n",
       "          'prices': 1,\n",
       "          'may': 2,\n",
       "          'vary': 2,\n",
       "          '7': 1,\n",
       "          '40': 1,\n",
       "          'additional': 4,\n",
       "          'countries': 2,\n",
       "          'regions': 2,\n",
       "          'australia': 1,\n",
       "          'austria': 1,\n",
       "          'belgium': 1,\n",
       "          'bulgaria': 1,\n",
       "          'canada': 1,\n",
       "          'china': 1,\n",
       "          'croatia': 1,\n",
       "          'czech': 1,\n",
       "          'republic': 1,\n",
       "          'denmark': 1,\n",
       "          'estonia': 1,\n",
       "          'finland': 1,\n",
       "          'france': 1,\n",
       "          'germany': 1,\n",
       "          'hong': 1,\n",
       "          'kong': 1,\n",
       "          'hungary': 1,\n",
       "          'iceland': 1,\n",
       "          'ireland': 1,\n",
       "          'isle': 1,\n",
       "          'man': 1,\n",
       "          'italy': 1,\n",
       "          'japan': 1,\n",
       "          'jersey': 1,\n",
       "          'latvia': 1,\n",
       "          'lithuania': 1,\n",
       "          'luxembourg': 1,\n",
       "          'macau': 1,\n",
       "          'monaco': 1,\n",
       "          'netherlands': 1,\n",
       "          'zealand': 1,\n",
       "          'norway': 1,\n",
       "          'poland': 1,\n",
       "          'portugal': 1,\n",
       "          'puerto': 1,\n",
       "          'rico': 1,\n",
       "          'romania': 1,\n",
       "          'singapore': 1,\n",
       "          'slovakia': 1,\n",
       "          'slovenia': 1,\n",
       "          'spain': 1,\n",
       "          'sweden': 1,\n",
       "          'switzerland': 1,\n",
       "          'uae': 1,\n",
       "          'uk': 1,\n",
       "          'year': 1,\n",
       "          'colombia': 1,\n",
       "          'greece': 1,\n",
       "          'greenland': 1,\n",
       "          'guatemala': 1,\n",
       "          'india': 1,\n",
       "          'israel': 1,\n",
       "          'liechtenstein': 1,\n",
       "          'malaysia': 1,\n",
       "          'macedonia': 1,\n",
       "          'mexico': 1,\n",
       "          'morocco': 1,\n",
       "          'peru': 1,\n",
       "          'qatar': 1,\n",
       "          'russia': 1,\n",
       "          'thailand': 1,\n",
       "          'turkey': 1,\n",
       "          'saudi': 1,\n",
       "          'arabia': 1,\n",
       "          'south': 1,\n",
       "          'africa': 1,\n",
       "          '129': 1,\n",
       "          '179': 1,\n",
       "          '199': 1,\n",
       "          'layouts': 1,\n",
       "          'languages': 1,\n",
       "          'simplified': 1,\n",
       "          'chinese': 1,\n",
       "          'french': 1,\n",
       "          'german': 1,\n",
       "          'japanese': 1,\n",
       "          'spanish': 1,\n",
       "          'protective': 1,\n",
       "          'polyurethane': 1,\n",
       "          'variety': 1,\n",
       "          'colors': 2,\n",
       "          '79': 1,\n",
       "          '99': 1,\n",
       "          'assortment': 1,\n",
       "          'accessories': 7,\n",
       "          'adapters': 1,\n",
       "          'cables': 1,\n",
       "          'sd': 1,\n",
       "          'card': 2,\n",
       "          'reader': 1,\n",
       "          '3.5': 1,\n",
       "          'headphone': 1,\n",
       "          'jack': 3,\n",
       "          'adapter': 1,\n",
       "          'giveback': 1,\n",
       "          'customers': 5,\n",
       "          'trade': 1,\n",
       "          'their': 5,\n",
       "          'eligible': 2,\n",
       "          'gift': 4,\n",
       "          'partial': 1,\n",
       "          'refund': 1,\n",
       "          'isnt': 1,\n",
       "          'credit': 1,\n",
       "          'recycle': 1,\n",
       "          'free': 3,\n",
       "          'every': 3,\n",
       "          'customer': 1,\n",
       "          'who': 2,\n",
       "          'buys': 1,\n",
       "          'enjoy': 1,\n",
       "          'personal': 4,\n",
       "          'setup': 1,\n",
       "          'in-store': 1,\n",
       "          'receive': 1,\n",
       "          'guidance': 1,\n",
       "          'how': 1,\n",
       "          'customize': 1,\n",
       "          'set': 2,\n",
       "          'email': 1,\n",
       "          'find': 7,\n",
       "          'anyone': 1,\n",
       "          'wants': 1,\n",
       "          'learn': 4,\n",
       "          'sign': 1,\n",
       "          'sessions': 1,\n",
       "          'apple.com/today': 1,\n",
       "          'media': 6,\n",
       "          'images': 6,\n",
       "          'download': 3,\n",
       "          'revolutionized': 4,\n",
       "          'introduction': 3,\n",
       "          'macintosh': 3,\n",
       "          '1984.': 3,\n",
       "          'leads': 3,\n",
       "          'innovation': 3,\n",
       "          'software': 7,\n",
       "          'platforms': 3,\n",
       "          'macos': 12,\n",
       "          'watchos': 3,\n",
       "          'tvos': 3,\n",
       "          'provide': 3,\n",
       "          'seamless': 3,\n",
       "          'across': 3,\n",
       "          'devices': 7,\n",
       "          'empower': 3,\n",
       "          'people': 3,\n",
       "          'services': 3,\n",
       "          'icloud': 3,\n",
       "          '100,000': 3,\n",
       "          'employees': 3,\n",
       "          'dedicated': 3,\n",
       "          'products': 3,\n",
       "          'earth': 3,\n",
       "          'leaving': 3,\n",
       "          'better': 4,\n",
       "          'we': 4,\n",
       "          'found': 3,\n",
       "          '1': 3,\n",
       "          'have': 1,\n",
       "          'when': 2,\n",
       "          'measured': 1,\n",
       "          'rectangle': 1,\n",
       "          '12.9': 1,\n",
       "          'inches': 3,\n",
       "          'diagonally': 2,\n",
       "          '11': 1,\n",
       "          'actual': 2,\n",
       "          'viewable': 1,\n",
       "          'area': 1,\n",
       "          'less': 2,\n",
       "          '92': 1,\n",
       "          'pcs': 1,\n",
       "          'sold': 1,\n",
       "          'between': 1,\n",
       "          'june': 1,\n",
       "          '2017-june': 1,\n",
       "          'npd': 1,\n",
       "          '3': 15,\n",
       "          'compared': 1,\n",
       "          'previous': 8,\n",
       "          '4': 4,\n",
       "          'depends': 1,\n",
       "          'settings': 1,\n",
       "          'usage': 1,\n",
       "          'factors': 1,\n",
       "          'results': 1,\n",
       "          'contacts': 3,\n",
       "          'andy': 1,\n",
       "          'bowman': 1,\n",
       "          'abowman': 1,\n",
       "          '@': 9,\n",
       "          '408': 9,\n",
       "          '783-0619': 1,\n",
       "          'hannah': 1,\n",
       "          'wong-silva': 1,\n",
       "          'hannahw': 1,\n",
       "          '974-7077': 1,\n",
       "          'helpline': 3,\n",
       "          'media.help': 3,\n",
       "          '974-2042': 3,\n",
       "          'latest': 10,\n",
       "          'news': 5,\n",
       "          'journalists': 3,\n",
       "          'read': 3,\n",
       "          'footer': 3,\n",
       "          'shop': 12,\n",
       "          'itunes': 4,\n",
       "          'homepod': 3,\n",
       "          'ipod': 3,\n",
       "          'cards': 3,\n",
       "          'genius': 3,\n",
       "          'bar': 3,\n",
       "          'camp': 3,\n",
       "          'field': 3,\n",
       "          'trip': 3,\n",
       "          'refurbished': 3,\n",
       "          'clearance': 3,\n",
       "          'financing': 3,\n",
       "          'applegiveback': 3,\n",
       "          'status': 3,\n",
       "          'help': 4,\n",
       "          'education': 9,\n",
       "          'college': 3,\n",
       "          'business': 9,\n",
       "          'account': 6,\n",
       "          'manage': 3,\n",
       "          'icloud.com': 3,\n",
       "          'values': 3,\n",
       "          'accessibility': 3,\n",
       "          'environment': 3,\n",
       "          'inclusion': 3,\n",
       "          'diversity': 3,\n",
       "          'privacy': 6,\n",
       "          'supplier': 3,\n",
       "          'responsibility': 3,\n",
       "          'about': 3,\n",
       "          'leadership': 3,\n",
       "          'job': 4,\n",
       "          'opportunities': 3,\n",
       "          'investors': 3,\n",
       "          'events': 3,\n",
       "          'contact': 3,\n",
       "          ':': 3,\n",
       "          'visit': 3,\n",
       "          'call': 3,\n",
       "          '1-800-my-apple': 3,\n",
       "          'reseller': 3,\n",
       "          'united': 3,\n",
       "          'states': 3,\n",
       "          'copyright': 3,\n",
       "          'inc.': 3,\n",
       "          'rights': 3,\n",
       "          'reserved': 3,\n",
       "          'policy': 3,\n",
       "          'terms': 3,\n",
       "          'sales': 3,\n",
       "          'refunds': 3,\n",
       "          'legal': 3,\n",
       "          'site': 3,\n",
       "          'macbook': 45,\n",
       "          'air': 38,\n",
       "          'flight': 3,\n",
       "          'macbookair': 1,\n",
       "          '13-inch': 2,\n",
       "          'processors': 9,\n",
       "          'bringing': 1,\n",
       "          'loved': 3,\n",
       "          'notebook': 8,\n",
       "          'delivering': 2,\n",
       "          'known': 1,\n",
       "          'three': 5,\n",
       "          'gold': 2,\n",
       "          'affordable': 1,\n",
       "          'retina-display': 1,\n",
       "          'includes': 5,\n",
       "          'spacious': 1,\n",
       "          'force': 3,\n",
       "          'trackpad': 5,\n",
       "          'ssds': 3,\n",
       "          'stereo': 2,\n",
       "          'sound': 3,\n",
       "          't2': 15,\n",
       "          'security': 11,\n",
       "          'thunderbolt': 15,\n",
       "          'everywhere': 1,\n",
       "          'wedge-shaped': 2,\n",
       "          'aluminum': 10,\n",
       "          'forever': 1,\n",
       "          'changed': 1,\n",
       "          'industry': 1,\n",
       "          'computers': 2,\n",
       "          'became': 1,\n",
       "          'redesigning': 1,\n",
       "          'started': 1,\n",
       "          'then': 1,\n",
       "          'third-generation': 2,\n",
       "          'high': 2,\n",
       "          'ports': 10,\n",
       "          'course': 1,\n",
       "          'mojave': 9,\n",
       "          'beautiful': 3,\n",
       "          'lighter': 2,\n",
       "          'all-aluminum': 1,\n",
       "          'whole': 4,\n",
       "          'going': 2,\n",
       "          'love': 1,\n",
       "          '13.3-inch': 1,\n",
       "          'resolution': 3,\n",
       "          'so': 5,\n",
       "          'text': 2,\n",
       "          'look': 3,\n",
       "          'sharp': 2,\n",
       "          '48': 2,\n",
       "          'lifelike': 1,\n",
       "          'ever.1': 2,\n",
       "          'built-in': 1,\n",
       "          'hd': 1,\n",
       "          'which': 9,\n",
       "          'calls': 2,\n",
       "          'family': 1,\n",
       "          'microphone': 1,\n",
       "          'array': 1,\n",
       "          'quality': 2,\n",
       "          'voice': 4,\n",
       "          'recognition': 1,\n",
       "          'siri': 3,\n",
       "          'detailed': 1,\n",
       "          'fingerprint': 1,\n",
       "          'allows': 2,\n",
       "          'conveniently': 1,\n",
       "          'instantly': 2,\n",
       "          'authenticate': 2,\n",
       "          'identity': 2,\n",
       "          'make': 4,\n",
       "          'purchases': 2,\n",
       "          'far': 1,\n",
       "          't2s': 1,\n",
       "          'enclave': 2,\n",
       "          'information': 4,\n",
       "          'ensures': 2,\n",
       "          'loaded': 2,\n",
       "          'boot': 4,\n",
       "          'process': 3,\n",
       "          'not': 2,\n",
       "          'tampered': 2,\n",
       "          'ssd': 7,\n",
       "          'on-the-fly': 3,\n",
       "          'encryption': 3,\n",
       "          'stored': 2,\n",
       "          'these': 4,\n",
       "          'always-on': 1,\n",
       "          'processor': 2,\n",
       "          'hey': 1,\n",
       "          'lets': 2,\n",
       "          'requests': 1,\n",
       "          'things': 1,\n",
       "          'finding': 1,\n",
       "          'files': 6,\n",
       "          'opening': 3,\n",
       "          'allowing': 1,\n",
       "          'industrys': 1,\n",
       "          'precise': 1,\n",
       "          'typing': 1,\n",
       "          'each': 2,\n",
       "          'key': 1,\n",
       "          'individually': 1,\n",
       "          'backlit': 1,\n",
       "          'low-power': 1,\n",
       "          'leds': 1,\n",
       "          'illumination': 1,\n",
       "          'industry-best': 1,\n",
       "          'pressure-sensing': 1,\n",
       "          'capabilities': 1,\n",
       "          'haptic': 1,\n",
       "          'feedback': 1,\n",
       "          '20': 1,\n",
       "          'larger': 3,\n",
       "          'offering': 1,\n",
       "          'quieter': 1,\n",
       "          'capable': 2,\n",
       "          'fuller': 2,\n",
       "          'processing': 1,\n",
       "          'higher': 3,\n",
       "          'playback': 1,\n",
       "          'watching': 1,\n",
       "          'movies': 1,\n",
       "          'listening': 1,\n",
       "          'two': 5,\n",
       "          'times': 10,\n",
       "          'bass': 1,\n",
       "          'dynamic': 1,\n",
       "          'range': 1,\n",
       "          'sound.1': 1,\n",
       "          'daily': 1,\n",
       "          'activities': 2,\n",
       "          '8th': 1,\n",
       "          'intel': 7,\n",
       "          'i5': 1,\n",
       "          'uhd': 2,\n",
       "          '2133': 1,\n",
       "          'mhz': 2,\n",
       "          'memory': 9,\n",
       "          '16gb': 2,\n",
       "          'need': 2,\n",
       "          'everyday': 1,\n",
       "          'organizing': 2,\n",
       "          'browsing': 3,\n",
       "          'web': 4,\n",
       "          'presentations': 2,\n",
       "          '1.5tb': 1,\n",
       "          'capacity': 2,\n",
       "          '60': 2,\n",
       "          'launching': 1,\n",
       "          'feel': 1,\n",
       "          'snappier': 1,\n",
       "          'responsive.1': 1,\n",
       "          'port': 4,\n",
       "          'quickly': 3,\n",
       "          'transfer': 2,\n",
       "          'via': 1,\n",
       "          'output': 2,\n",
       "          'formats': 2,\n",
       "          'host': 2,\n",
       "          'docks': 1,\n",
       "          '4k': 2,\n",
       "          'egpus': 1,\n",
       "          '700': 1,\n",
       "          'ecosystem': 1,\n",
       "          'growing': 1,\n",
       "          'along': 1,\n",
       "          'thousands': 2,\n",
       "          'greenest': 2,\n",
       "          'distinct': 1,\n",
       "          ...})"
      ]
     },
     "execution_count": 20,
     "metadata": {},
     "output_type": "execute_result"
    }
   ],
   "source": [
    "text.vocab()  "
   ]
  },
  {
   "cell_type": "code",
   "execution_count": 21,
   "metadata": {},
   "outputs": [
    {
     "name": "stdout",
     "output_type": "stream",
     "text": [
      "Displaying 7 of 45 matches:\n",
      "refunds legal site map all-new macbook air takes flight - apple open \n",
      "acbookair takes flight all-new macbook air features 13-inch retina di\n",
      "le today introduced an all-new macbook air , bringing a stunning 13-i\n",
      "y life its known for , the new macbook air is available in three gorg\n",
      "thunderbolt 3 , making the new macbook air the perfect notebook to ta\n",
      " everywhere you go . the first macbook air revolutionized mac with it\n",
      "ldwide marketing . redesigning macbook air started with a stunning re\n"
     ]
    }
   ],
   "source": [
    "text.concordance('macbook', width=70, lines=7)"
   ]
  },
  {
   "cell_type": "code",
   "execution_count": 22,
   "metadata": {},
   "outputs": [
    {
     "name": "stdout",
     "output_type": "stream",
     "text": [
      "Displaying 7 of 9 matches:\n",
      "t 3 ports , and of course macos mojave in a beautiful , thinner , ligh\n",
      "ion so text and images in macos mojave look sharp and stunning . and w\n",
      "and rendering workloads.1 macos mojave all new macs come with macos mo\n",
      "ve all new macs come with macos mojave , the latest version of the wor\n",
      "esigned for everyone . in macos mojave , a new dark mode transforms th\n",
      "be . macbook air includes macos mojave , featuring dark mode , stacks \n",
      "roadest mac lineup ever . macos mojave all new macs come with macos mo\n"
     ]
    }
   ],
   "source": [
    "text.concordance('mojave', width=70, lines=7)"
   ]
  },
  {
   "cell_type": "code",
   "execution_count": 23,
   "metadata": {},
   "outputs": [],
   "source": [
    "words = sorted(set([w.lower() for w in tokens]))  "
   ]
  },
  {
   "cell_type": "code",
   "execution_count": 24,
   "metadata": {},
   "outputs": [
    {
     "data": {
      "text/plain": [
       "1230"
      ]
     },
     "execution_count": 24,
     "metadata": {},
     "output_type": "execute_result"
    }
   ],
   "source": [
    "len(words)  "
   ]
  },
  {
   "cell_type": "code",
   "execution_count": 25,
   "metadata": {},
   "outputs": [
    {
     "data": {
      "text/plain": [
       "['$', '(', ')', '+', ',', '-', '.']"
      ]
     },
     "execution_count": 25,
     "metadata": {},
     "output_type": "execute_result"
    }
   ],
   "source": [
    "words[:7]  "
   ]
  },
  {
   "cell_type": "markdown",
   "metadata": {},
   "source": [
    "### Improved Tokenization and Vocabulary"
   ]
  },
  {
   "cell_type": "code",
   "execution_count": 26,
   "metadata": {},
   "outputs": [],
   "source": [
    "t = 'A sentence about NLP; and about ML.'"
   ]
  },
  {
   "cell_type": "code",
   "execution_count": 27,
   "metadata": {},
   "outputs": [
    {
     "data": {
      "text/plain": [
       "['sentence', 'NLP']"
      ]
     },
     "execution_count": 27,
     "metadata": {},
     "output_type": "execute_result"
    }
   ],
   "source": [
    "tokens = nlp.tokenize(t, min_char=3)\n",
    "tokens"
   ]
  },
  {
   "cell_type": "code",
   "execution_count": 28,
   "metadata": {},
   "outputs": [
    {
     "name": "stdout",
     "output_type": "stream",
     "text": [
      "CPU times: user 68.8 ms, sys: 0 ns, total: 68.8 ms\n",
      "Wall time: 67.8 ms\n"
     ]
    }
   ],
   "source": [
    "%time tokens = nlp.tokenize(' '.join(data))  "
   ]
  },
  {
   "cell_type": "code",
   "execution_count": 29,
   "metadata": {},
   "outputs": [
    {
     "data": {
      "text/plain": [
       "['ipad', 'all-screen', 'designis', 'advance', 'powerful', 'ipad', 'ever']"
      ]
     },
     "execution_count": 29,
     "metadata": {},
     "output_type": "execute_result"
    }
   ],
   "source": [
    "tokens[:7]  "
   ]
  },
  {
   "cell_type": "code",
   "execution_count": 30,
   "metadata": {},
   "outputs": [],
   "source": [
    "words = sorted(set([w.lower() for w in tokens]))  "
   ]
  },
  {
   "cell_type": "code",
   "execution_count": 31,
   "metadata": {},
   "outputs": [
    {
     "data": {
      "text/plain": [
       "997"
      ]
     },
     "execution_count": 31,
     "metadata": {},
     "output_type": "execute_result"
    }
   ],
   "source": [
    "len(words)  "
   ]
  },
  {
   "cell_type": "code",
   "execution_count": 32,
   "metadata": {},
   "outputs": [
    {
     "data": {
      "text/plain": [
       "['.61', '1,149', '1,199', '1-800-my-apple', '1.5tb', '1.6ghz']"
      ]
     },
     "execution_count": 32,
     "metadata": {},
     "output_type": "execute_result"
    }
   ],
   "source": [
    "words[:6]  "
   ]
  },
  {
   "cell_type": "markdown",
   "metadata": {},
   "source": [
    "## Similarity"
   ]
  },
  {
   "cell_type": "code",
   "execution_count": 33,
   "metadata": {},
   "outputs": [],
   "source": [
    "import pandas as pd\n",
    "from sklearn.feature_extraction.text import TfidfVectorizer"
   ]
  },
  {
   "cell_type": "code",
   "execution_count": 34,
   "metadata": {},
   "outputs": [],
   "source": [
    "ts = [\n",
    "    'A sentence about NLP; and about ML.',\n",
    "    'Another one about NLP and algorithms.',\n",
    "    'A text fragment about Apple.'\n",
    "]  "
   ]
  },
  {
   "cell_type": "code",
   "execution_count": 35,
   "metadata": {},
   "outputs": [],
   "source": [
    "vec = TfidfVectorizer(stop_words='english')  "
   ]
  },
  {
   "cell_type": "code",
   "execution_count": 36,
   "metadata": {},
   "outputs": [],
   "source": [
    "mat = vec.fit_transform(ts)  "
   ]
  },
  {
   "cell_type": "code",
   "execution_count": 37,
   "metadata": {},
   "outputs": [
    {
     "data": {
      "text/plain": [
       "array([[0.   , 0.   , 0.   , 0.623, 0.474, 0.623, 0.   ],\n",
       "       [0.796, 0.   , 0.   , 0.   , 0.605, 0.   , 0.   ],\n",
       "       [0.   , 0.577, 0.577, 0.   , 0.   , 0.   , 0.577]])"
      ]
     },
     "execution_count": 37,
     "metadata": {},
     "output_type": "execute_result"
    }
   ],
   "source": [
    "mat.A.round(3)  "
   ]
  },
  {
   "cell_type": "code",
   "execution_count": 38,
   "metadata": {},
   "outputs": [],
   "source": [
    "df = pd.DataFrame(mat.A, columns=vec.get_feature_names())  "
   ]
  },
  {
   "cell_type": "code",
   "execution_count": 39,
   "metadata": {},
   "outputs": [
    {
     "data": {
      "text/html": [
       "<div>\n",
       "<style scoped>\n",
       "    .dataframe tbody tr th:only-of-type {\n",
       "        vertical-align: middle;\n",
       "    }\n",
       "\n",
       "    .dataframe tbody tr th {\n",
       "        vertical-align: top;\n",
       "    }\n",
       "\n",
       "    .dataframe thead th {\n",
       "        text-align: right;\n",
       "    }\n",
       "</style>\n",
       "<table border=\"1\" class=\"dataframe\">\n",
       "  <thead>\n",
       "    <tr style=\"text-align: right;\">\n",
       "      <th></th>\n",
       "      <th>algorithms</th>\n",
       "      <th>apple</th>\n",
       "      <th>fragment</th>\n",
       "      <th>ml</th>\n",
       "      <th>nlp</th>\n",
       "      <th>sentence</th>\n",
       "      <th>text</th>\n",
       "    </tr>\n",
       "  </thead>\n",
       "  <tbody>\n",
       "    <tr>\n",
       "      <th>0</th>\n",
       "      <td>0.000</td>\n",
       "      <td>0.000</td>\n",
       "      <td>0.000</td>\n",
       "      <td>0.623</td>\n",
       "      <td>0.474</td>\n",
       "      <td>0.623</td>\n",
       "      <td>0.000</td>\n",
       "    </tr>\n",
       "    <tr>\n",
       "      <th>1</th>\n",
       "      <td>0.796</td>\n",
       "      <td>0.000</td>\n",
       "      <td>0.000</td>\n",
       "      <td>0.000</td>\n",
       "      <td>0.605</td>\n",
       "      <td>0.000</td>\n",
       "      <td>0.000</td>\n",
       "    </tr>\n",
       "    <tr>\n",
       "      <th>2</th>\n",
       "      <td>0.000</td>\n",
       "      <td>0.577</td>\n",
       "      <td>0.577</td>\n",
       "      <td>0.000</td>\n",
       "      <td>0.000</td>\n",
       "      <td>0.000</td>\n",
       "      <td>0.577</td>\n",
       "    </tr>\n",
       "  </tbody>\n",
       "</table>\n",
       "</div>"
      ],
      "text/plain": [
       "   algorithms  apple  fragment     ml    nlp  sentence   text\n",
       "0       0.000  0.000     0.000  0.623  0.474     0.623  0.000\n",
       "1       0.796  0.000     0.000  0.000  0.605     0.000  0.000\n",
       "2       0.000  0.577     0.577  0.000  0.000     0.000  0.577"
      ]
     },
     "execution_count": 39,
     "metadata": {},
     "output_type": "execute_result"
    }
   ],
   "source": [
    "df.round(3)  "
   ]
  },
  {
   "cell_type": "code",
   "execution_count": 40,
   "metadata": {},
   "outputs": [
    {
     "data": {
      "text/plain": [
       "array([[1.        , 0.28671097, 0.        ],\n",
       "       [0.28671097, 1.        , 0.        ],\n",
       "       [0.        , 0.        , 1.        ]])"
      ]
     },
     "execution_count": 40,
     "metadata": {},
     "output_type": "execute_result"
    }
   ],
   "source": [
    "(mat * mat.T).A  "
   ]
  },
  {
   "cell_type": "code",
   "execution_count": 41,
   "metadata": {},
   "outputs": [],
   "source": [
    "tl = [' '.join(nlp.tokenize(t)) for t in data]  "
   ]
  },
  {
   "cell_type": "code",
   "execution_count": 42,
   "metadata": {},
   "outputs": [
    {
     "data": {
      "text/plain": [
       "<3x902 sparse matrix of type '<class 'numpy.float64'>'\n",
       "\twith 1514 stored elements in Compressed Sparse Row format>"
      ]
     },
     "execution_count": 42,
     "metadata": {},
     "output_type": "execute_result"
    }
   ],
   "source": [
    "mat = vec.fit_transform(tl)  \n",
    "mat  "
   ]
  },
  {
   "cell_type": "code",
   "execution_count": 43,
   "metadata": {},
   "outputs": [
    {
     "data": {
      "text/plain": [
       "array([[1.        , 0.40518205, 0.34496952],\n",
       "       [0.40518205, 1.        , 0.47562226],\n",
       "       [0.34496952, 0.47562226, 1.        ]])"
      ]
     },
     "execution_count": 43,
     "metadata": {},
     "output_type": "execute_result"
    }
   ],
   "source": [
    "sm = (mat * mat.T).A  \n",
    "sm  "
   ]
  },
  {
   "cell_type": "code",
   "execution_count": 44,
   "metadata": {},
   "outputs": [],
   "source": [
    "prs = ['ipad', 'air', 'mini']  "
   ]
  },
  {
   "cell_type": "code",
   "execution_count": 45,
   "metadata": {},
   "outputs": [],
   "source": [
    "df = pd.DataFrame(sm, index=prs, columns=prs)  "
   ]
  },
  {
   "cell_type": "code",
   "execution_count": 46,
   "metadata": {},
   "outputs": [
    {
     "data": {
      "text/html": [
       "<div>\n",
       "<style scoped>\n",
       "    .dataframe tbody tr th:only-of-type {\n",
       "        vertical-align: middle;\n",
       "    }\n",
       "\n",
       "    .dataframe tbody tr th {\n",
       "        vertical-align: top;\n",
       "    }\n",
       "\n",
       "    .dataframe thead th {\n",
       "        text-align: right;\n",
       "    }\n",
       "</style>\n",
       "<table border=\"1\" class=\"dataframe\">\n",
       "  <thead>\n",
       "    <tr style=\"text-align: right;\">\n",
       "      <th></th>\n",
       "      <th>ipad</th>\n",
       "      <th>air</th>\n",
       "      <th>mini</th>\n",
       "    </tr>\n",
       "  </thead>\n",
       "  <tbody>\n",
       "    <tr>\n",
       "      <th>ipad</th>\n",
       "      <td>1.000000</td>\n",
       "      <td>0.405182</td>\n",
       "      <td>0.344970</td>\n",
       "    </tr>\n",
       "    <tr>\n",
       "      <th>air</th>\n",
       "      <td>0.405182</td>\n",
       "      <td>1.000000</td>\n",
       "      <td>0.475622</td>\n",
       "    </tr>\n",
       "    <tr>\n",
       "      <th>mini</th>\n",
       "      <td>0.344970</td>\n",
       "      <td>0.475622</td>\n",
       "      <td>1.000000</td>\n",
       "    </tr>\n",
       "  </tbody>\n",
       "</table>\n",
       "</div>"
      ],
      "text/plain": [
       "          ipad       air      mini\n",
       "ipad  1.000000  0.405182  0.344970\n",
       "air   0.405182  1.000000  0.475622\n",
       "mini  0.344970  0.475622  1.000000"
      ]
     },
     "execution_count": 46,
     "metadata": {},
     "output_type": "execute_result"
    }
   ],
   "source": [
    "df  "
   ]
  },
  {
   "cell_type": "markdown",
   "metadata": {},
   "source": [
    "## Word Clouds"
   ]
  },
  {
   "cell_type": "code",
   "execution_count": 47,
   "metadata": {
    "scrolled": false
   },
   "outputs": [
    {
     "data": {
      "image/png": "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