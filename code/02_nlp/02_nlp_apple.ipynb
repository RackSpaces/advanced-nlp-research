{
 "cells": [
  {
   "cell_type": "markdown",
   "metadata": {},
   "source": [
    "<img src=\"http://hilpisch.com/tpq_logo.png\" width=\"36%\" align=\"right\" style=\"vertical-align: top;\">"
   ]
  },
  {
   "cell_type": "markdown",
   "metadata": {},
   "source": [
    "# Natural Language Processing\n",
    "\n",
    "**Basic Techniques and Algorithms**\n",
    "\n",
    "_Illustrated based on the texts from three Apple press releases._\n",
    "\n",
    "Dr Yves J Hilpisch | Michael Schwed\n",
    "\n",
    "The Python Quants GmbH"
   ]
  },
  {
   "cell_type": "markdown",
   "metadata": {},
   "source": [
    "## Data Retrieval"
   ]
  },
  {
   "cell_type": "code",
   "execution_count": 1,
   "metadata": {},
   "outputs": [],
   "source": [
    "import requests"
   ]
  },
  {
   "cell_type": "code",
   "execution_count": 2,
   "metadata": {},
   "outputs": [],
   "source": [
    "sources = [\n",
    "    'https://nr.apple.com/dE0b1T5G3u',  # iPad Pro\n",
    "    'https://nr.apple.com/dE4c7T6g1K',  # MacBook Air\n",
    "    'https://nr.apple.com/dE4q4r8A2A',  # Mac Mini\n",
    "]  "
   ]
  },
  {
   "cell_type": "code",
   "execution_count": 3,
   "metadata": {},
   "outputs": [],
   "source": [
    "html = [requests.get(url).text for url in sources]  "
   ]
  },
  {
   "cell_type": "markdown",
   "metadata": {},
   "source": [
    "## Preprocessing"
   ]
  },
  {
   "cell_type": "code",
   "execution_count": 4,
   "metadata": {},
   "outputs": [],
   "source": [
    "import sys\n",
    "sys.path.append('../../modules/')\n",
    "import nlp_functions as nlp  "
   ]
  },
  {
   "cell_type": "code",
   "execution_count": 5,
   "metadata": {},
   "outputs": [],
   "source": [
    "data = [nlp.clean_up_text(t) for t in html]  "
   ]
  },
  {
   "cell_type": "code",
   "execution_count": 6,
   "metadata": {},
   "outputs": [
    {
     "data": {
      "text/plain": [
       "'new ipad pro with all-screen designis most advanced, powerful ipad ever - apple open menu close menu apple shopping bag search apple.com cancel apple mac ipad iphone watch tv music support shopping bag newsroom open menu close menu archive press release october 30, 2018 new ipad pro with all-screen designis most advanced, powerful ipad ever 11-inch and 12.9-inch models feature liquid retina display, powerful a12x bionic chip and face id introducing the new ipad pro with all-screen design and nex'"
      ]
     },
     "execution_count": 6,
     "metadata": {},
     "output_type": "execute_result"
    }
   ],
   "source": [
    "data[0][:500]  "
   ]
  },
  {
   "cell_type": "markdown",
   "metadata": {},
   "source": [
    "## Basic Text Analysis"
   ]
  },
  {
   "cell_type": "code",
   "execution_count": 7,
   "metadata": {},
   "outputs": [],
   "source": [
    "import nltk"
   ]
  },
  {
   "cell_type": "code",
   "execution_count": 8,
   "metadata": {},
   "outputs": [
    {
     "data": {
      "text/plain": [
       "'3.2.5'"
      ]
     },
     "execution_count": 8,
     "metadata": {},
     "output_type": "execute_result"
    }
   ],
   "source": [
    "nltk.__version__"
   ]
  },
  {
   "cell_type": "code",
   "execution_count": 9,
   "metadata": {},
   "outputs": [],
   "source": [
    "# to be executed once\n",
    "# nltk.download('punkt')\n",
    "# nltk.download('wordnet')\n",
    "# nltk.download('stopwords')\n",
    "# nltk.download('vader_lexicon')"
   ]
  },
  {
   "cell_type": "markdown",
   "metadata": {},
   "source": [
    "### Basic Tokenization and Vocabulary"
   ]
  },
  {
   "cell_type": "code",
   "execution_count": 10,
   "metadata": {},
   "outputs": [],
   "source": [
    "t = 'A sentence about NLP; and about ML.'"
   ]
  },
  {
   "cell_type": "code",
   "execution_count": 11,
   "metadata": {},
   "outputs": [
    {
     "data": {
      "text/plain": [
       "['A', 'sentence', 'about', 'NLP', ';', 'and', 'about', 'ML', '.']"
      ]
     },
     "execution_count": 11,
     "metadata": {},
     "output_type": "execute_result"
    }
   ],
   "source": [
    "nltk.word_tokenize(t)"
   ]
  },
  {
   "cell_type": "code",
   "execution_count": 12,
   "metadata": {},
   "outputs": [
    {
     "data": {
      "text/plain": [
       "['new',\n",
       " 'ipad',\n",
       " 'pro',\n",
       " 'with',\n",
       " 'all-screen',\n",
       " 'designis',\n",
       " 'most',\n",
       " 'advanced',\n",
       " ',',\n",
       " 'powerful']"
      ]
     },
     "execution_count": 12,
     "metadata": {},
     "output_type": "execute_result"
    }
   ],
   "source": [
    "nltk.word_tokenize(data[0])[:10]  "
   ]
  },
  {
   "cell_type": "code",
   "execution_count": 13,
   "metadata": {},
   "outputs": [],
   "source": [
    "tokens = nltk.word_tokenize(' '.join(data))  "
   ]
  },
  {
   "cell_type": "code",
   "execution_count": 14,
   "metadata": {},
   "outputs": [],
   "source": [
    "text = nltk.Text(tokens)  "
   ]
  },
  {
   "cell_type": "code",
   "execution_count": 15,
   "metadata": {},
   "outputs": [
    {
     "data": {
      "text/plain": [
       "93"
      ]
     },
     "execution_count": 15,
     "metadata": {},
     "output_type": "execute_result"
    }
   ],
   "source": [
    "text.count('ipad')  "
   ]
  },
  {
   "cell_type": "code",
   "execution_count": 16,
   "metadata": {},
   "outputs": [
    {
     "data": {
      "text/plain": [
       "9"
      ]
     },
     "execution_count": 16,
     "metadata": {},
     "output_type": "execute_result"
    }
   ],
   "source": [
    "text.count('mojave')  "
   ]
  },
  {
   "cell_type": "code",
   "execution_count": 17,
   "metadata": {},
   "outputs": [
    {
     "name": "stdout",
     "output_type": "stream",
     "text": [
      "ipad pro; macbook air; mac mini; close menu; menu close; open menu;\n",
      "smart keyboard; keyboard folio; retina display; a12x bionic; macos\n",
      "mojave; security chip; battery life; apple pencil; liquid retina;\n",
      "apple store; first time; shopping bag; five times; space gray\n"
     ]
    }
   ],
   "source": [
    "text.collocations()  "
   ]
  },
  {
   "cell_type": "code",
   "execution_count": 18,
   "metadata": {},
   "outputs": [
    {
     "name": "stdout",
     "output_type": "stream",
     "text": [
      "memory a wireless more viewer efficiency other latest\n"
     ]
    }
   ],
   "source": [
    "text.similar('performance')  "
   ]
  },
  {
   "cell_type": "code",
   "execution_count": 19,
   "metadata": {},
   "outputs": [
    {
     "name": "stdout",
     "output_type": "stream",
     "text": [
      "new_pro to_pro for_pro\n"
     ]
    }
   ],
   "source": [
    "text.common_contexts(['ipad', 'macbook'])  "
   ]
  },
  {
   "cell_type": "code",
   "execution_count": 20,
   "metadata": {},
   "outputs": [
    {
     "data": {
      "text/plain": [
       "FreqDist({'new': 99,\n",
       "          'ipad': 93,\n",
       "          'pro': 73,\n",
       "          'with': 85,\n",
       "          'all-screen': 6,\n",
       "          'designis': 3,\n",
       "          'most': 23,\n",
       "          'advanced': 13,\n",
       "          ',': 344,\n",
       "          'powerful': 19,\n",
       "          'ever': 21,\n",
       "          '-': 3,\n",
       "          'apple': 138,\n",
       "          'open': 27,\n",
       "          'menu': 54,\n",
       "          'close': 27,\n",
       "          'shopping': 9,\n",
       "          'bag': 6,\n",
       "          'search': 3,\n",
       "          'apple.com': 19,\n",
       "          'cancel': 3,\n",
       "          'mac': 58,\n",
       "          'iphone': 13,\n",
       "          'watch': 9,\n",
       "          'tv': 9,\n",
       "          'music': 11,\n",
       "          'support': 12,\n",
       "          'newsroom': 12,\n",
       "          'archive': 3,\n",
       "          'press': 6,\n",
       "          'release': 3,\n",
       "          'october': 5,\n",
       "          '30': 6,\n",
       "          '2018': 9,\n",
       "          '11-inch': 9,\n",
       "          'and': 253,\n",
       "          '12.9-inch': 9,\n",
       "          'models': 5,\n",
       "          'feature': 3,\n",
       "          'liquid': 7,\n",
       "          'retina': 13,\n",
       "          'display': 20,\n",
       "          'a12x': 8,\n",
       "          'bionic': 8,\n",
       "          'chip': 16,\n",
       "          'face': 10,\n",
       "          'id': 20,\n",
       "          'introducing': 2,\n",
       "          'the': 232,\n",
       "          'design': 19,\n",
       "          'next-generation': 7,\n",
       "          'performance': 25,\n",
       "          '.': 170,\n",
       "          'york': 3,\n",
       "          'today': 15,\n",
       "          'introduced': 2,\n",
       "          'marking': 1,\n",
       "          'biggest': 1,\n",
       "          'change': 1,\n",
       "          'to': 125,\n",
       "          'all-new': 14,\n",
       "          'pushes': 1,\n",
       "          'displays': 6,\n",
       "          'edges': 2,\n",
       "          'of': 69,\n",
       "          'integrates': 1,\n",
       "          'securely': 2,\n",
       "          'unlock': 4,\n",
       "          'just': 8,\n",
       "          'a': 83,\n",
       "          'glance.1': 1,\n",
       "          'neural': 4,\n",
       "          'engine': 5,\n",
       "          'in': 58,\n",
       "          'outperforms': 2,\n",
       "          'pc': 1,\n",
       "          'laptops': 2,\n",
       "          'offers': 4,\n",
       "          'usb-c': 11,\n",
       "          'connector': 5,\n",
       "          'gigabit-class': 1,\n",
       "          'lte': 1,\n",
       "          'up': 30,\n",
       "          '1tb': 4,\n",
       "          'storage': 11,\n",
       "          'enable': 4,\n",
       "          'mobile': 3,\n",
       "          'workflows.2': 1,\n",
       "          'over': 6,\n",
       "          'million': 3,\n",
       "          'apps': 19,\n",
       "          'designed': 5,\n",
       "          'take': 7,\n",
       "          'advantage': 5,\n",
       "          'large': 6,\n",
       "          'multi-touch': 1,\n",
       "          'including': 17,\n",
       "          'like': 9,\n",
       "          'photoshop': 1,\n",
       "          'cc': 1,\n",
       "          'on': 36,\n",
       "          '(': 21,\n",
       "          'coming': 3,\n",
       "          '2019': 2,\n",
       "          ')': 21,\n",
       "          'will': 11,\n",
       "          'push': 2,\n",
       "          'what': 1,\n",
       "          'users': 10,\n",
       "          'can': 12,\n",
       "          'do': 2,\n",
       "          'computer': 4,\n",
       "          'further': 3,\n",
       "          'than': 23,\n",
       "          'before': 3,\n",
       "          'designs': 2,\n",
       "          'second-generation': 2,\n",
       "          'pencil': 12,\n",
       "          'magnetically': 2,\n",
       "          'attaches': 2,\n",
       "          'wirelessly': 2,\n",
       "          'charges': 1,\n",
       "          'at': 19,\n",
       "          'same': 8,\n",
       "          'time': 11,\n",
       "          'touch': 15,\n",
       "          'sensor': 2,\n",
       "          'built': 6,\n",
       "          'onto': 1,\n",
       "          'detects': 1,\n",
       "          'taps': 1,\n",
       "          'an': 27,\n",
       "          'entirely': 1,\n",
       "          'way': 1,\n",
       "          'interact': 1,\n",
       "          'within': 2,\n",
       "          'smart': 14,\n",
       "          'keyboard': 19,\n",
       "          'folio': 15,\n",
       "          'features': 25,\n",
       "          'streamlined': 2,\n",
       "          'thats': 3,\n",
       "          'adjustable': 3,\n",
       "          'for': 97,\n",
       "          'added': 4,\n",
       "          'versatility': 3,\n",
       "          'are': 19,\n",
       "          'available': 20,\n",
       "          'order': 8,\n",
       "          'starting': 9,\n",
       "          'stores': 4,\n",
       "          'wednesday': 5,\n",
       "          'november': 5,\n",
       "          '7.': 3,\n",
       "          'offer': 2,\n",
       "          'take-anywhere': 1,\n",
       "          'power': 9,\n",
       "          'is': 39,\n",
       "          'huge': 4,\n",
       "          'step': 1,\n",
       "          'forward': 1,\n",
       "          'creative': 3,\n",
       "          'computing': 2,\n",
       "          ';': 2,\n",
       "          'it': 17,\n",
       "          'has': 9,\n",
       "          'thinner': 4,\n",
       "          'speeds': 2,\n",
       "          'through': 8,\n",
       "          'projects': 1,\n",
       "          'super-fast': 1,\n",
       "          'unlocks': 1,\n",
       "          'glance': 1,\n",
       "          'using': 10,\n",
       "          'any': 8,\n",
       "          'orientation': 2,\n",
       "          'while': 3,\n",
       "          'youre': 1,\n",
       "          'sitting': 1,\n",
       "          'or': 25,\n",
       "          'standing': 1,\n",
       "          'your': 16,\n",
       "          'desk': 2,\n",
       "          'lap': 2,\n",
       "          'said': 3,\n",
       "          'philip': 3,\n",
       "          'schiller': 3,\n",
       "          'apples': 11,\n",
       "          'senior': 3,\n",
       "          'vice': 3,\n",
       "          'president': 3,\n",
       "          'worldwide': 3,\n",
       "          'marketing': 3,\n",
       "          'there': 1,\n",
       "          'never': 2,\n",
       "          'been': 3,\n",
       "          'device': 9,\n",
       "          'anything': 3,\n",
       "          'gorgeous': 3,\n",
       "          'edge-to-edge': 3,\n",
       "          'that': 20,\n",
       "          'curves': 2,\n",
       "          'into': 10,\n",
       "          'corners': 4,\n",
       "          'breakthrough': 5,\n",
       "          'cameras': 4,\n",
       "          'sensors': 3,\n",
       "          'best': 9,\n",
       "          'ar': 10,\n",
       "          'experiences': 7,\n",
       "          'high-speed': 1,\n",
       "          'louder': 2,\n",
       "          'speakers': 3,\n",
       "          'faster': 24,\n",
       "          'wireless': 4,\n",
       "          'more': 52,\n",
       "          'all': 21,\n",
       "          'packed': 3,\n",
       "          'all-day': 4,\n",
       "          'battery': 9,\n",
       "          'life': 10,\n",
       "          '25': 4,\n",
       "          'percent': 19,\n",
       "          'smaller': 3,\n",
       "          'volume': 2,\n",
       "          'stunning': 7,\n",
       "          'rounded': 3,\n",
       "          'worlds': 5,\n",
       "          'follow': 2,\n",
       "          'pros': 3,\n",
       "          'unibody': 1,\n",
       "          'enclosure': 8,\n",
       "          'precision-milled': 1,\n",
       "          'glass': 1,\n",
       "          'pixel': 1,\n",
       "          'masking': 1,\n",
       "          'sub-pixel': 1,\n",
       "          'antialiasing': 1,\n",
       "          'backlight': 1,\n",
       "          'brightest': 1,\n",
       "          'color': 4,\n",
       "          'accurate': 3,\n",
       "          'featuring': 6,\n",
       "          'wide': 4,\n",
       "          'true': 1,\n",
       "          'tone': 1,\n",
       "          'anti-reflective': 1,\n",
       "          'coating': 1,\n",
       "          'natural': 1,\n",
       "          'viewing': 2,\n",
       "          'experience': 4,\n",
       "          'indoors': 1,\n",
       "          'out': 1,\n",
       "          'promotion': 1,\n",
       "          'technology': 6,\n",
       "          'automatically': 4,\n",
       "          'adjusts': 2,\n",
       "          'refresh': 1,\n",
       "          'rate': 1,\n",
       "          '120hz': 1,\n",
       "          'ultra-smooth': 1,\n",
       "          'scrolling': 1,\n",
       "          'incredible': 3,\n",
       "          'responsiveness': 1,\n",
       "          'easily': 3,\n",
       "          'content': 5,\n",
       "          'viewer': 1,\n",
       "          'packs': 5,\n",
       "          'bigger': 1,\n",
       "          'pixels': 3,\n",
       "          'footprint': 5,\n",
       "          'as': 16,\n",
       "          '10.5-inch': 1,\n",
       "          'model': 6,\n",
       "          'yet': 2,\n",
       "          'still': 2,\n",
       "          'weighs': 1,\n",
       "          'one': 1,\n",
       "          'pound': 2,\n",
       "          'places': 1,\n",
       "          'largest': 1,\n",
       "          'portable': 8,\n",
       "          'package': 1,\n",
       "          'massive': 2,\n",
       "          'reduction': 1,\n",
       "          'volume.3': 1,\n",
       "          'both': 2,\n",
       "          '5.9': 2,\n",
       "          'mm': 3,\n",
       "          'thin': 4,\n",
       "          'thinnest': 2,\n",
       "          'making': 9,\n",
       "          'now': 18,\n",
       "          'even': 11,\n",
       "          'easier': 1,\n",
       "          'you': 11,\n",
       "          'specifically': 2,\n",
       "          'smartest': 2,\n",
       "          'tablet': 4,\n",
       "          'demanding': 2,\n",
       "          'tasks': 4,\n",
       "          'editing': 7,\n",
       "          'photos': 4,\n",
       "          'creating': 4,\n",
       "          '3d': 3,\n",
       "          'responsive': 2,\n",
       "          'industry-leading': 2,\n",
       "          'seven-nanometer': 1,\n",
       "          'eight-core': 1,\n",
       "          'four': 9,\n",
       "          'cores': 3,\n",
       "          'efficiency': 1,\n",
       "          '35': 1,\n",
       "          'single-core': 1,\n",
       "          'controller': 3,\n",
       "          'simultaneous': 1,\n",
       "          'use': 12,\n",
       "          'eight': 1,\n",
       "          '90': 1,\n",
       "          'boost': 2,\n",
       "          'during': 4,\n",
       "          'multi-threaded': 1,\n",
       "          'tasks.3': 1,\n",
       "          'seven-core': 1,\n",
       "          'apple-designed': 6,\n",
       "          'gpu': 1,\n",
       "          'delivers': 8,\n",
       "          'twice': 3,\n",
       "          'graphics': 12,\n",
       "          'incredibly': 3,\n",
       "          'rich': 3,\n",
       "          'immersive': 3,\n",
       "          'console-quality': 1,\n",
       "          'capability': 1,\n",
       "          'lasts': 1,\n",
       "          'day': 1,\n",
       "          'thanks': 1,\n",
       "          'great': 1,\n",
       "          '10-hour': 1,\n",
       "          'life.4': 1,\n",
       "          'machine': 3,\n",
       "          'learning': 3,\n",
       "          'everything': 3,\n",
       "          'from': 16,\n",
       "          'photography': 1,\n",
       "          'completing': 1,\n",
       "          '5': 1,\n",
       "          'trillion': 1,\n",
       "          'operations': 1,\n",
       "          'per': 1,\n",
       "          'second': 2,\n",
       "          'this': 5,\n",
       "          'enables': 4,\n",
       "          'fast': 6,\n",
       "          'plane': 1,\n",
       "          'detection': 1,\n",
       "          'other': 3,\n",
       "          'real-time': 1,\n",
       "          'deliver': 3,\n",
       "          'improved': 4,\n",
       "          'core': 6,\n",
       "          'ml': 1,\n",
       "          'empowering': 1,\n",
       "          'developers': 4,\n",
       "          'build': 2,\n",
       "          'workflows': 5,\n",
       "          'utilize': 1,\n",
       "          'highly': 1,\n",
       "          'efficient': 2,\n",
       "          'comes': 8,\n",
       "          'secure': 11,\n",
       "          'facial': 2,\n",
       "          'authentication': 2,\n",
       "          'system': 6,\n",
       "          'first': 8,\n",
       "          'work': 3,\n",
       "          'holding': 1,\n",
       "          'position': 1,\n",
       "          'seated': 1,\n",
       "          'takes': 5,\n",
       "          'truedepth': 2,\n",
       "          'camera': 3,\n",
       "          'accurately': 1,\n",
       "          'map': 4,\n",
       "          'recognize': 1,\n",
       "          'pay': 6,\n",
       "          'online': 4,\n",
       "          'allow': 4,\n",
       "          'gain': 1,\n",
       "          'access': 2,\n",
       "          'also': 16,\n",
       "          'animoji': 2,\n",
       "          'memoji': 2,\n",
       "          'four-speaker': 2,\n",
       "          'audio': 9,\n",
       "          'combine': 1,\n",
       "          'turn': 2,\n",
       "          'its': 6,\n",
       "          'viewfinder': 2,\n",
       "          'next': 2,\n",
       "          'generation': 12,\n",
       "          'world': 7,\n",
       "          'possible': 1,\n",
       "          'such': 1,\n",
       "          'measuring': 2,\n",
       "          'reflection': 1,\n",
       "          'real-world': 1,\n",
       "          'objects': 1,\n",
       "          'navigating': 1,\n",
       "          'buildings': 1,\n",
       "          'exploring': 1,\n",
       "          'entire': 2,\n",
       "          'universes': 1,\n",
       "          'adobes': 1,\n",
       "          'project': 1,\n",
       "          'aero': 1,\n",
       "          'creators': 1,\n",
       "          'purchase': 2,\n",
       "          'separately': 1,\n",
       "          'give': 3,\n",
       "          'levels': 1,\n",
       "          'precision': 1,\n",
       "          'productivity': 1,\n",
       "          'pairing': 1,\n",
       "          'charging': 2,\n",
       "          'becomes': 1,\n",
       "          'intuitive': 1,\n",
       "          'select': 2,\n",
       "          'right': 2,\n",
       "          'tool': 1,\n",
       "          'brush': 1,\n",
       "          'simple': 5,\n",
       "          'double': 2,\n",
       "          'tap': 2,\n",
       "          'notes': 1,\n",
       "          'leading': 1,\n",
       "          'adobe': 3,\n",
       "          'autodesk': 1,\n",
       "          'procreate': 1,\n",
       "          'be': 13,\n",
       "          'gives': 1,\n",
       "          'ability': 2,\n",
       "          'productive': 1,\n",
       "          'protects': 2,\n",
       "          'front': 1,\n",
       "          'back': 1,\n",
       "          'light': 1,\n",
       "          'encompassing': 1,\n",
       "          'full-size': 1,\n",
       "          'needs': 1,\n",
       "          'charged': 1,\n",
       "          'paired': 1,\n",
       "          'perfect': 4,\n",
       "          'getting': 1,\n",
       "          'thoughts': 1,\n",
       "          'down': 1,\n",
       "          'multitasking': 2,\n",
       "          'possibilities': 1,\n",
       "          'replaces': 1,\n",
       "          'lightning': 1,\n",
       "          'ways': 5,\n",
       "          'used': 3,\n",
       "          'versatile': 3,\n",
       "          'supports': 1,\n",
       "          'usb': 2,\n",
       "          '3.1': 1,\n",
       "          'gen': 1,\n",
       "          '2': 4,\n",
       "          'high-bandwidth': 1,\n",
       "          'data': 8,\n",
       "          'transfers': 1,\n",
       "          'speed': 4,\n",
       "          'musical': 2,\n",
       "          'instruments': 1,\n",
       "          'drives': 1,\n",
       "          'external': 2,\n",
       "          '5k': 3,\n",
       "          'charge': 3,\n",
       "          'ios': 8,\n",
       "          '12': 5,\n",
       "          'brings': 2,\n",
       "          'gestures': 1,\n",
       "          'already': 1,\n",
       "          'familiar': 3,\n",
       "          'x': 1,\n",
       "          'xs': 1,\n",
       "          'wake': 1,\n",
       "          'swiping': 1,\n",
       "          'go': 3,\n",
       "          'home': 3,\n",
       "          'control': 1,\n",
       "          'center': 1,\n",
       "          'shortcuts': 1,\n",
       "          'app': 13,\n",
       "          'helps': 2,\n",
       "          'link': 1,\n",
       "          'together': 2,\n",
       "          'automated': 1,\n",
       "          'photo': 3,\n",
       "          'video': 12,\n",
       "          'file': 1,\n",
       "          'asset': 1,\n",
       "          'management': 1,\n",
       "          'improvements': 1,\n",
       "          'import': 1,\n",
       "          'native': 1,\n",
       "          'raw': 1,\n",
       "          'image': 1,\n",
       "          'photographers': 1,\n",
       "          'multitask': 1,\n",
       "          'group': 5,\n",
       "          'facetime': 7,\n",
       "          'makes': 4,\n",
       "          'easy': 2,\n",
       "          'connect': 7,\n",
       "          'groups': 4,\n",
       "          'friends': 3,\n",
       "          'colleagues': 2,\n",
       "          'participants': 1,\n",
       "          'join': 3,\n",
       "          'later': 2,\n",
       "          'if': 2,\n",
       "          'conversation': 1,\n",
       "          'active': 1,\n",
       "          'choose': 1,\n",
       "          'customizable': 1,\n",
       "          'screen': 3,\n",
       "          'add': 1,\n",
       "          'personality': 1,\n",
       "          'videos': 2,\n",
       "          'messages': 1,\n",
       "          'pricing': 3,\n",
       "          'availability': 4,\n",
       "          'silver': 3,\n",
       "          'space': 5,\n",
       "          'gray': 5,\n",
       "          'finishes': 2,\n",
       "          '64gb': 6,\n",
       "          '256gb': 2,\n",
       "          '512gb': 1,\n",
       "          'configurations': 1,\n",
       "          'well': 3,\n",
       "          'option': 6,\n",
       "          'starts': 2,\n",
       "          '$': 11,\n",
       "          '799': 2,\n",
       "          'us': 10,\n",
       "          'wi-fi': 4,\n",
       "          '949': 1,\n",
       "          '+': 2,\n",
       "          'cellular': 2,\n",
       "          '999': 1,\n",
       "          '1,149': 1,\n",
       "          'store': 26,\n",
       "          'locations': 3,\n",
       "          'authorized': 4,\n",
       "          'resellers': 4,\n",
       "          'carriers': 1,\n",
       "          'prices': 1,\n",
       "          'may': 2,\n",
       "          'vary': 2,\n",
       "          '7': 1,\n",
       "          '40': 1,\n",
       "          'additional': 4,\n",
       "          'countries': 2,\n",
       "          'regions': 2,\n",
       "          'australia': 1,\n",
       "          'austria': 1,\n",
       "          'belgium': 1,\n",
       "          'bulgaria': 1,\n",
       "          'canada': 1,\n",
       "          'china': 1,\n",
       "          'croatia': 1,\n",
       "          'czech': 1,\n",
       "          'republic': 1,\n",
       "          'denmark': 1,\n",
       "          'estonia': 1,\n",
       "          'finland': 1,\n",
       "          'france': 1,\n",
       "          'germany': 1,\n",
       "          'hong': 1,\n",
       "          'kong': 1,\n",
       "          'hungary': 1,\n",
       "          'iceland': 1,\n",
       "          'ireland': 1,\n",
       "          'isle': 1,\n",
       "          'man': 1,\n",
       "          'italy': 1,\n",
       "          'japan': 1,\n",
       "          'jersey': 1,\n",
       "          'latvia': 1,\n",
       "          'lithuania': 1,\n",
       "          'luxembourg': 1,\n",
       "          'macau': 1,\n",
       "          'monaco': 1,\n",
       "          'netherlands': 1,\n",
       "          'zealand': 1,\n",
       "          'norway': 1,\n",
       "          'poland': 1,\n",
       "          'portugal': 1,\n",
       "          'puerto': 1,\n",
       "          'rico': 1,\n",
       "          'romania': 1,\n",
       "          'singapore': 1,\n",
       "          'slovakia': 1,\n",
       "          'slovenia': 1,\n",
       "          'spain': 1,\n",
       "          'sweden': 1,\n",
       "          'switzerland': 1,\n",
       "          'uae': 1,\n",
       "          'uk': 1,\n",
       "          'year': 1,\n",
       "          'colombia': 1,\n",
       "          'greece': 1,\n",
       "          'greenland': 1,\n",
       "          'guatemala': 1,\n",
       "          'india': 1,\n",
       "          'israel': 1,\n",
       "          'liechtenstein': 1,\n",
       "          'malaysia': 1,\n",
       "          'macedonia': 1,\n",
       "          'mexico': 1,\n",
       "          'morocco': 1,\n",
       "          'peru': 1,\n",
       "          'qatar': 1,\n",
       "          'russia': 1,\n",
       "          'thailand': 1,\n",
       "          'turkey': 1,\n",
       "          'saudi': 1,\n",
       "          'arabia': 1,\n",
       "          'south': 1,\n",
       "          'africa': 1,\n",
       "          '129': 1,\n",
       "          '179': 1,\n",
       "          '199': 1,\n",
       "          'layouts': 1,\n",
       "          'languages': 1,\n",
       "          'simplified': 1,\n",
       "          'chinese': 1,\n",
       "          'french': 1,\n",
       "          'german': 1,\n",
       "          'japanese': 1,\n",
       "          'spanish': 1,\n",
       "          'protective': 1,\n",
       "          'polyurethane': 1,\n",
       "          'variety': 1,\n",
       "          'colors': 2,\n",
       "          '79': 1,\n",
       "          '99': 1,\n",
       "          'assortment': 1,\n",
       "          'accessories': 7,\n",
       "          'adapters': 1,\n",
       "          'cables': 1,\n",
       "          'sd': 1,\n",
       "          'card': 2,\n",
       "          'reader': 1,\n",
       "          '3.5': 1,\n",
       "          'headphone': 1,\n",
       "          'jack': 3,\n",
       "          'adapter': 1,\n",
       "          'giveback': 1,\n",
       "          'customers': 5,\n",
       "          'trade': 1,\n",
       "          'their': 5,\n",
       "          'eligible': 2,\n",
       "          'gift': 4,\n",
       "          'partial': 1,\n",
       "          'refund': 1,\n",
       "          'isnt': 1,\n",
       "          'credit': 1,\n",
       "          'recycle': 1,\n",
       "          'free': 3,\n",
       "          'every': 3,\n",
       "          'customer': 1,\n",
       "          'who': 2,\n",
       "          'buys': 1,\n",
       "          'enjoy': 1,\n",
       "          'personal': 4,\n",
       "          'setup': 1,\n",
       "          'in-store': 1,\n",
       "          'receive': 1,\n",
       "          'guidance': 1,\n",
       "          'how': 1,\n",
       "          'customize': 1,\n",
       "          'set': 2,\n",
       "          'email': 1,\n",
       "          'find': 7,\n",
       "          'anyone': 1,\n",
       "          'wants': 1,\n",
       "          'learn': 4,\n",
       "          'sign': 1,\n",
       "          'sessions': 1,\n",
       "          'apple.com/today': 1,\n",
       "          'media': 6,\n",
       "          'images': 6,\n",
       "          'download': 3,\n",
       "          'revolutionized': 4,\n",
       "          'introduction': 3,\n",
       "          'macintosh': 3,\n",
       "          '1984.': 3,\n",
       "          'leads': 3,\n",
       "          'innovation': 3,\n",
       "          'software': 7,\n",
       "          'platforms': 3,\n",
       "          'macos': 12,\n",
       "          'watchos': 3,\n",
       "          'tvos': 3,\n",
       "          'provide': 3,\n",
       "          'seamless': 3,\n",
       "          'across': 3,\n",
       "          'devices': 7,\n",
       "          'empower': 3,\n",
       "          'people': 3,\n",
       "          'services': 3,\n",
       "          'icloud': 3,\n",
       "          '100,000': 3,\n",
       "          'employees': 3,\n",
       "          'dedicated': 3,\n",
       "          'products': 3,\n",
       "          'earth': 3,\n",
       "          'leaving': 3,\n",
       "          'better': 4,\n",
       "          'we': 4,\n",
       "          'found': 3,\n",
       "          '1': 3,\n",
       "          'have': 1,\n",
       "          'when': 2,\n",
       "          'measured': 1,\n",
       "          'rectangle': 1,\n",
       "          '12.9': 1,\n",
       "          'inches': 3,\n",
       "          'diagonally': 2,\n",
       "          '11': 1,\n",
       "          'actual': 2,\n",
       "          'viewable': 1,\n",
       "          'area': 1,\n",
       "          'less': 2,\n",
       "          '92': 1,\n",
       "          'pcs': 1,\n",
       "          'sold': 1,\n",
       "          'between': 1,\n",
       "          'june': 1,\n",
       "          '2017-june': 1,\n",
       "          'npd': 1,\n",
       "          '3': 15,\n",
       "          'compared': 1,\n",
       "          'previous': 8,\n",
       "          '4': 4,\n",
       "          'depends': 1,\n",
       "          'settings': 1,\n",
       "          'usage': 1,\n",
       "          'factors': 1,\n",
       "          'results': 1,\n",
       "          'contacts': 3,\n",
       "          'andy': 1,\n",
       "          'bowman': 1,\n",
       "          'abowman': 1,\n",
       "          '@': 9,\n",
       "          '408': 9,\n",
       "          '783-0619': 1,\n",
       "          'hannah': 1,\n",
       "          'wong-silva': 1,\n",
       "          'hannahw': 1,\n",
       "          '974-7077': 1,\n",
       "          'helpline': 3,\n",
       "          'media.help': 3,\n",
       "          '974-2042': 3,\n",
       "          'latest': 10,\n",
       "          'news': 5,\n",
       "          'journalists': 3,\n",
       "          'read': 3,\n",
       "          'footer': 3,\n",
       "          'shop': 12,\n",
       "          'itunes': 4,\n",
       "          'homepod': 3,\n",
       "          'ipod': 3,\n",
       "          'cards': 3,\n",
       "          'genius': 3,\n",
       "          'bar': 3,\n",
       "          'camp': 3,\n",
       "          'field': 3,\n",
       "          'trip': 3,\n",
       "          'refurbished': 3,\n",
       "          'clearance': 3,\n",
       "          'financing': 3,\n",
       "          'applegiveback': 3,\n",
       "          'status': 3,\n",
       "          'help': 4,\n",
       "          'education': 9,\n",
       "          'college': 3,\n",
       "          'business': 9,\n",
       "          'account': 6,\n",
       "          'manage': 3,\n",
       "          'icloud.com': 3,\n",
       "          'values': 3,\n",
       "          'accessibility': 3,\n",
       "          'environment': 3,\n",
       "          'inclusion': 3,\n",
       "          'diversity': 3,\n",
       "          'privacy': 6,\n",
       "          'supplier': 3,\n",
       "          'responsibility': 3,\n",
       "          'about': 3,\n",
       "          'leadership': 3,\n",
       "          'job': 4,\n",
       "          'opportunities': 3,\n",
       "          'investors': 3,\n",
       "          'events': 3,\n",
       "          'contact': 3,\n",
       "          ':': 3,\n",
       "          'visit': 3,\n",
       "          'call': 3,\n",
       "          '1-800-my-apple': 3,\n",
       "          'reseller': 3,\n",
       "          'united': 3,\n",
       "          'states': 3,\n",
       "          'copyright': 3,\n",
       "          'inc.': 3,\n",
       "          'rights': 3,\n",
       "          'reserved': 3,\n",
       "          'policy': 3,\n",
       "          'terms': 3,\n",
       "          'sales': 3,\n",
       "          'refunds': 3,\n",
       "          'legal': 3,\n",
       "          'site': 3,\n",
       "          'macbook': 45,\n",
       "          'air': 38,\n",
       "          'flight': 3,\n",
       "          'macbookair': 1,\n",
       "          '13-inch': 2,\n",
       "          'processors': 9,\n",
       "          'bringing': 1,\n",
       "          'loved': 3,\n",
       "          'notebook': 8,\n",
       "          'delivering': 2,\n",
       "          'known': 1,\n",
       "          'three': 5,\n",
       "          'gold': 2,\n",
       "          'affordable': 1,\n",
       "          'retina-display': 1,\n",
       "          'includes': 5,\n",
       "          'spacious': 1,\n",
       "          'force': 3,\n",
       "          'trackpad': 5,\n",
       "          'ssds': 3,\n",
       "          'stereo': 2,\n",
       "          'sound': 3,\n",
       "          't2': 15,\n",
       "          'security': 11,\n",
       "          'thunderbolt': 15,\n",
       "          'everywhere': 1,\n",
       "          'wedge-shaped': 2,\n",
       "          'aluminum': 10,\n",
       "          'forever': 1,\n",
       "          'changed': 1,\n",
       "          'industry': 1,\n",
       "          'computers': 2,\n",
       "          'became': 1,\n",
       "          'redesigning': 1,\n",
       "          'started': 1,\n",
       "          'then': 1,\n",
       "          'third-generation': 2,\n",
       "          'high': 2,\n",
       "          'ports': 10,\n",
       "          'course': 1,\n",
       "          'mojave': 9,\n",
       "          'beautiful': 3,\n",
       "          'lighter': 2,\n",
       "          'all-aluminum': 1,\n",
       "          'whole': 4,\n",
       "          'going': 2,\n",
       "          'love': 1,\n",
       "          '13.3-inch': 1,\n",
       "          'resolution': 3,\n",
       "          'so': 5,\n",
       "          'text': 2,\n",
       "          'look': 3,\n",
       "          'sharp': 2,\n",
       "          '48': 2,\n",
       "          'lifelike': 1,\n",
       "          'ever.1': 2,\n",
       "          'built-in': 1,\n",
       "          'hd': 1,\n",
       "          'which': 9,\n",
       "          'calls': 2,\n",
       "          'family': 1,\n",
       "          'microphone': 1,\n",
       "          'array': 1,\n",
       "          'quality': 2,\n",
       "          'voice': 4,\n",
       "          'recognition': 1,\n",
       "          'siri': 3,\n",
       "          'detailed': 1,\n",
       "          'fingerprint': 1,\n",
       "          'allows': 2,\n",
       "          'conveniently': 1,\n",
       "          'instantly': 2,\n",
       "          'authenticate': 2,\n",
       "          'identity': 2,\n",
       "          'make': 4,\n",
       "          'purchases': 2,\n",
       "          'far': 1,\n",
       "          't2s': 1,\n",
       "          'enclave': 2,\n",
       "          'information': 4,\n",
       "          'ensures': 2,\n",
       "          'loaded': 2,\n",
       "          'boot': 4,\n",
       "          'process': 3,\n",
       "          'not': 2,\n",
       "          'tampered': 2,\n",
       "          'ssd': 7,\n",
       "          'on-the-fly': 3,\n",
       "          'encryption': 3,\n",
       "          'stored': 2,\n",
       "          'these': 4,\n",
       "          'always-on': 1,\n",
       "          'processor': 2,\n",
       "          'hey': 1,\n",
       "          'lets': 2,\n",
       "          'requests': 1,\n",
       "          'things': 1,\n",
       "          'finding': 1,\n",
       "          'files': 6,\n",
       "          'opening': 3,\n",
       "          'allowing': 1,\n",
       "          'industrys': 1,\n",
       "          'precise': 1,\n",
       "          'typing': 1,\n",
       "          'each': 2,\n",
       "          'key': 1,\n",
       "          'individually': 1,\n",
       "          'backlit': 1,\n",
       "          'low-power': 1,\n",
       "          'leds': 1,\n",
       "          'illumination': 1,\n",
       "          'industry-best': 1,\n",
       "          'pressure-sensing': 1,\n",
       "          'capabilities': 1,\n",
       "          'haptic': 1,\n",
       "          'feedback': 1,\n",
       "          '20': 1,\n",
       "          'larger': 3,\n",
       "          'offering': 1,\n",
       "          'quieter': 1,\n",
       "          'capable': 2,\n",
       "          'fuller': 2,\n",
       "          'processing': 1,\n",
       "          'higher': 3,\n",
       "          'playback': 1,\n",
       "          'watching': 1,\n",
       "          'movies': 1,\n",
       "          'listening': 1,\n",
       "          'two': 5,\n",
       "          'times': 10,\n",
       "          'bass': 1,\n",
       "          'dynamic': 1,\n",
       "          'range': 1,\n",
       "          'sound.1': 1,\n",
       "          'daily': 1,\n",
       "          'activities': 2,\n",
       "          '8th': 1,\n",
       "          'intel': 7,\n",
       "          'i5': 1,\n",
       "          'uhd': 2,\n",
       "          '2133': 1,\n",
       "          'mhz': 2,\n",
       "          'memory': 9,\n",
       "          '16gb': 2,\n",
       "          'need': 2,\n",
       "          'everyday': 1,\n",
       "          'organizing': 2,\n",
       "          'browsing': 3,\n",
       "          'web': 4,\n",
       "          'presentations': 2,\n",
       "          '1.5tb': 1,\n",
       "          'capacity': 2,\n",
       "          '60': 2,\n",
       "          'launching': 1,\n",
       "          'feel': 1,\n",
       "          'snappier': 1,\n",
       "          'responsive.1': 1,\n",
       "          'port': 4,\n",
       "          'quickly': 3,\n",
       "          'transfer': 2,\n",
       "          'via': 1,\n",
       "          'output': 2,\n",
       "          'formats': 2,\n",
       "          'host': 2,\n",
       "          'docks': 1,\n",
       "          '4k': 2,\n",
       "          'egpus': 1,\n",
       "          '700': 1,\n",
       "          'ecosystem': 1,\n",
       "          'growing': 1,\n",
       "          'along': 1,\n",
       "          'thousands': 2,\n",
       "          'greenest': 2,\n",
       "          'distinct': 1,\n",
       "          ...})"
      ]
     },
     "execution_count": 20,
     "metadata": {},
     "output_type": "execute_result"
    }
   ],
   "source": [
    "text.vocab()  "
   ]
  },
  {
   "cell_type": "code",
   "execution_count": 21,
   "metadata": {},
   "outputs": [
    {
     "name": "stdout",
     "output_type": "stream",
     "text": [
      "Displaying 7 of 45 matches:\n",
      "refunds legal site map all-new macbook air takes flight - apple open \n",
      "acbookair takes flight all-new macbook air features 13-inch retina di\n",
      "le today introduced an all-new macbook air , bringing a stunning 13-i\n",
      "y life its known for , the new macbook air is available in three gorg\n",
      "thunderbolt 3 , making the new macbook air the perfect notebook to ta\n",
      " everywhere you go . the first macbook air revolutionized mac with it\n",
      "ldwide marketing . redesigning macbook air started with a stunning re\n"
     ]
    }
   ],
   "source": [
    "text.concordance('macbook', width=70, lines=7)"
   ]
  },
  {
   "cell_type": "code",
   "execution_count": 22,
   "metadata": {},
   "outputs": [
    {
     "name": "stdout",
     "output_type": "stream",
     "text": [
      "Displaying 7 of 9 matches:\n",
      "t 3 ports , and of course macos mojave in a beautiful , thinner , ligh\n",
      "ion so text and images in macos mojave look sharp and stunning . and w\n",
      "and rendering workloads.1 macos mojave all new macs come with macos mo\n",
      "ve all new macs come with macos mojave , the latest version of the wor\n",
      "esigned for everyone . in macos mojave , a new dark mode transforms th\n",
      "be . macbook air includes macos mojave , featuring dark mode , stacks \n",
      "roadest mac lineup ever . macos mojave all new macs come with macos mo\n"
     ]
    }
   ],
   "source": [
    "text.concordance('mojave', width=70, lines=7)"
   ]
  },
  {
   "cell_type": "code",
   "execution_count": 23,
   "metadata": {},
   "outputs": [],
   "source": [
    "words = sorted(set([w.lower() for w in tokens]))  "
   ]
  },
  {
   "cell_type": "code",
   "execution_count": 24,
   "metadata": {},
   "outputs": [
    {
     "data": {
      "text/plain": [
       "1230"
      ]
     },
     "execution_count": 24,
     "metadata": {},
     "output_type": "execute_result"
    }
   ],
   "source": [
    "len(words)  "
   ]
  },
  {
   "cell_type": "code",
   "execution_count": 25,
   "metadata": {},
   "outputs": [
    {
     "data": {
      "text/plain": [
       "['$', '(', ')', '+', ',', '-', '.']"
      ]
     },
     "execution_count": 25,
     "metadata": {},
     "output_type": "execute_result"
    }
   ],
   "source": [
    "words[:7]  "
   ]
  },
  {
   "cell_type": "markdown",
   "metadata": {},
   "source": [
    "### Improved Tokenization and Vocabulary"
   ]
  },
  {
   "cell_type": "code",
   "execution_count": 26,
   "metadata": {},
   "outputs": [],
   "source": [
    "t = 'A sentence about NLP; and about ML.'"
   ]
  },
  {
   "cell_type": "code",
   "execution_count": 27,
   "metadata": {},
   "outputs": [
    {
     "data": {
      "text/plain": [
       "['sentence', 'NLP']"
      ]
     },
     "execution_count": 27,
     "metadata": {},
     "output_type": "execute_result"
    }
   ],
   "source": [
    "tokens = nlp.tokenize(t, min_char=3)\n",
    "tokens"
   ]
  },
  {
   "cell_type": "code",
   "execution_count": 28,
   "metadata": {},
   "outputs": [
    {
     "name": "stdout",
     "output_type": "stream",
     "text": [
      "CPU times: user 68.8 ms, sys: 0 ns, total: 68.8 ms\n",
      "Wall time: 67.8 ms\n"
     ]
    }
   ],
   "source": [
    "%time tokens = nlp.tokenize(' '.join(data))  "
   ]
  },
  {
   "cell_type": "code",
   "execution_count": 29,
   "metadata": {},
   "outputs": [
    {
     "data": {
      "text/plain": [
       "['ipad', 'all-screen', 'designis', 'advance', 'powerful', 'ipad', 'ever']"
      ]
     },
     "execution_count": 29,
     "metadata": {},
     "output_type": "execute_result"
    }
   ],
   "source": [
    "tokens[:7]  "
   ]
  },
  {
   "cell_type": "code",
   "execution_count": 30,
   "metadata": {},
   "outputs": [],
   "source": [
    "words = sorted(set([w.lower() for w in tokens]))  "
   ]
  },
  {
   "cell_type": "code",
   "execution_count": 31,
   "metadata": {},
   "outputs": [
    {
     "data": {
      "text/plain": [
       "997"
      ]
     },
     "execution_count": 31,
     "metadata": {},
     "output_type": "execute_result"
    }
   ],
   "source": [
    "len(words)  "
   ]
  },
  {
   "cell_type": "code",
   "execution_count": 32,
   "metadata": {},
   "outputs": [
    {
     "data": {
      "text/plain": [
       "['.61', '1,149', '1,199', '1-800-my-apple', '1.5tb', '1.6ghz']"
      ]
     },
     "execution_count": 32,
     "metadata": {},
     "output_type": "execute_result"
    }
   ],
   "source": [
    "words[:6]  "
   ]
  },
  {
   "cell_type": "markdown",
   "metadata": {},
   "source": [
    "## Similarity"
   ]
  },
  {
   "cell_type": "code",
   "execution_count": 33,
   "metadata": {},
   "outputs": [],
   "source": [
    "import pandas as pd\n",
    "from sklearn.feature_extraction.text import TfidfVectorizer"
   ]
  },
  {
   "cell_type": "code",
   "execution_count": 34,
   "metadata": {},
   "outputs": [],
   "source": [
    "ts = [\n",
    "    'A sentence about NLP; and about ML.',\n",
    "    'Another one about NLP and algorithms.',\n",
    "    'A text fragment about Apple.'\n",
    "]  "
   ]
  },
  {
   "cell_type": "code",
   "execution_count": 35,
   "metadata": {},
   "outputs": [],
   "source": [
    "vec = TfidfVectorizer(stop_words='english')  "
   ]
  },
  {
   "cell_type": "code",
   "execution_count": 36,
   "metadata": {},
   "outputs": [],
   "source": [
    "mat = vec.fit_transform(ts)  "
   ]
  },
  {
   "cell_type": "code",
   "execution_count": 37,
   "metadata": {},
   "outputs": [
    {
     "data": {
      "text/plain": [
       "array([[0.   , 0.   , 0.   , 0.623, 0.474, 0.623, 0.   ],\n",
       "       [0.796, 0.   , 0.   , 0.   , 0.605, 0.   , 0.   ],\n",
       "       [0.   , 0.577, 0.577, 0.   , 0.   , 0.   , 0.577]])"
      ]
     },
     "execution_count": 37,
     "metadata": {},
     "output_type": "execute_result"
    }
   ],
   "source": [
    "mat.A.round(3)  "
   ]
  },
  {
   "cell_type": "code",
   "execution_count": 38,
   "metadata": {},
   "outputs": [],
   "source": [
    "df = pd.DataFrame(mat.A, columns=vec.get_feature_names())  "
   ]
  },
  {
   "cell_type": "code",
   "execution_count": 39,
   "metadata": {},
   "outputs": [
    {
     "data": {
      "text/html": [
       "<div>\n",
       "<style scoped>\n",
       "    .dataframe tbody tr th:only-of-type {\n",
       "        vertical-align: middle;\n",
       "    }\n",
       "\n",
       "    .dataframe tbody tr th {\n",
       "        vertical-align: top;\n",
       "    }\n",
       "\n",
       "    .dataframe thead th {\n",
       "        text-align: right;\n",
       "    }\n",
       "</style>\n",
       "<table border=\"1\" class=\"dataframe\">\n",
       "  <thead>\n",
       "    <tr style=\"text-align: right;\">\n",
       "      <th></th>\n",
       "      <th>algorithms</th>\n",
       "      <th>apple</th>\n",
       "      <th>fragment</th>\n",
       "      <th>ml</th>\n",
       "      <th>nlp</th>\n",
       "      <th>sentence</th>\n",
       "      <th>text</th>\n",
       "    </tr>\n",
       "  </thead>\n",
       "  <tbody>\n",
       "    <tr>\n",
       "      <th>0</th>\n",
       "      <td>0.000</td>\n",
       "      <td>0.000</td>\n",
       "      <td>0.000</td>\n",
       "      <td>0.623</td>\n",
       "      <td>0.474</td>\n",
       "      <td>0.623</td>\n",
       "      <td>0.000</td>\n",
       "    </tr>\n",
       "    <tr>\n",
       "      <th>1</th>\n",
       "      <td>0.796</td>\n",
       "      <td>0.000</td>\n",
       "      <td>0.000</td>\n",
       "      <td>0.000</td>\n",
       "      <td>0.605</td>\n",
       "      <td>0.000</td>\n",
       "      <td>0.000</td>\n",
       "    </tr>\n",
       "    <tr>\n",
       "      <th>2</th>\n",
       "      <td>0.000</td>\n",
       "      <td>0.577</td>\n",
       "      <td>0.577</td>\n",
       "      <td>0.000</td>\n",
       "      <td>0.000</td>\n",
       "      <td>0.000</td>\n",
       "      <td>0.577</td>\n",
       "    </tr>\n",
       "  </tbody>\n",
       "</table>\n",
       "</div>"
      ],
      "text/plain": [
       "   algorithms  apple  fragment     ml    nlp  sentence   text\n",
       "0       0.000  0.000     0.000  0.623  0.474     0.623  0.000\n",
       "1       0.796  0.000     0.000  0.000  0.605     0.000  0.000\n",
       "2       0.000  0.577     0.577  0.000  0.000     0.000  0.577"
      ]
     },
     "execution_count": 39,
     "metadata": {},
     "output_type": "execute_result"
    }
   ],
   "source": [
    "df.round(3)  "
   ]
  },
  {
   "cell_type": "code",
   "execution_count": 40,
   "metadata": {},
   "outputs": [
    {
     "data": {
      "text/plain": [
       "array([[1.        , 0.28671097, 0.        ],\n",
       "       [0.28671097, 1.        , 0.        ],\n",
       "       [0.        , 0.        , 1.        ]])"
      ]
     },
     "execution_count": 40,
     "metadata": {},
     "output_type": "execute_result"
    }
   ],
   "source": [
    "(mat * mat.T).A  "
   ]
  },
  {
   "cell_type": "code",
   "execution_count": 41,
   "metadata": {},
   "outputs": [],
   "source": [
    "tl = [' '.join(nlp.tokenize(t)) for t in data]  "
   ]
  },
  {
   "cell_type": "code",
   "execution_count": 42,
   "metadata": {},
   "outputs": [
    {
     "data": {
      "text/plain": [
       "<3x902 sparse matrix of type '<class 'numpy.float64'>'\n",
       "\twith 1514 stored elements in Compressed Sparse Row format>"
      ]
     },
     "execution_count": 42,
     "metadata": {},
     "output_type": "execute_result"
    }
   ],
   "source": [
    "mat = vec.fit_transform(tl)  \n",
    "mat  "
   ]
  },
  {
   "cell_type": "code",
   "execution_count": 43,
   "metadata": {},
   "outputs": [
    {
     "data": {
      "text/plain": [
       "array([[1.        , 0.40518205, 0.34496952],\n",
       "       [0.40518205, 1.        , 0.47562226],\n",
       "       [0.34496952, 0.47562226, 1.        ]])"
      ]
     },
     "execution_count": 43,
     "metadata": {},
     "output_type": "execute_result"
    }
   ],
   "source": [
    "sm = (mat * mat.T).A  \n",
    "sm  "
   ]
  },
  {
   "cell_type": "code",
   "execution_count": 44,
   "metadata": {},
   "outputs": [],
   "source": [
    "prs = ['ipad', 'air', 'mini']  "
   ]
  },
  {
   "cell_type": "code",
   "execution_count": 45,
   "metadata": {},
   "outputs": [],
   "source": [
    "df = pd.DataFrame(sm, index=prs, columns=prs)  "
   ]
  },
  {
   "cell_type": "code",
   "execution_count": 46,
   "metadata": {},
   "outputs": [
    {
     "data": {
      "text/html": [
       "<div>\n",
       "<style scoped>\n",
       "    .dataframe tbody tr th:only-of-type {\n",
       "        vertical-align: middle;\n",
       "    }\n",
       "\n",
       "    .dataframe tbody tr th {\n",
       "        vertical-align: top;\n",
       "    }\n",
       "\n",
       "    .dataframe thead th {\n",
       "        text-align: right;\n",
       "    }\n",
       "</style>\n",
       "<table border=\"1\" class=\"dataframe\">\n",
       "  <thead>\n",
       "    <tr style=\"text-align: right;\">\n",
       "      <th></th>\n",
       "      <th>ipad</th>\n",
       "      <th>air</th>\n",
       "      <th>mini</th>\n",
       "    </tr>\n",
       "  </thead>\n",
       "  <tbody>\n",
       "    <tr>\n",
       "      <th>ipad</th>\n",
       "      <td>1.000000</td>\n",
       "      <td>0.405182</td>\n",
       "      <td>0.344970</td>\n",
       "    </tr>\n",
       "    <tr>\n",
       "      <th>air</th>\n",
       "      <td>0.405182</td>\n",
       "      <td>1.000000</td>\n",
       "      <td>0.475622</td>\n",
       "    </tr>\n",
       "    <tr>\n",
       "      <th>mini</th>\n",
       "      <td>0.344970</td>\n",
       "      <td>0.475622</td>\n",
       "      <td>1.000000</td>\n",
       "    </tr>\n",
       "  </tbody>\n",
       "</table>\n",
       "</div>"
      ],
      "text/plain": [
       "          ipad       air      mini\n",
       "ipad  1.000000  0.405182  0.344970\n",
       "air   0.405182  1.000000  0.475622\n",
       "mini  0.344970  0.475622  1.000000"
      ]
     },
     "execution_count": 46,
     "metadata": {},
     "output_type": "execute_result"
    }
   ],
   "source": [
    "df  "
   ]
  },
  {
   "cell_type": "markdown",
   "metadata": {},
   "source": [
    "## Word Clouds"
   ]
  },
  {
   "cell_type": "code",
   "execution_count": 47,
   "metadata": {
    "scrolled": false
   },
   "outputs": [
    {
     "data": {
      "image/png": "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